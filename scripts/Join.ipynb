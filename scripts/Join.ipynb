{
 "cells": [
  {
   "cell_type": "code",
   "execution_count": 1,
   "id": "3b4bb0eb-6c7f-42f4-ab58-7a72eba86f1f",
   "metadata": {},
   "outputs": [
    {
     "name": "stdout",
     "output_type": "stream",
     "text": [
      "Starting Spark application\n"
     ]
    },
    {
     "data": {
      "text/html": [
       "<table>\n",
       "<tr><th>ID</th><th>YARN Application ID</th><th>Kind</th><th>State</th><th>Spark UI</th><th>Driver log</th><th>User</th><th>Current session?</th></tr><tr><td>2</td><td>None</td><td>pyspark</td><td>idle</td><td></td><td></td><td>None</td><td>✔</td></tr></table>"
      ],
      "text/plain": [
       "<IPython.core.display.HTML object>"
      ]
     },
     "metadata": {},
     "output_type": "display_data"
    },
    {
     "data": {
      "application/vnd.jupyter.widget-view+json": {
       "model_id": "",
       "version_major": 2,
       "version_minor": 0
      },
      "text/plain": [
       "FloatProgress(value=0.0, bar_style='info', description='Progress:', layout=Layout(height='25px', width='50%'),…"
      ]
     },
     "metadata": {},
     "output_type": "display_data"
    },
    {
     "name": "stdout",
     "output_type": "stream",
     "text": [
      "SparkSession available as 'spark'.\n"
     ]
    },
    {
     "data": {
      "application/vnd.jupyter.widget-view+json": {
       "model_id": "",
       "version_major": 2,
       "version_minor": 0
      },
      "text/plain": [
       "FloatProgress(value=0.0, bar_style='info', description='Progress:', layout=Layout(height='25px', width='50%'),…"
      ]
     },
     "metadata": {},
     "output_type": "display_data"
    }
   ],
   "source": [
    "from pyspark.sql import SparkSession\n",
    "from pyspark.sql.functions import col, lit"
   ]
  },
  {
   "cell_type": "code",
   "execution_count": 2,
   "id": "2500002d-d5b5-48a3-a8e9-0ad7940aa77b",
   "metadata": {},
   "outputs": [
    {
     "data": {
      "application/vnd.jupyter.widget-view+json": {
       "model_id": "",
       "version_major": 2,
       "version_minor": 0
      },
      "text/plain": [
       "FloatProgress(value=0.0, bar_style='info', description='Progress:', layout=Layout(height='25px', width='50%'),…"
      ]
     },
     "metadata": {},
     "output_type": "display_data"
    },
    {
     "name": "stdout",
     "output_type": "stream",
     "text": [
      "<pyspark.sql.session.SparkSession object at 0x7fa4b1828100>"
     ]
    }
   ],
   "source": [
    "spark"
   ]
  },
  {
   "cell_type": "code",
   "execution_count": 3,
   "id": "87cc00ff-2242-42f5-b192-684fff1bd726",
   "metadata": {},
   "outputs": [
    {
     "data": {
      "application/vnd.jupyter.widget-view+json": {
       "model_id": "",
       "version_major": 2,
       "version_minor": 0
      },
      "text/plain": [
       "FloatProgress(value=0.0, bar_style='info', description='Progress:', layout=Layout(height='25px', width='50%'),…"
      ]
     },
     "metadata": {},
     "output_type": "display_data"
    }
   ],
   "source": [
    "sc = spark.sparkContext"
   ]
  },
  {
   "cell_type": "code",
   "execution_count": 4,
   "id": "249fd456-9713-430a-a6d9-6b9120e6c95c",
   "metadata": {},
   "outputs": [
    {
     "data": {
      "application/vnd.jupyter.widget-view+json": {
       "model_id": "",
       "version_major": 2,
       "version_minor": 0
      },
      "text/plain": [
       "FloatProgress(value=0.0, bar_style='info', description='Progress:', layout=Layout(height='25px', width='50%'),…"
      ]
     },
     "metadata": {},
     "output_type": "display_data"
    },
    {
     "name": "stdout",
     "output_type": "stream",
     "text": [
      "<SparkContext master=local appName=livy-session-2>"
     ]
    }
   ],
   "source": [
    "sc"
   ]
  },
  {
   "cell_type": "code",
   "execution_count": 15,
   "id": "b2f38a0d-40d3-4d11-8688-20f0f25b3451",
   "metadata": {},
   "outputs": [
    {
     "data": {
      "application/vnd.jupyter.widget-view+json": {
       "model_id": "",
       "version_major": 2,
       "version_minor": 0
      },
      "text/plain": [
       "FloatProgress(value=0.0, bar_style='info', description='Progress:', layout=Layout(height='25px', width='50%'),…"
      ]
     },
     "metadata": {},
     "output_type": "display_data"
    }
   ],
   "source": [
    "emp_data = [\n",
    "    (1, \"John\", 101),\n",
    "    (2, \"Mike\", 102),\n",
    "    (3, \"Sara\", 103),\n",
    "    (4, \"Nina\", None),\n",
    "    (5, \"Tom\", None),\n",
    "    (6, \"Emma\", 101),\n",
    "    (7, \"Chris\", 102),\n",
    "    (8, \"Sophia\", 104),\n",
    "    (9, \"David\", None),\n",
    "    (10, \"Liam\", 102)]"
   ]
  },
  {
   "cell_type": "code",
   "execution_count": 16,
   "id": "ffbaea9a-8083-4438-9ba4-0446a98cd64d",
   "metadata": {},
   "outputs": [
    {
     "data": {
      "application/vnd.jupyter.widget-view+json": {
       "model_id": "",
       "version_major": 2,
       "version_minor": 0
      },
      "text/plain": [
       "FloatProgress(value=0.0, bar_style='info', description='Progress:', layout=Layout(height='25px', width='50%'),…"
      ]
     },
     "metadata": {},
     "output_type": "display_data"
    }
   ],
   "source": [
    "dept_data = [(101, \"HR\"), (102, \"Finance\"), (103, \"IT\"), (104, \"Marketing\")]"
   ]
  },
  {
   "cell_type": "code",
   "execution_count": 17,
   "id": "18c393c0-62b0-4550-a41b-d1a9cae16f78",
   "metadata": {},
   "outputs": [
    {
     "data": {
      "application/vnd.jupyter.widget-view+json": {
       "model_id": "",
       "version_major": 2,
       "version_minor": 0
      },
      "text/plain": [
       "FloatProgress(value=0.0, bar_style='info', description='Progress:', layout=Layout(height='25px', width='50%'),…"
      ]
     },
     "metadata": {},
     "output_type": "display_data"
    }
   ],
   "source": [
    "employees = spark.createDataFrame(emp_data, [\"emp_id\", \"name\", \"dept_id\"])"
   ]
  },
  {
   "cell_type": "code",
   "execution_count": 18,
   "id": "3e61a005-bef7-48a5-9487-d80c410cdb47",
   "metadata": {},
   "outputs": [
    {
     "data": {
      "application/vnd.jupyter.widget-view+json": {
       "model_id": "",
       "version_major": 2,
       "version_minor": 0
      },
      "text/plain": [
       "FloatProgress(value=0.0, bar_style='info', description='Progress:', layout=Layout(height='25px', width='50%'),…"
      ]
     },
     "metadata": {},
     "output_type": "display_data"
    }
   ],
   "source": [
    "departments = spark.createDataFrame(dept_data, [\"dept_id\", \"dept_name\"])"
   ]
  },
  {
   "cell_type": "markdown",
   "id": "262bed5a-8f24-4b59-a922-6df178aeee81",
   "metadata": {},
   "source": [
    "### Inner Join"
   ]
  },
  {
   "cell_type": "code",
   "execution_count": 19,
   "id": "af505cad-f357-4f8d-a8f2-fde7c89b21b2",
   "metadata": {},
   "outputs": [
    {
     "data": {
      "application/vnd.jupyter.widget-view+json": {
       "model_id": "",
       "version_major": 2,
       "version_minor": 0
      },
      "text/plain": [
       "FloatProgress(value=0.0, bar_style='info', description='Progress:', layout=Layout(height='25px', width='50%'),…"
      ]
     },
     "metadata": {},
     "output_type": "display_data"
    },
    {
     "name": "stdout",
     "output_type": "stream",
     "text": [
      "+-------+------+------+---------+\n",
      "|dept_id|emp_id|  name|dept_name|\n",
      "+-------+------+------+---------+\n",
      "|    101|     1|  John|       HR|\n",
      "|    101|     6|  Emma|       HR|\n",
      "|    102|     2|  Mike|  Finance|\n",
      "|    102|     7| Chris|  Finance|\n",
      "|    102|    10|  Liam|  Finance|\n",
      "|    103|     3|  Sara|       IT|\n",
      "|    104|     8|Sophia|Marketing|\n",
      "+-------+------+------+---------+"
     ]
    }
   ],
   "source": [
    "employees.join(departments, \"dept_id\", \"inner\").show()"
   ]
  },
  {
   "cell_type": "markdown",
   "id": "33e3e4c6-544b-4fea-b075-d5423c604813",
   "metadata": {},
   "source": [
    "### Left Join"
   ]
  },
  {
   "cell_type": "code",
   "execution_count": 20,
   "id": "0b83c53e-04be-428d-ba0c-c76c68ea4c8e",
   "metadata": {},
   "outputs": [
    {
     "data": {
      "application/vnd.jupyter.widget-view+json": {
       "model_id": "",
       "version_major": 2,
       "version_minor": 0
      },
      "text/plain": [
       "FloatProgress(value=0.0, bar_style='info', description='Progress:', layout=Layout(height='25px', width='50%'),…"
      ]
     },
     "metadata": {},
     "output_type": "display_data"
    },
    {
     "name": "stdout",
     "output_type": "stream",
     "text": [
      "+-------+------+------+---------+\n",
      "|dept_id|emp_id|  name|dept_name|\n",
      "+-------+------+------+---------+\n",
      "|   null|     4|  Nina|     null|\n",
      "|   null|     5|   Tom|     null|\n",
      "|   null|     9| David|     null|\n",
      "|    103|     3|  Sara|       IT|\n",
      "|    104|     8|Sophia|Marketing|\n",
      "|    102|     2|  Mike|  Finance|\n",
      "|    102|     7| Chris|  Finance|\n",
      "|    102|    10|  Liam|  Finance|\n",
      "|    101|     1|  John|       HR|\n",
      "|    101|     6|  Emma|       HR|\n",
      "+-------+------+------+---------+"
     ]
    }
   ],
   "source": [
    "employees.join(departments, \"dept_id\", \"left\").show()"
   ]
  },
  {
   "cell_type": "markdown",
   "id": "5e9a8e3b-fa26-4d2e-b6fc-7d26c4f8f9e8",
   "metadata": {},
   "source": [
    "### Left Semi Join"
   ]
  },
  {
   "cell_type": "code",
   "execution_count": 22,
   "id": "13d11dcc-8cec-4b4b-af84-8d6338f4ac7b",
   "metadata": {},
   "outputs": [
    {
     "data": {
      "application/vnd.jupyter.widget-view+json": {
       "model_id": "",
       "version_major": 2,
       "version_minor": 0
      },
      "text/plain": [
       "FloatProgress(value=0.0, bar_style='info', description='Progress:', layout=Layout(height='25px', width='50%'),…"
      ]
     },
     "metadata": {},
     "output_type": "display_data"
    },
    {
     "name": "stdout",
     "output_type": "stream",
     "text": [
      "+-------+------+------+\n",
      "|dept_id|emp_id|  name|\n",
      "+-------+------+------+\n",
      "|    101|     1|  John|\n",
      "|    101|     6|  Emma|\n",
      "|    102|     2|  Mike|\n",
      "|    102|     7| Chris|\n",
      "|    102|    10|  Liam|\n",
      "|    103|     3|  Sara|\n",
      "|    104|     8|Sophia|\n",
      "+-------+------+------+"
     ]
    }
   ],
   "source": [
    "employees.join(departments, \"dept_id\", \"left_semi\").show()"
   ]
  },
  {
   "cell_type": "markdown",
   "id": "e9ac33a5-84c0-43ab-802d-3508fb16de17",
   "metadata": {},
   "source": [
    "### Left Anti Join"
   ]
  },
  {
   "cell_type": "code",
   "execution_count": null,
   "id": "2de90b40-7dad-4909-8fe2-0f8ee38de8ab",
   "metadata": {},
   "outputs": [],
   "source": [
    "employees.join(departments, \"dept_id\", \"left_anti\").show()"
   ]
  },
  {
   "cell_type": "markdown",
   "id": "0b891f5c-6f78-445e-b8f5-bacbdaeeff30",
   "metadata": {},
   "source": [
    "### Right Join"
   ]
  },
  {
   "cell_type": "code",
   "execution_count": 27,
   "id": "df0c8497-acf2-42d9-9b1a-1fd510fce68a",
   "metadata": {},
   "outputs": [
    {
     "data": {
      "application/vnd.jupyter.widget-view+json": {
       "model_id": "",
       "version_major": 2,
       "version_minor": 0
      },
      "text/plain": [
       "FloatProgress(value=0.0, bar_style='info', description='Progress:', layout=Layout(height='25px', width='50%'),…"
      ]
     },
     "metadata": {},
     "output_type": "display_data"
    },
    {
     "name": "stdout",
     "output_type": "stream",
     "text": [
      "+-------+------+------+---------+\n",
      "|dept_id|emp_id|  name|dept_name|\n",
      "+-------+------+------+---------+\n",
      "|    103|     3|  Sara|       IT|\n",
      "|    104|     8|Sophia|Marketing|\n",
      "|    102|    10|  Liam|  Finance|\n",
      "|    102|     7| Chris|  Finance|\n",
      "|    102|     2|  Mike|  Finance|\n",
      "|    101|     6|  Emma|       HR|\n",
      "|    101|     1|  John|       HR|\n",
      "+-------+------+------+---------+"
     ]
    }
   ],
   "source": [
    "employees.join(departments, \"dept_id\", \"right\").show()"
   ]
  },
  {
   "cell_type": "markdown",
   "id": "6ff8d315-bf46-4db7-9f2a-71dd0baab6fa",
   "metadata": {},
   "source": [
    "### Right Semi Join"
   ]
  },
  {
   "cell_type": "code",
   "execution_count": null,
   "id": "fb6210b2-c652-4126-898e-c07a075db1c1",
   "metadata": {},
   "outputs": [],
   "source": [
    "employees.join(departments, \"dept_id\", \"right\").show()"
   ]
  }
 ],
 "metadata": {
  "kernelspec": {
   "display_name": "PySpark",
   "language": "python",
   "name": "pysparkkernel"
  },
  "language_info": {
   "codemirror_mode": {
    "name": "python",
    "version": 3
   },
   "file_extension": ".py",
   "mimetype": "text/x-python",
   "name": "pyspark",
   "pygments_lexer": "python3"
  }
 },
 "nbformat": 4,
 "nbformat_minor": 5
}
