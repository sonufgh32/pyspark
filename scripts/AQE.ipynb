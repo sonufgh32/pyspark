{
 "cells": [
  {
   "cell_type": "code",
   "execution_count": 55,
   "id": "f8b0d5d7-7ffe-48ec-842d-727e9f417ef3",
   "metadata": {},
   "outputs": [
    {
     "data": {
      "application/vnd.jupyter.widget-view+json": {
       "model_id": "",
       "version_major": 2,
       "version_minor": 0
      },
      "text/plain": [
       "FloatProgress(value=0.0, bar_style='info', description='Progress:', layout=Layout(height='25px', width='50%'),…"
      ]
     },
     "metadata": {},
     "output_type": "display_data"
    }
   ],
   "source": [
    "from pyspark.sql import SparkSession\n",
    "from pyspark.sql.functions import col"
   ]
  },
  {
   "cell_type": "code",
   "execution_count": 32,
   "id": "8f3b3c66-1b40-4560-8b29-bfdca94cc4cc",
   "metadata": {},
   "outputs": [
    {
     "data": {
      "application/vnd.jupyter.widget-view+json": {
       "model_id": "",
       "version_major": 2,
       "version_minor": 0
      },
      "text/plain": [
       "FloatProgress(value=0.0, bar_style='info', description='Progress:', layout=Layout(height='25px', width='50%'),…"
      ]
     },
     "metadata": {},
     "output_type": "display_data"
    }
   ],
   "source": [
    "spark.conf.set(\"spark.sql.adaptive.enabled\", \"true\") # Enable Adaptive Query Execution"
   ]
  },
  {
   "cell_type": "markdown",
   "id": "ee5edb4b-567f-405b-bba0-1464ebb35340",
   "metadata": {},
   "source": [
    "### spark.sql.adaptive.coalescePartitions.enabled"
   ]
  },
  {
   "cell_type": "code",
   "execution_count": 39,
   "id": "96865bee-7a82-44b1-8982-ba951cc87c73",
   "metadata": {},
   "outputs": [
    {
     "data": {
      "application/vnd.jupyter.widget-view+json": {
       "model_id": "",
       "version_major": 2,
       "version_minor": 0
      },
      "text/plain": [
       "FloatProgress(value=0.0, bar_style='info', description='Progress:', layout=Layout(height='25px', width='50%'),…"
      ]
     },
     "metadata": {},
     "output_type": "display_data"
    }
   ],
   "source": [
    "spark.conf.set(\"spark.sql.adaptive.coalescePartitions.enabled\", \"false\")"
   ]
  },
  {
   "cell_type": "markdown",
   "id": "90a3aea7-6b2e-4c3e-954e-3888cbcc1e8b",
   "metadata": {},
   "source": [
    "##### When enabled, Spark dynamically reduces the number of shuffle partitions at runtime based on the actual size of data. Normally, spark.sql.shuffle.partitions is fixed (default = 200). If your data is much smaller or larger than expected, the number of partitions may be inefficient (too many tiny files or too few huge partitions)."
   ]
  },
  {
   "cell_type": "markdown",
   "id": "2a77f9cd-390d-4e14-b7db-f440b7fd39e2",
   "metadata": {},
   "source": [
    "##### df.repartition(N) is a pre-shuffle hint: it tells Spark how many partitions to use before a shuffle.\n",
    "##### With AQE + coalescePartitions, Spark reoptimizes the shuffle stage after execution stats are collected.\n",
    "##### If Spark finds that some partitions are too small, it will coalesce them (merge into fewer partitions).\n",
    "##### So the final partition count after shuffle may be different from what you requested."
   ]
  },
  {
   "cell_type": "code",
   "execution_count": 41,
   "id": "3e5026e4-1740-41ba-a732-754cbbc1d1ab",
   "metadata": {},
   "outputs": [
    {
     "data": {
      "application/vnd.jupyter.widget-view+json": {
       "model_id": "",
       "version_major": 2,
       "version_minor": 0
      },
      "text/plain": [
       "FloatProgress(value=0.0, bar_style='info', description='Progress:', layout=Layout(height='25px', width='50%'),…"
      ]
     },
     "metadata": {},
     "output_type": "display_data"
    }
   ],
   "source": [
    "df = spark.range(0, 1000).repartition(50)"
   ]
  },
  {
   "cell_type": "code",
   "execution_count": 42,
   "id": "f744769f-651d-4138-aa25-4ab3884f2b16",
   "metadata": {},
   "outputs": [
    {
     "data": {
      "application/vnd.jupyter.widget-view+json": {
       "model_id": "",
       "version_major": 2,
       "version_minor": 0
      },
      "text/plain": [
       "FloatProgress(value=0.0, bar_style='info', description='Progress:', layout=Layout(height='25px', width='50%'),…"
      ]
     },
     "metadata": {},
     "output_type": "display_data"
    }
   ],
   "source": [
    "result = df.groupBy(\"id\").count()"
   ]
  },
  {
   "cell_type": "code",
   "execution_count": 43,
   "id": "8d75d668-fe85-4f6a-b10e-e1eb47cf1b79",
   "metadata": {},
   "outputs": [
    {
     "data": {
      "application/vnd.jupyter.widget-view+json": {
       "model_id": "",
       "version_major": 2,
       "version_minor": 0
      },
      "text/plain": [
       "FloatProgress(value=0.0, bar_style='info', description='Progress:', layout=Layout(height='25px', width='50%'),…"
      ]
     },
     "metadata": {},
     "output_type": "display_data"
    },
    {
     "name": "stdout",
     "output_type": "stream",
     "text": [
      "200"
     ]
    }
   ],
   "source": [
    "result.rdd.getNumPartitions()"
   ]
  },
  {
   "cell_type": "code",
   "execution_count": 44,
   "id": "30c226e3-40e3-4a8f-beeb-d4d06fbe59bb",
   "metadata": {},
   "outputs": [
    {
     "data": {
      "application/vnd.jupyter.widget-view+json": {
       "model_id": "",
       "version_major": 2,
       "version_minor": 0
      },
      "text/plain": [
       "FloatProgress(value=0.0, bar_style='info', description='Progress:', layout=Layout(height='25px', width='50%'),…"
      ]
     },
     "metadata": {},
     "output_type": "display_data"
    },
    {
     "name": "stdout",
     "output_type": "stream",
     "text": [
      "50"
     ]
    }
   ],
   "source": [
    "df.rdd.getNumPartitions()"
   ]
  },
  {
   "cell_type": "markdown",
   "id": "032cca37-13cc-4f1b-b152-9dbe7b3c15db",
   "metadata": {},
   "source": [
    "## spark.sql.adaptive.skewJoin.enabled"
   ]
  },
  {
   "cell_type": "markdown",
   "id": "1e8722e0-6909-48c1-bf49-26fcaf4ea7e6",
   "metadata": {},
   "source": [
    "##### This handles data skew during joins. If one partition is much larger than others, Spark splits that skewed partition into smaller chunks and redistributes them, so no single task becomes a bottleneck."
   ]
  },
  {
   "cell_type": "code",
   "execution_count": 67,
   "id": "4cda4871-5ce5-49da-a302-d4a68b00a546",
   "metadata": {},
   "outputs": [
    {
     "data": {
      "application/vnd.jupyter.widget-view+json": {
       "model_id": "",
       "version_major": 2,
       "version_minor": 0
      },
      "text/plain": [
       "FloatProgress(value=0.0, bar_style='info', description='Progress:', layout=Layout(height='25px', width='50%'),…"
      ]
     },
     "metadata": {},
     "output_type": "display_data"
    }
   ],
   "source": [
    "spark.conf.set(\"spark.sql.adaptive.skewJoin.enabled\", \"true\")"
   ]
  },
  {
   "cell_type": "code",
   "execution_count": 68,
   "id": "cddb895b-3b0f-4e28-a0e3-8d57d113e707",
   "metadata": {},
   "outputs": [
    {
     "data": {
      "application/vnd.jupyter.widget-view+json": {
       "model_id": "",
       "version_major": 2,
       "version_minor": 0
      },
      "text/plain": [
       "FloatProgress(value=0.0, bar_style='info', description='Progress:', layout=Layout(height='25px', width='50%'),…"
      ]
     },
     "metadata": {},
     "output_type": "display_data"
    }
   ],
   "source": [
    "df1 = spark.range(0, 1000).withColumnRenamed(\"id\", \"key\")\n",
    "df2 = spark.range(0, 10000).withColumn(\"key\", (col(\"id\") % 2))"
   ]
  },
  {
   "cell_type": "code",
   "execution_count": 69,
   "id": "24ca0159-41da-415c-b8f7-3219fb11df3f",
   "metadata": {},
   "outputs": [
    {
     "data": {
      "application/vnd.jupyter.widget-view+json": {
       "model_id": "",
       "version_major": 2,
       "version_minor": 0
      },
      "text/plain": [
       "FloatProgress(value=0.0, bar_style='info', description='Progress:', layout=Layout(height='25px', width='50%'),…"
      ]
     },
     "metadata": {},
     "output_type": "display_data"
    }
   ],
   "source": [
    "joined = df1.join(df2, on=\"key\")"
   ]
  },
  {
   "cell_type": "code",
   "execution_count": 70,
   "id": "d417f33b-594b-46ff-adb3-739abdf7ae58",
   "metadata": {},
   "outputs": [
    {
     "data": {
      "application/vnd.jupyter.widget-view+json": {
       "model_id": "",
       "version_major": 2,
       "version_minor": 0
      },
      "text/plain": [
       "FloatProgress(value=0.0, bar_style='info', description='Progress:', layout=Layout(height='25px', width='50%'),…"
      ]
     },
     "metadata": {},
     "output_type": "display_data"
    },
    {
     "name": "stdout",
     "output_type": "stream",
     "text": [
      "1"
     ]
    }
   ],
   "source": [
    "df1.rdd.getNumPartitions()"
   ]
  },
  {
   "cell_type": "code",
   "execution_count": 71,
   "id": "90ae9828-b397-4e8a-ab85-fda371a74acf",
   "metadata": {},
   "outputs": [
    {
     "data": {
      "application/vnd.jupyter.widget-view+json": {
       "model_id": "",
       "version_major": 2,
       "version_minor": 0
      },
      "text/plain": [
       "FloatProgress(value=0.0, bar_style='info', description='Progress:', layout=Layout(height='25px', width='50%'),…"
      ]
     },
     "metadata": {},
     "output_type": "display_data"
    },
    {
     "name": "stdout",
     "output_type": "stream",
     "text": [
      "1"
     ]
    }
   ],
   "source": [
    "df2.rdd.getNumPartitions()"
   ]
  },
  {
   "cell_type": "code",
   "execution_count": 72,
   "id": "32df7102-1761-4df8-8418-708172aa305c",
   "metadata": {},
   "outputs": [
    {
     "data": {
      "application/vnd.jupyter.widget-view+json": {
       "model_id": "",
       "version_major": 2,
       "version_minor": 0
      },
      "text/plain": [
       "FloatProgress(value=0.0, bar_style='info', description='Progress:', layout=Layout(height='25px', width='50%'),…"
      ]
     },
     "metadata": {},
     "output_type": "display_data"
    },
    {
     "name": "stdout",
     "output_type": "stream",
     "text": [
      "1"
     ]
    }
   ],
   "source": [
    "joined.rdd.getNumPartitions()"
   ]
  },
  {
   "cell_type": "code",
   "execution_count": 61,
   "id": "16829448-4454-4628-b131-50218fed2c37",
   "metadata": {},
   "outputs": [
    {
     "data": {
      "application/vnd.jupyter.widget-view+json": {
       "model_id": "",
       "version_major": 2,
       "version_minor": 0
      },
      "text/plain": [
       "FloatProgress(value=0.0, bar_style='info', description='Progress:', layout=Layout(height='25px', width='50%'),…"
      ]
     },
     "metadata": {},
     "output_type": "display_data"
    },
    {
     "name": "stdout",
     "output_type": "stream",
     "text": [
      "== Parsed Logical Plan ==\n",
      "'Join UsingJoin(Inner,Buffer(key))\n",
      ":- Project [id#117L AS key#119L]\n",
      ":  +- Range (0, 1000, step=1, splits=Some(1))\n",
      "+- Project [id#121L, (id#121L % cast(2 as bigint)) AS key#123L]\n",
      "   +- Range (0, 10000, step=1, splits=Some(1))\n",
      "\n",
      "== Analyzed Logical Plan ==\n",
      "key: bigint, id: bigint\n",
      "Project [key#119L, id#121L]\n",
      "+- Join Inner, (key#119L = key#123L)\n",
      "   :- Project [id#117L AS key#119L]\n",
      "   :  +- Range (0, 1000, step=1, splits=Some(1))\n",
      "   +- Project [id#121L, (id#121L % cast(2 as bigint)) AS key#123L]\n",
      "      +- Range (0, 10000, step=1, splits=Some(1))\n",
      "\n",
      "== Optimized Logical Plan ==\n",
      "Project [key#119L, id#121L]\n",
      "+- Join Inner, (key#119L = key#123L)\n",
      "   :- Project [id#117L AS key#119L]\n",
      "   :  +- Range (0, 1000, step=1, splits=Some(1))\n",
      "   +- Project [id#121L, (id#121L % 2) AS key#123L]\n",
      "      +- Filter isnotnull((id#121L % 2))\n",
      "         +- Range (0, 10000, step=1, splits=Some(1))\n",
      "\n",
      "== Physical Plan ==\n",
      "AdaptiveSparkPlan isFinalPlan=false\n",
      "+- Project [key#119L, id#121L]\n",
      "   +- BroadcastHashJoin [key#119L], [key#123L], Inner, BuildLeft, false\n",
      "      :- BroadcastExchange HashedRelationBroadcastMode(List(input[0, bigint, false]),false), [id=#529]\n",
      "      :  +- Project [id#117L AS key#119L]\n",
      "      :     +- Range (0, 1000, step=1, splits=1)\n",
      "      +- Project [id#121L, (id#121L % 2) AS key#123L]\n",
      "         +- Filter isnotnull((id#121L % 2))\n",
      "            +- Range (0, 10000, step=1, splits=1)"
     ]
    }
   ],
   "source": [
    "joined.explain(True)"
   ]
  },
  {
   "cell_type": "markdown",
   "id": "2b0bd787-916b-44d3-b0d0-24834d24d549",
   "metadata": {},
   "source": [
    "## spark.sql.adaptive.join.enabled"
   ]
  },
  {
   "cell_type": "markdown",
   "id": "fbb04e83-f351-4e9c-8ca5-1b93d79ef316",
   "metadata": {},
   "source": [
    "##### This lets Spark change the join strategy at runtime (e.g., switch from Sort-Merge Join → Broadcast Hash Join) if actual data sizes are smaller/larger than expected."
   ]
  },
  {
   "cell_type": "code",
   "execution_count": 79,
   "id": "875a8ba1-b6da-49cb-91aa-a099056a7ef5",
   "metadata": {},
   "outputs": [
    {
     "data": {
      "application/vnd.jupyter.widget-view+json": {
       "model_id": "",
       "version_major": 2,
       "version_minor": 0
      },
      "text/plain": [
       "FloatProgress(value=0.0, bar_style='info', description='Progress:', layout=Layout(height='25px', width='50%'),…"
      ]
     },
     "metadata": {},
     "output_type": "display_data"
    }
   ],
   "source": [
    "spark.conf.set(\"spark.sql.adaptive.join.enabled\", \"true\")"
   ]
  },
  {
   "cell_type": "code",
   "execution_count": 80,
   "id": "c28a900e-f7aa-4c17-afe0-507c1dae4f57",
   "metadata": {},
   "outputs": [
    {
     "data": {
      "application/vnd.jupyter.widget-view+json": {
       "model_id": "",
       "version_major": 2,
       "version_minor": 0
      },
      "text/plain": [
       "FloatProgress(value=0.0, bar_style='info', description='Progress:', layout=Layout(height='25px', width='50%'),…"
      ]
     },
     "metadata": {},
     "output_type": "display_data"
    }
   ],
   "source": [
    "small_df = spark.range(0, 100).withColumnRenamed(\"id\", \"key\")"
   ]
  },
  {
   "cell_type": "code",
   "execution_count": 81,
   "id": "8251c946-9eb3-495c-9b65-c322b6d97396",
   "metadata": {},
   "outputs": [
    {
     "data": {
      "application/vnd.jupyter.widget-view+json": {
       "model_id": "",
       "version_major": 2,
       "version_minor": 0
      },
      "text/plain": [
       "FloatProgress(value=0.0, bar_style='info', description='Progress:', layout=Layout(height='25px', width='50%'),…"
      ]
     },
     "metadata": {},
     "output_type": "display_data"
    }
   ],
   "source": [
    "large_df = spark.range(0, 10000000).withColumn(\"key\", (col(\"id\") % 2))"
   ]
  },
  {
   "cell_type": "code",
   "execution_count": 82,
   "id": "e0ba863e-ff26-47eb-96a9-6008f62101ac",
   "metadata": {},
   "outputs": [
    {
     "data": {
      "application/vnd.jupyter.widget-view+json": {
       "model_id": "",
       "version_major": 2,
       "version_minor": 0
      },
      "text/plain": [
       "FloatProgress(value=0.0, bar_style='info', description='Progress:', layout=Layout(height='25px', width='50%'),…"
      ]
     },
     "metadata": {},
     "output_type": "display_data"
    }
   ],
   "source": [
    "joined = small_df.join(large_df, \"key\")"
   ]
  },
  {
   "cell_type": "code",
   "execution_count": 83,
   "id": "70452479-d263-4889-8598-9574161a87a9",
   "metadata": {},
   "outputs": [
    {
     "data": {
      "application/vnd.jupyter.widget-view+json": {
       "model_id": "",
       "version_major": 2,
       "version_minor": 0
      },
      "text/plain": [
       "FloatProgress(value=0.0, bar_style='info', description='Progress:', layout=Layout(height='25px', width='50%'),…"
      ]
     },
     "metadata": {},
     "output_type": "display_data"
    },
    {
     "name": "stdout",
     "output_type": "stream",
     "text": [
      "== Physical Plan ==\n",
      "AdaptiveSparkPlan isFinalPlan=false\n",
      "+- Project [key#161L, id#163L]\n",
      "   +- BroadcastHashJoin [key#161L], [key#165L], Inner, BuildLeft, false\n",
      "      :- BroadcastExchange HashedRelationBroadcastMode(List(input[0, bigint, false]),false), [id=#789]\n",
      "      :  +- Project [id#159L AS key#161L]\n",
      "      :     +- Range (0, 100, step=1, splits=1)\n",
      "      +- Project [id#163L, (id#163L % 2) AS key#165L]\n",
      "         +- Filter isnotnull((id#163L % 2))\n",
      "            +- Range (0, 10000000, step=1, splits=1)"
     ]
    }
   ],
   "source": [
    "joined.explain(False)"
   ]
  },
  {
   "cell_type": "code",
   "execution_count": 87,
   "id": "90071406-01f0-4aeb-bb54-7b48e717e1db",
   "metadata": {},
   "outputs": [
    {
     "data": {
      "application/vnd.jupyter.widget-view+json": {
       "model_id": "",
       "version_major": 2,
       "version_minor": 0
      },
      "text/plain": [
       "FloatProgress(value=0.0, bar_style='info', description='Progress:', layout=Layout(height='25px', width='50%'),…"
      ]
     },
     "metadata": {},
     "output_type": "display_data"
    },
    {
     "name": "stdout",
     "output_type": "stream",
     "text": [
      "== Optimized Logical Plan ==\n",
      "Project [key#161L, id#163L], Statistics(sizeInBytes=67.1 GiB)\n",
      "+- Join Inner, (key#161L = key#165L), Statistics(sizeInBytes=89.4 GiB)\n",
      "   :- Project [id#159L AS key#161L], Statistics(sizeInBytes=800.0 B)\n",
      "   :  +- Range (0, 100, step=1, splits=Some(1)), Statistics(sizeInBytes=800.0 B, rowCount=100)\n",
      "   +- Project [id#163L, (id#163L % 2) AS key#165L], Statistics(sizeInBytes=114.4 MiB)\n",
      "      +- Filter isnotnull((id#163L % 2)), Statistics(sizeInBytes=76.3 MiB)\n",
      "         +- Range (0, 10000000, step=1, splits=Some(1)), Statistics(sizeInBytes=76.3 MiB, rowCount=1.00E+7)\n",
      "\n",
      "== Physical Plan ==\n",
      "AdaptiveSparkPlan isFinalPlan=false\n",
      "+- Project [key#161L, id#163L]\n",
      "   +- BroadcastHashJoin [key#161L], [key#165L], Inner, BuildLeft, false\n",
      "      :- BroadcastExchange HashedRelationBroadcastMode(List(input[0, bigint, false]),false), [id=#789]\n",
      "      :  +- Project [id#159L AS key#161L]\n",
      "      :     +- Range (0, 100, step=1, splits=1)\n",
      "      +- Project [id#163L, (id#163L % 2) AS key#165L]\n",
      "         +- Filter isnotnull((id#163L % 2))\n",
      "            +- Range (0, 10000000, step=1, splits=1)"
     ]
    }
   ],
   "source": [
    "joined.explain(mode=\"cost\") # mode = formatted, codegen, cost"
   ]
  },
  {
   "cell_type": "code",
   "execution_count": null,
   "id": "266535cb-ea23-4051-931e-5ebc4a96670f",
   "metadata": {},
   "outputs": [],
   "source": []
  }
 ],
 "metadata": {
  "kernelspec": {
   "display_name": "PySpark",
   "language": "python",
   "name": "pysparkkernel"
  },
  "language_info": {
   "codemirror_mode": {
    "name": "python",
    "version": 3
   },
   "file_extension": ".py",
   "mimetype": "text/x-python",
   "name": "pyspark",
   "pygments_lexer": "python3"
  }
 },
 "nbformat": 4,
 "nbformat_minor": 5
}
