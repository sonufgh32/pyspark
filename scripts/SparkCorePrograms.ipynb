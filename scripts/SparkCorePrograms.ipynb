{
 "cells": [
  {
   "cell_type": "code",
   "execution_count": 1,
   "id": "9407d109-0130-49bd-bf3d-2f7a2ba59cf5",
   "metadata": {
    "vscode": {
     "languageId": "python"
    }
   },
   "outputs": [
    {
     "data": {
      "application/vnd.jupyter.widget-view+json": {
       "model_id": "85cdfcded2594b78bc00c25c2ac040e2",
       "version_major": 2,
       "version_minor": 0
      },
      "text/plain": [
       "FloatProgress(value=0.0, bar_style='info', description='Progress:', layout=Layout(height='25px', width='50%'),…"
      ]
     },
     "metadata": {},
     "output_type": "display_data"
    }
   ],
   "source": [
    "from pyspark import SparkConf, SparkContext\n",
    "from pyspark import StorageLevel"
   ]
  },
  {
   "cell_type": "code",
   "execution_count": 2,
   "id": "feba3a78-7884-45c0-96fa-2c1bacb08719",
   "metadata": {
    "vscode": {
     "languageId": "python"
    }
   },
   "outputs": [
    {
     "data": {
      "application/vnd.jupyter.widget-view+json": {
       "model_id": "",
       "version_major": 2,
       "version_minor": 0
      },
      "text/plain": [
       "FloatProgress(value=0.0, bar_style='info', description='Progress:', layout=Layout(height='25px', width='50%'),…"
      ]
     },
     "metadata": {},
     "output_type": "display_data"
    }
   ],
   "source": [
    "import random as r\n",
    "import string"
   ]
  },
  {
   "cell_type": "code",
   "execution_count": 3,
   "id": "6386d2bc-5786-41a4-8df1-d72aa5eb59f4",
   "metadata": {
    "vscode": {
     "languageId": "python"
    }
   },
   "outputs": [
    {
     "data": {
      "application/vnd.jupyter.widget-view+json": {
       "model_id": "",
       "version_major": 2,
       "version_minor": 0
      },
      "text/plain": [
       "FloatProgress(value=0.0, bar_style='info', description='Progress:', layout=Layout(height='25px', width='50%'),…"
      ]
     },
     "metadata": {},
     "output_type": "display_data"
    },
    {
     "name": "stdout",
     "output_type": "stream",
     "text": [
      "RDD : [0, 1, 2, 3, 4, 5, 6, 7, 8, 9, 10, 11, 12, 13, 14, 15, 16, 17, 18, 19, 20, 21, 22, 23, 24, 25, 26, 27, 28, 29, 30, 31, 32, 33, 34, 35, 36, 37, 38, 39, 40, 41, 42, 43, 44, 45, 46, 47, 48, 49, 50, 51, 52, 53, 54, 55, 56, 57, 58, 59, 60, 61, 62, 63, 64, 65, 66, 67, 68, 69, 70, 71, 72, 73, 74, 75, 76, 77, 78, 79, 80, 81, 82, 83, 84, 85, 86, 87, 88, 89, 90, 91, 92, 93, 94, 95, 96, 97, 98, 99]\n",
      "Repartitions: 1\n",
      "Type: <class 'pyspark.rdd.RDD'>"
     ]
    }
   ],
   "source": [
    "rdd1 = sc.parallelize([x for x in range(100)])\n",
    "print(f\"RDD : {rdd1.collect()}\")\n",
    "print(f\"Repartitions: {rdd1.getNumPartitions()}\")\n",
    "print(f\"Type: {type(rdd1)}\")"
   ]
  },
  {
   "cell_type": "markdown",
   "id": "91cdb5c9-e613-41f7-8508-dd5519ef4664",
   "metadata": {},
   "source": [
    "## reduce"
   ]
  },
  {
   "cell_type": "code",
   "execution_count": 4,
   "id": "2bba7475-1554-45fc-a44c-fa0e9e2a8e3b",
   "metadata": {
    "vscode": {
     "languageId": "python"
    }
   },
   "outputs": [
    {
     "data": {
      "application/vnd.jupyter.widget-view+json": {
       "model_id": "",
       "version_major": 2,
       "version_minor": 0
      },
      "text/plain": [
       "FloatProgress(value=0.0, bar_style='info', description='Progress:', layout=Layout(height='25px', width='50%'),…"
      ]
     },
     "metadata": {},
     "output_type": "display_data"
    },
    {
     "name": "stdout",
     "output_type": "stream",
     "text": [
      "[8, 48, 15, 19, 32, 46, 39, 41, 39, 7, 47, 4, 29, 24, 11, 22, 18, 46, 24, 30, 6, 2, 19, 25, 27, 32, 30, 23, 42, 47, 50, 50, 49, 43, 19, 25, 49, 8, 11, 5, 25, 27, 9, 31, 44, 32, 2, 13, 5, 50, 19, 29, 20, 47, 6, 14, 46, 36, 8, 43, 38, 29, 13, 39, 8, 38, 23, 36, 49, 13, 12, 14, 44, 5, 43, 41, 35, 24, 3, 18, 35, 33, 23, 18, 9, 27, 5, 7, 38, 45, 13, 23, 42, 15, 8, 44, 45, 10, 34, 12]\n",
      "\n",
      "[(8, 1), (48, 1), (15, 1), (19, 1), (32, 1), (46, 1), (39, 1), (41, 1), (39, 1), (7, 1), (47, 1), (4, 1), (29, 1), (24, 1), (11, 1), (22, 1), (18, 1), (46, 1), (24, 1), (30, 1), (6, 1), (2, 1), (19, 1), (25, 1), (27, 1), (32, 1), (30, 1), (23, 1), (42, 1), (47, 1), (50, 1), (50, 1), (49, 1), (43, 1), (19, 1), (25, 1), (49, 1), (8, 1), (11, 1), (5, 1), (25, 1), (27, 1), (9, 1), (31, 1), (44, 1), (32, 1), (2, 1), (13, 1), (5, 1), (50, 1), (19, 1), (29, 1), (20, 1), (47, 1), (6, 1), (14, 1), (46, 1), (36, 1), (8, 1), (43, 1), (38, 1), (29, 1), (13, 1), (39, 1), (8, 1), (38, 1), (23, 1), (36, 1), (49, 1), (13, 1), (12, 1), (14, 1), (44, 1), (5, 1), (43, 1), (41, 1), (35, 1), (24, 1), (3, 1), (18, 1), (35, 1), (33, 1), (23, 1), (18, 1), (9, 1), (27, 1), (5, 1), (7, 1), (38, 1), (45, 1), (13, 1), (23, 1), (42, 1), (15, 1), (8, 1), (44, 1), (45, 1), (10, 1), (34, 1), (12, 1)]\n",
      "\n",
      "[(8, 5), (48, 1), (32, 3), (4, 1), (24, 3), (44, 3), (20, 1), (36, 2), (12, 2), (41, 2), (29, 3), (25, 3), (49, 3), (5, 4), (9, 2), (13, 4), (33, 1), (45, 2), (46, 3), (22, 1), (18, 3), (30, 2), (6, 2), (2, 2), (42, 2), (50, 3), (14, 2), (38, 3), (10, 1), (34, 1), (15, 2), (19, 4), (39, 3), (7, 2), (47, 3), (11, 2), (27, 3), (23, 4), (43, 3), (31, 1), (35, 2), (3, 1)]"
     ]
    }
   ],
   "source": [
    "rdd2 = sc.parallelize([r.randint(1, 50) for _ in range(100)], 4)\n",
    "print(rdd2.collect(), end='\\n\\n')\n",
    "rdd2 = rdd2.map(lambda x: (x, 1))\n",
    "print(rdd2.collect(), end='\\n\\n')\n",
    "rdd2 = rdd2.reduceByKey(lambda x, y: x + y)\n",
    "print(rdd2.collect(), end='\\n')"
   ]
  },
  {
   "cell_type": "code",
   "execution_count": 5,
   "id": "c0f7e449-5980-4a94-8cae-f22092f5c15c",
   "metadata": {
    "vscode": {
     "languageId": "python"
    }
   },
   "outputs": [
    {
     "data": {
      "application/vnd.jupyter.widget-view+json": {
       "model_id": "",
       "version_major": 2,
       "version_minor": 0
      },
      "text/plain": [
       "FloatProgress(value=0.0, bar_style='info', description='Progress:', layout=Layout(height='25px', width='50%'),…"
      ]
     },
     "metadata": {},
     "output_type": "display_data"
    },
    {
     "name": "stdout",
     "output_type": "stream",
     "text": [
      "2529"
     ]
    }
   ],
   "source": [
    "rdd = sc.parallelize([r.randint(1, 50) for _ in range(100)], 2)\n",
    "count = rdd.reduce(lambda x, y: x + y)\n",
    "print(count)"
   ]
  },
  {
   "cell_type": "code",
   "execution_count": 6,
   "id": "926eebda-dd9b-468f-88af-adc183af3b11",
   "metadata": {
    "vscode": {
     "languageId": "python"
    }
   },
   "outputs": [
    {
     "data": {
      "application/vnd.jupyter.widget-view+json": {
       "model_id": "",
       "version_major": 2,
       "version_minor": 0
      },
      "text/plain": [
       "FloatProgress(value=0.0, bar_style='info', description='Progress:', layout=Layout(height='25px', width='50%'),…"
      ]
     },
     "metadata": {},
     "output_type": "display_data"
    },
    {
     "name": "stdout",
     "output_type": "stream",
     "text": [
      "{15: 21, 12: 27, 3: 23, 11: 26, 49: 15, 24: 18, 42: 26, 50: 20, 21: 25, 32: 28, 6: 21, 10: 20, 44: 14, 25: 23, 31: 18, 17: 16, 41: 22, 14: 24, 34: 20, 33: 15, 18: 23, 38: 20, 29: 21, 43: 24, 2: 19, 23: 14, 20: 17, 46: 28, 39: 18, 30: 19, 1: 25, 22: 21, 16: 17, 5: 20, 40: 26, 36: 16, 48: 18, 26: 13, 37: 16, 4: 14, 27: 17, 9: 18, 19: 18, 45: 23, 8: 26, 7: 12, 28: 17, 13: 26, 35: 14, 47: 18}"
     ]
    }
   ],
   "source": [
    "rdd = sc.parallelize([r.randint(1, 50) for _ in range(1000)], 4)\n",
    "rdd = rdd.map(lambda x: (x, 1)).reduceByKeyLocally(lambda x, y: x + y)\n",
    "print(rdd)"
   ]
  },
  {
   "cell_type": "code",
   "execution_count": 7,
   "id": "475bc9c8-d48f-4ace-897b-e8f268f1da65",
   "metadata": {
    "vscode": {
     "languageId": "python"
    }
   },
   "outputs": [
    {
     "data": {
      "application/vnd.jupyter.widget-view+json": {
       "model_id": "",
       "version_major": 2,
       "version_minor": 0
      },
      "text/plain": [
       "FloatProgress(value=0.0, bar_style='info', description='Progress:', layout=Layout(height='25px', width='50%'),…"
      ]
     },
     "metadata": {},
     "output_type": "display_data"
    },
    {
     "name": "stdout",
     "output_type": "stream",
     "text": [
      "vijjqdotdnbxqonbzcktyojohzilcgvvepbiqyfhdzznbvgcmpyehabdsokwyacviuzvnckajmtkmncxoityboavaqlkdlcrynwmpnxdiykvgxdjgtvkehyfkhgrtdghyfidzhrstqxhgedvuggexedgwdavgahqieubzgruikzpcpxlgbplbqfpbvesuxjnykgwrcfnvwzcegoxwzcparaccdopwttnkgbpqcqqwjlecblcgagnxwrdmdwnsfidmcmzcixkqiibwpqldeypiyxgunkdsgmslwbpbrazvbswuqlpspheeuklratykaxzvtllethwmivsdpfobdnuprtrvxqboixyenckloiumfdeezomsjsexmswhnzrpivsgksgqhdfrfvrvdaljxjpszxxuvjedwhdipwryxerkrytcuddtskaptlhjceeanviniqsjrhobsksfzqnfevwdihlfmnhovzcwqxatalchdclwyigyaacgchhzcflnilmtzwfrajjlxcbdafvngzedsakqbcocosxcidhcodgnabifdubfqyzgyvzjkayfddvedhrrqageqtsxklooerpkdxovluiycckdzmtifjamembteenmjuihlvbgewzzinbqpdvllfhvlynhxxrgngkijdrdwdpntisqycxdeysjvyamfyqfqhfcpbzdawjwkvdvacbpqaihdlrfkhogccnfmnpzleyctxxjntvurymjjytokmrrpekvckejjugfrlvcgfdurwwoacdsyuryfwxjfxcfvvvnpretktusdaqfolnzsuzhjemmuidkhbuhcbhdtuifmevcensddpkpwwkluxriytbcpirkylqvximfwyitbyhnowfkwjxgnsqfpjdcgerlctvqlfjfoytfxiugkcizfqiqhfbbrkkccpdydzjxwjicwuusneiadbapnyfmwppbbkssgwtsxgxxujythygyjuflbqosbfaaklh\n",
      "\n",
      "[('i', 44), ('b', 39), ('c', 53), ('y', 42), ('l', 38), ('g', 40), ('p', 37), ('s', 34), ('r', 36), ('x', 40), ('z', 32), ('e', 41), ('m', 27), ('a', 37), ('w', 37), ('j', 35), ('d', 58), ('h', 37), ('v', 43), ('q', 34), ('o', 28), ('t', 34), ('n', 38), ('k', 42), ('f', 44), ('u', 30)]\n",
      "\n",
      "{'v': 43, 'i': 44, 'j': 35, 'q': 34, 'd': 58, 'o': 28, 't': 34, 'n': 38, 'b': 39, 'x': 40, 'z': 32, 'c': 53, 'k': 42, 'y': 42, 'h': 37, 'l': 38, 'g': 40, 'e': 41, 'p': 37, 'f': 44, 'm': 27, 'a': 37, 's': 34, 'w': 37, 'u': 30, 'r': 36}"
     ]
    }
   ],
   "source": [
    "rdd = sc.parallelize([string.ascii_lowercase[r.randint(0, 25)] for _ in range(1000)], 4)\n",
    "res1 = rdd.reduce(lambda x, y: x + y)\n",
    "print(res1, end='\\n\\n')\n",
    "res2 = rdd.map(lambda x: (x, 1)).reduceByKey(lambda x, y: x + y)\n",
    "print(res2.collect(), end='\\n\\n')\n",
    "res3 = rdd.map(lambda x: (x, 1)).reduceByKeyLocally(lambda x, y: x + y)\n",
    "print(res3)"
   ]
  },
  {
   "cell_type": "markdown",
   "id": "d04cf629-d58b-4e8a-80d5-9d1fc14f5454",
   "metadata": {},
   "source": [
    "## reparition"
   ]
  },
  {
   "cell_type": "code",
   "execution_count": 8,
   "id": "56319850-230e-4b8b-9a2d-b71d7b92d776",
   "metadata": {
    "vscode": {
     "languageId": "python"
    }
   },
   "outputs": [
    {
     "data": {
      "application/vnd.jupyter.widget-view+json": {
       "model_id": "",
       "version_major": 2,
       "version_minor": 0
      },
      "text/plain": [
       "FloatProgress(value=0.0, bar_style='info', description='Progress:', layout=Layout(height='25px', width='50%'),…"
      ]
     },
     "metadata": {},
     "output_type": "display_data"
    },
    {
     "name": "stdout",
     "output_type": "stream",
     "text": [
      "1\n",
      "10\n",
      "[[90, 91, 92, 93, 94, 95, 96, 97, 98, 99], [0, 1, 2, 3, 4, 5, 6, 7, 8, 9], [10, 11, 12, 13, 14, 15, 16, 17, 18, 19], [20, 21, 22, 23, 24, 25, 26, 27, 28, 29], [30, 31, 32, 33, 34, 35, 36, 37, 38, 39], [40, 41, 42, 43, 44, 45, 46, 47, 48, 49], [50, 51, 52, 53, 54, 55, 56, 57, 58, 59], [60, 61, 62, 63, 64, 65, 66, 67, 68, 69], [70, 71, 72, 73, 74, 75, 76, 77, 78, 79], [80, 81, 82, 83, 84, 85, 86, 87, 88, 89]]"
     ]
    }
   ],
   "source": [
    "rdd = sc.parallelize([x for x in range(100)])\n",
    "print(rdd.getNumPartitions())\n",
    "rdd = rdd.repartition(10)\n",
    "print(rdd.getNumPartitions())\n",
    "print(rdd.glom().collect())"
   ]
  },
  {
   "cell_type": "markdown",
   "id": "8f126e09-3d8d-4738-ac1b-0553118280a9",
   "metadata": {},
   "source": [
    "## coalesce"
   ]
  },
  {
   "cell_type": "code",
   "execution_count": 9,
   "id": "65d2aebb-3563-4282-8b4f-2d1f85ed7b02",
   "metadata": {
    "vscode": {
     "languageId": "python"
    }
   },
   "outputs": [
    {
     "data": {
      "application/vnd.jupyter.widget-view+json": {
       "model_id": "",
       "version_major": 2,
       "version_minor": 0
      },
      "text/plain": [
       "FloatProgress(value=0.0, bar_style='info', description='Progress:', layout=Layout(height='25px', width='50%'),…"
      ]
     },
     "metadata": {},
     "output_type": "display_data"
    },
    {
     "name": "stdout",
     "output_type": "stream",
     "text": [
      "4\n",
      "\n",
      "[[0, 1, 2, 3, 4], [5, 6, 7, 8, 9], [10, 11, 12, 13, 14], [15, 16, 17, 18, 19]]\n",
      "\n",
      "[[0, 1, 2, 3, 4], [5, 6, 7, 8, 9], [10, 11, 12, 13, 14], [15, 16, 17, 18, 19]]\n",
      "\n",
      "[[], [0, 1, 2, 3, 4, 10, 11, 12, 13, 14], [5, 6, 7, 8, 9, 15, 16, 17, 18, 19]]\n",
      "\n",
      "[[0, 1, 2, 3, 4], [5, 6, 7, 8, 9], [10, 11, 12, 13, 14, 15, 16, 17, 18, 19]]"
     ]
    }
   ],
   "source": [
    "rdd = sc.parallelize([x for x in range(20)], 4)\n",
    "print(rdd.getNumPartitions(), end='\\n\\n')\n",
    "print(rdd.glom().collect(), end='\\n\\n')\n",
    "r1 = rdd.repartition(3)\n",
    "r2 = rdd.coalesce(3)\n",
    "print(rdd.glom().collect(), end='\\n\\n')\n",
    "print(r1.glom().collect(), end='\\n\\n')\n",
    "print(r2.glom().collect(), end='\\n\\n')"
   ]
  },
  {
   "cell_type": "markdown",
   "id": "0ebbdff4-2c20-40c2-b947-bdee28dfd3d1",
   "metadata": {},
   "source": [
    "## fold"
   ]
  },
  {
   "cell_type": "code",
   "execution_count": 10,
   "id": "8beaa36b-f611-4147-bf62-4834d0b921bb",
   "metadata": {
    "vscode": {
     "languageId": "python"
    }
   },
   "outputs": [
    {
     "data": {
      "application/vnd.jupyter.widget-view+json": {
       "model_id": "",
       "version_major": 2,
       "version_minor": 0
      },
      "text/plain": [
       "FloatProgress(value=0.0, bar_style='info', description='Progress:', layout=Layout(height='25px', width='50%'),…"
      ]
     },
     "metadata": {},
     "output_type": "display_data"
    },
    {
     "name": "stdout",
     "output_type": "stream",
     "text": [
      "3\n",
      "\n",
      "[[1], [2, 3], [4, 5]]\n",
      "\n",
      "23"
     ]
    }
   ],
   "source": [
    "r1 = sc.parallelize([1, 2, 3, 4, 5], 3)\n",
    "print(r1.getNumPartitions(), end='\\n\\n')\n",
    "print(r1.glom().collect(), end='\\n\\n')\n",
    "print(r1.fold(2, lambda x, y: x + y), end='\\n\\n')"
   ]
  },
  {
   "cell_type": "code",
   "execution_count": 11,
   "id": "188f7ca1-bdd3-42f8-9d22-ed7948bdc84a",
   "metadata": {
    "vscode": {
     "languageId": "python"
    }
   },
   "outputs": [
    {
     "data": {
      "application/vnd.jupyter.widget-view+json": {
       "model_id": "",
       "version_major": 2,
       "version_minor": 0
      },
      "text/plain": [
       "FloatProgress(value=0.0, bar_style='info', description='Progress:', layout=Layout(height='25px', width='50%'),…"
      ]
     },
     "metadata": {},
     "output_type": "display_data"
    },
    {
     "name": "stdout",
     "output_type": "stream",
     "text": [
      "3\n",
      "\n",
      "[[1], [2, 3], [4, 5]]\n",
      "\n",
      "19"
     ]
    }
   ],
   "source": [
    "r1 = sc.parallelize([1, 2, 3, 4, 5], 3)\n",
    "print(r1.getNumPartitions(), end='\\n\\n')\n",
    "print(r1.glom().collect(), end='\\n\\n')\n",
    "print(r1.fold(1, lambda x, y: x + y), end='\\n\\n')"
   ]
  },
  {
   "cell_type": "code",
   "execution_count": 12,
   "id": "f56da489-33f5-4117-9b4e-5c94220a1e26",
   "metadata": {
    "vscode": {
     "languageId": "python"
    }
   },
   "outputs": [
    {
     "data": {
      "application/vnd.jupyter.widget-view+json": {
       "model_id": "",
       "version_major": 2,
       "version_minor": 0
      },
      "text/plain": [
       "FloatProgress(value=0.0, bar_style='info', description='Progress:', layout=Layout(height='25px', width='50%'),…"
      ]
     },
     "metadata": {},
     "output_type": "display_data"
    },
    {
     "name": "stdout",
     "output_type": "stream",
     "text": [
      "ParallelCollectionRDD[44] at readRDDFromFile at PythonRDD.scala:274\n",
      "\n",
      "PythonRDD[45] at RDD at PythonRDD.scala:53\n",
      "\n",
      "[[('f', 1), ('z', 1), ('f', 1), ('u', 1), ('c', 1), ('i', 1)], [('d', 1), ('n', 1), ('x', 1), ('w', 1), ('z', 1), ('k', 1)], [('r', 1), ('o', 1), ('b', 1), ('g', 1), ('y', 1), ('m', 1), ('j', 1), ('k', 1)]]\n",
      "\n",
      "[[('z', 2), ('u', 1), ('d', 1), ('n', 1), ('x', 1), ('w', 1), ('k', 2), ('o', 1)], [('i', 1), ('b', 1), ('g', 1), ('y', 1)], [('f', 2), ('c', 1), ('r', 1), ('m', 1), ('j', 1)]]\n",
      "\n",
      "[[('z', 4), ('u', 2), ('d', 2), ('n', 2), ('x', 2), ('w', 2), ('k', 4), ('o', 2)], [('i', 2), ('b', 2), ('g', 2), ('y', 2)], [('f', 3), ('c', 2), ('r', 2), ('m', 2), ('j', 2)]]\n",
      "\n",
      "[[('z', 10), ('u', 5), ('d', 5), ('n', 5), ('x', 5), ('w', 5), ('k', 10), ('o', 5)], [('i', 5), ('b', 5), ('g', 5), ('y', 5)], [('f', 6), ('c', 5), ('r', 5), ('m', 5), ('j', 5)]]"
     ]
    }
   ],
   "source": [
    "r1 = sc.parallelize([string.ascii_lowercase[r.randint(0, 25)] for _ in range(20)], 3)\n",
    "print(r1, end='\\n\\n')\n",
    "r1 = r1.map(lambda x: (x, 1))\n",
    "print(r1, end='\\n\\n')\n",
    "print(r1.glom().collect(), end='\\n\\n')\n",
    "print(r1.foldByKey(0, lambda x, y: x + y).glom().collect(), end='\\n\\n')\n",
    "print(r1.foldByKey(1, lambda x, y: x + y).glom().collect(), end='\\n\\n')\n",
    "print(r1.foldByKey(4, lambda x, y: x + y).glom().collect(), end='\\n\\n')"
   ]
  },
  {
   "cell_type": "markdown",
   "id": "091fbdad-7e97-4243-ba9a-2661d49145de",
   "metadata": {},
   "source": [
    "## aggregate"
   ]
  },
  {
   "cell_type": "code",
   "execution_count": 13,
   "id": "918cbf28-f3d2-4b79-b711-a4c91b85d90b",
   "metadata": {
    "vscode": {
     "languageId": "python"
    }
   },
   "outputs": [
    {
     "data": {
      "application/vnd.jupyter.widget-view+json": {
       "model_id": "",
       "version_major": 2,
       "version_minor": 0
      },
      "text/plain": [
       "FloatProgress(value=0.0, bar_style='info', description='Progress:', layout=Layout(height='25px', width='50%'),…"
      ]
     },
     "metadata": {},
     "output_type": "display_data"
    },
    {
     "name": "stdout",
     "output_type": "stream",
     "text": [
      "[[0], [1, 2], [3, 4]]\n",
      "\n",
      "(10, 5)\n",
      "\n",
      "----------------------------------------\n",
      "[[1, 2], [3, 4]]\n",
      "\n",
      "72"
     ]
    }
   ],
   "source": [
    "seqOp = (lambda x, y: (x[0] + y, x[1] + 1))\n",
    "combOp = (lambda x, y: (x[0] + y[0], x[1] + y[1]))\n",
    "\n",
    "r1 = sc.parallelize([x for x in range(5)], 3)\n",
    "print(r1.glom().collect(), end='\\n\\n')\n",
    "print(r1.aggregate((0, 0), seqOp, combOp), end='\\n\\n')\n",
    "print('--' * 20)\n",
    "r2 = sc.parallelize([1, 2, 3, 4], 2)\n",
    "print(r2.glom().collect(), end='\\n\\n')\n",
    "print(r2.aggregate(1, lambda x, y: x + y, lambda x, y: (x + 1) * y))"
   ]
  },
  {
   "cell_type": "code",
   "execution_count": 14,
   "id": "034f8ae8-af3b-4272-a1c3-4ec49d73672a",
   "metadata": {
    "vscode": {
     "languageId": "python"
    }
   },
   "outputs": [
    {
     "data": {
      "application/vnd.jupyter.widget-view+json": {
       "model_id": "",
       "version_major": 2,
       "version_minor": 0
      },
      "text/plain": [
       "FloatProgress(value=0.0, bar_style='info', description='Progress:', layout=Layout(height='25px', width='50%'),…"
      ]
     },
     "metadata": {},
     "output_type": "display_data"
    },
    {
     "name": "stdout",
     "output_type": "stream",
     "text": [
      "[[(5, 1), (5, 1), (5, 1), (5, 1), (3, 1)], [(4, 1), (4, 1), (1, 1), (3, 1), (4, 1)]]\n",
      "\n",
      "[(4, 3), (5, 4), (3, 2), (1, 1)]"
     ]
    }
   ],
   "source": [
    "r1 = sc.parallelize([r.randint(1, 5) for _ in range(10)], 2)\n",
    "r1 = r1.map(lambda x: (x, 1))\n",
    "print(r1.glom().collect(), end='\\n\\n')\n",
    "r1 = r1.aggregateByKey(0, lambda x, y: x + y, lambda x, y: x + y)\n",
    "print(r1.collect(), end='\\n\\n')"
   ]
  },
  {
   "cell_type": "markdown",
   "id": "e98694c1-f484-4ade-a9d5-7fc039beec67",
   "metadata": {},
   "source": [
    "## groupBy"
   ]
  },
  {
   "cell_type": "code",
   "execution_count": 15,
   "id": "5c343e7f-429a-43e3-b3e0-5377b86c5a70",
   "metadata": {
    "vscode": {
     "languageId": "python"
    }
   },
   "outputs": [
    {
     "data": {
      "application/vnd.jupyter.widget-view+json": {
       "model_id": "",
       "version_major": 2,
       "version_minor": 0
      },
      "text/plain": [
       "FloatProgress(value=0.0, bar_style='info', description='Progress:', layout=Layout(height='25px', width='50%'),…"
      ]
     },
     "metadata": {},
     "output_type": "display_data"
    },
    {
     "name": "stdout",
     "output_type": "stream",
     "text": [
      "[[1, 2, 3, 4, 5, 6, 7, 8], [9, 10, 11, 12, 13, 14, 15, 16], [17, 18, 19, 20, 21, 22, 23, 24, 25]]\n",
      "\n",
      "[(0, <pyspark.resultiterable.ResultIterable object at 0x7f299df0f010>), (1, <pyspark.resultiterable.ResultIterable object at 0x7f299daf1ab0>)]\n",
      "\n",
      "0 [2, 4, 6, 8, 10, 12, 14, 16, 18, 20, 22, 24]\n",
      "1 [1, 3, 5, 7, 9, 11, 13, 15, 17, 19, 21, 23, 25]"
     ]
    }
   ],
   "source": [
    "r1 = sc.parallelize([x for x in range(1, 26)], 3)\n",
    "print(r1.glom().collect(), end='\\n\\n')\n",
    "r1 = r1.groupBy(lambda x: x % 2)\n",
    "print(r1.collect(), end='\\n\\n')\n",
    "for x, y in r1.collect():\n",
    "    print(x, list(y))"
   ]
  },
  {
   "cell_type": "code",
   "execution_count": 16,
   "id": "2cd9b0aa-ab82-4547-83c0-263f287c263b",
   "metadata": {
    "vscode": {
     "languageId": "python"
    }
   },
   "outputs": [
    {
     "data": {
      "application/vnd.jupyter.widget-view+json": {
       "model_id": "",
       "version_major": 2,
       "version_minor": 0
      },
      "text/plain": [
       "FloatProgress(value=0.0, bar_style='info', description='Progress:', layout=Layout(height='25px', width='50%'),…"
      ]
     },
     "metadata": {},
     "output_type": "display_data"
    },
    {
     "name": "stdout",
     "output_type": "stream",
     "text": [
      "[[('a', 1), ('b', 1), ('c', 1)], [('a', 1), ('d', 1), ('a', 1)], [('e', 1), ('c', 1), ('e', 1), ('b', 1), ('e', 1)]]\n",
      "\n",
      "[('b', <pyspark.resultiterable.ResultIterable object at 0x7f299da76050>), ('c', <pyspark.resultiterable.ResultIterable object at 0x7f299da75db0>), ('d', <pyspark.resultiterable.ResultIterable object at 0x7f299da77070>), ('a', <pyspark.resultiterable.ResultIterable object at 0x7f299da76e00>), ('e', <pyspark.resultiterable.ResultIterable object at 0x7f299da77700>)]\n",
      "\n",
      "b [1, 1]\n",
      "c [1, 1]\n",
      "d [1]\n",
      "a [1, 1, 1]\n",
      "e [1, 1, 1]"
     ]
    }
   ],
   "source": [
    "r1 = sc.parallelize(['a', 'b', 'c', 'a', 'd', 'a', 'e', 'c', 'e', 'b', 'e'], 3)\n",
    "r1 = r1.map(lambda x: (x, 1))\n",
    "print(r1.glom().collect(), end='\\n\\n')\n",
    "print(r1.groupByKey(2).collect(), end='\\n\\n')\n",
    "res = r1.groupByKey(2).collect()\n",
    "for x, y in res:\n",
    "    print(x, list(y))"
   ]
  },
  {
   "cell_type": "code",
   "execution_count": 17,
   "id": "d076d56c-c451-41f3-bc12-ba3f22a6bf45",
   "metadata": {
    "vscode": {
     "languageId": "python"
    }
   },
   "outputs": [
    {
     "data": {
      "application/vnd.jupyter.widget-view+json": {
       "model_id": "",
       "version_major": 2,
       "version_minor": 0
      },
      "text/plain": [
       "FloatProgress(value=0.0, bar_style='info', description='Progress:', layout=Layout(height='25px', width='50%'),…"
      ]
     },
     "metadata": {},
     "output_type": "display_data"
    },
    {
     "name": "stdout",
     "output_type": "stream",
     "text": [
      "[('b', (<pyspark.resultiterable.ResultIterable object at 0x7f299da76860>, <pyspark.resultiterable.ResultIterable object at 0x7f299daf3340>, <pyspark.resultiterable.ResultIterable object at 0x7f299daf3130>, <pyspark.resultiterable.ResultIterable object at 0x7f299daf3160>)), ('a', (<pyspark.resultiterable.ResultIterable object at 0x7f299daf3070>, <pyspark.resultiterable.ResultIterable object at 0x7f299daf2f80>, <pyspark.resultiterable.ResultIterable object at 0x7f299daf2bc0>, <pyspark.resultiterable.ResultIterable object at 0x7f299daf2ec0>))]\n",
      "\n",
      "b [[6], [4], [], [42]]\n",
      "a [[5], [1], [2], []]"
     ]
    }
   ],
   "source": [
    "w = sc.parallelize([(\"a\", 5), (\"b\", 6)])\n",
    "x = sc.parallelize([(\"a\", 1), (\"b\", 4)])\n",
    "y = sc.parallelize([(\"a\", 2)])\n",
    "z = sc.parallelize([(\"b\", 42)])\n",
    "res = w.groupWith(x, y, z).collect()\n",
    "print(res, end='\\n\\n')\n",
    "for x, y in res:\n",
    "    print(x, [list(i) for i in y])"
   ]
  },
  {
   "cell_type": "code",
   "execution_count": 18,
   "id": "40c168c9-0f5f-4d20-82cc-5d7a81ab923a",
   "metadata": {
    "vscode": {
     "languageId": "python"
    }
   },
   "outputs": [
    {
     "data": {
      "application/vnd.jupyter.widget-view+json": {
       "model_id": "",
       "version_major": 2,
       "version_minor": 0
      },
      "text/plain": [
       "FloatProgress(value=0.0, bar_style='info', description='Progress:', layout=Layout(height='25px', width='50%'),…"
      ]
     },
     "metadata": {},
     "output_type": "display_data"
    },
    {
     "name": "stdout",
     "output_type": "stream",
     "text": [
      "[(3, (<pyspark.resultiterable.ResultIterable object at 0x7f299daf08e0>, <pyspark.resultiterable.ResultIterable object at 0x7f299daf0a00>, <pyspark.resultiterable.ResultIterable object at 0x7f299daf0520>)), (6, (<pyspark.resultiterable.ResultIterable object at 0x7f299daf1fc0>, <pyspark.resultiterable.ResultIterable object at 0x7f299daf14b0>, <pyspark.resultiterable.ResultIterable object at 0x7f299daf0d00>)), (1, (<pyspark.resultiterable.ResultIterable object at 0x7f299daf1060>, <pyspark.resultiterable.ResultIterable object at 0x7f299daf03d0>, <pyspark.resultiterable.ResultIterable object at 0x7f299daf0d60>)), (4, (<pyspark.resultiterable.ResultIterable object at 0x7f299daf17b0>, <pyspark.resultiterable.ResultIterable object at 0x7f299daf3520>, <pyspark.resultiterable.ResultIterable object at 0x7f299daf0100>)), (7, (<pyspark.resultiterable.ResultIterable object at 0x7f299daf12a0>, <pyspark.resultiterable.ResultIterable object at 0x7f299daf00a0>, <pyspark.resultiterable.ResultIterable object at 0x7f299daf1de0>)), (2, (<pyspark.resultiterable.ResultIterable object at 0x7f299daf34f0>, <pyspark.resultiterable.ResultIterable object at 0x7f299daf33a0>, <pyspark.resultiterable.ResultIterable object at 0x7f299daf2380>)), (5, (<pyspark.resultiterable.ResultIterable object at 0x7f299daf3b80>, <pyspark.resultiterable.ResultIterable object at 0x7f299daf3a30>, <pyspark.resultiterable.ResultIterable object at 0x7f299daf0220>))]\n",
      "\n",
      "3 [[1], [1], [1]]\n",
      "6 [[], [1], [1]]\n",
      "1 [[1], [], []]\n",
      "4 [[1], [1], [1]]\n",
      "7 [[], [], [1]]\n",
      "2 [[1], [1], []]\n",
      "5 [[1], [1], [1]]"
     ]
    }
   ],
   "source": [
    "a = sc.parallelize([1, 2, 3, 4, 5]).map(lambda x: (x, 1))\n",
    "b = sc.parallelize([2, 3, 4, 5, 6]).map(lambda x: (x, 1))\n",
    "c = sc.parallelize([3, 4, 5, 6, 7]).map(lambda x: (x, 1))\n",
    "res = a.groupWith(b, c).collect()\n",
    "print(res, end='\\n\\n')\n",
    "for x, y in res:\n",
    "    print(x, [list(i) for i in y])"
   ]
  },
  {
   "cell_type": "code",
   "execution_count": 19,
   "id": "34898444-f974-4a3b-85db-3c021314f5b9",
   "metadata": {
    "vscode": {
     "languageId": "python"
    }
   },
   "outputs": [
    {
     "data": {
      "application/vnd.jupyter.widget-view+json": {
       "model_id": "",
       "version_major": 2,
       "version_minor": 0
      },
      "text/plain": [
       "FloatProgress(value=0.0, bar_style='info', description='Progress:', layout=Layout(height='25px', width='50%'),…"
      ]
     },
     "metadata": {},
     "output_type": "display_data"
    },
    {
     "name": "stdout",
     "output_type": "stream",
     "text": [
      "[('b', (<pyspark.resultiterable.ResultIterable object at 0x7f299daf01c0>, <pyspark.resultiterable.ResultIterable object at 0x7f299daf34f0>)), ('d', (<pyspark.resultiterable.ResultIterable object at 0x7f299daf33a0>, <pyspark.resultiterable.ResultIterable object at 0x7f299daf2380>)), ('a', (<pyspark.resultiterable.ResultIterable object at 0x7f299daf3160>, <pyspark.resultiterable.ResultIterable object at 0x7f299daf2aa0>))]\n",
      "\n",
      "b [[2], [3]]\n",
      "d [[], [4]]\n",
      "a [[1], []]"
     ]
    }
   ],
   "source": [
    "a = sc.parallelize([(\"a\", 1), (\"b\", 2)])\n",
    "b = sc.parallelize([(\"b\", 3), (\"d\", 4)])\n",
    "res = a.cogroup(b)\n",
    "print(res.collect(), end='\\n\\n')\n",
    "for x, y in res.collect():\n",
    "    print(x, [list(i) for i in y])"
   ]
  },
  {
   "cell_type": "markdown",
   "id": "685e8d00-3971-47ca-8191-8914c0d408f5",
   "metadata": {},
   "source": [
    "## count"
   ]
  },
  {
   "cell_type": "code",
   "execution_count": 20,
   "id": "30a66e2f-59ec-49df-bba9-e7139a0b8f95",
   "metadata": {
    "vscode": {
     "languageId": "python"
    }
   },
   "outputs": [
    {
     "data": {
      "application/vnd.jupyter.widget-view+json": {
       "model_id": "",
       "version_major": 2,
       "version_minor": 0
      },
      "text/plain": [
       "FloatProgress(value=0.0, bar_style='info', description='Progress:', layout=Layout(height='25px', width='50%'),…"
      ]
     },
     "metadata": {},
     "output_type": "display_data"
    },
    {
     "name": "stdout",
     "output_type": "stream",
     "text": [
      "3\n",
      "\n",
      "[[0, 1, 2, 3, 4, 5, 6, 7, 8, 9, 10, 11, 12, 13, 14, 15, 16, 17, 18, 19, 20, 21, 22, 23, 24, 25, 26, 27, 28, 29, 30, 31, 32], [33, 34, 35, 36, 37, 38, 39, 40, 41, 42, 43, 44, 45, 46, 47, 48, 49, 50, 51, 52, 53, 54, 55, 56, 57, 58, 59, 60, 61, 62, 63, 64, 65], [66, 67, 68, 69, 70, 71, 72, 73, 74, 75, 76, 77, 78, 79, 80, 81, 82, 83, 84, 85, 86, 87, 88, 89, 90, 91, 92, 93, 94, 95, 96, 97, 98, 99]]\n",
      "\n",
      "100\n",
      "\n",
      "[[(2, 1), (5, 1), (3, 1), (4, 1), (4, 1), (5, 1), (1, 1), (3, 1), (1, 1), (1, 1)], [(3, 1), (5, 1), (3, 1), (4, 1), (3, 1), (4, 1), (2, 1), (2, 1), (5, 1), (4, 1)], [(4, 1), (5, 1), (3, 1), (3, 1), (2, 1), (1, 1), (2, 1), (5, 1), (1, 1), (4, 1)]]\n",
      "\n",
      "defaultdict(<class 'int'>, {2: 5, 5: 6, 3: 7, 4: 7, 1: 5})\n",
      "\n",
      "defaultdict(<class 'int'>, {(2, 1): 5, (5, 1): 6, (3, 1): 7, (4, 1): 7, (1, 1): 5})"
     ]
    }
   ],
   "source": [
    "a = sc.parallelize([x for x in range(100)], 3)\n",
    "print(a.getNumPartitions(), end='\\n\\n')\n",
    "print(a.glom().collect(), end='\\n\\n')\n",
    "print(a.count(), end='\\n\\n')\n",
    "\n",
    "b = sc.parallelize([r.randint(1, 5) for _ in range(30)], 3).map(lambda x: (x, 1))\n",
    "print(b.glom().collect(), end='\\n\\n')\n",
    "print(b.countByKey(), end='\\n\\n')\n",
    "print(b.countByValue(), end='\\n\\n')"
   ]
  },
  {
   "cell_type": "markdown",
   "id": "82f8c07e-eb9f-459a-a384-99c0537c7b81",
   "metadata": {},
   "source": [
    "## filter"
   ]
  },
  {
   "cell_type": "code",
   "execution_count": 21,
   "id": "d2bac979-194c-43b8-b4d9-84c94bbdb477",
   "metadata": {
    "vscode": {
     "languageId": "python"
    }
   },
   "outputs": [
    {
     "data": {
      "application/vnd.jupyter.widget-view+json": {
       "model_id": "",
       "version_major": 2,
       "version_minor": 0
      },
      "text/plain": [
       "FloatProgress(value=0.0, bar_style='info', description='Progress:', layout=Layout(height='25px', width='50%'),…"
      ]
     },
     "metadata": {},
     "output_type": "display_data"
    },
    {
     "name": "stdout",
     "output_type": "stream",
     "text": [
      "3\n",
      "\n",
      "[[0, 1, 2, 3, 4, 5, 6, 7], [8, 9, 10, 11, 12, 13, 14, 15], [16, 17, 18, 19, 20, 21, 22, 23, 24]]\n",
      "\n",
      "[0, 2, 4, 6, 8, 10, 12, 14, 16, 18, 20, 22, 24]\n",
      "\n",
      "[[(3, 5)], [(1, 7), (4, 7)], [(5, 7), (2, 9)]]\n",
      "\n",
      "[]"
     ]
    }
   ],
   "source": [
    "a = sc.parallelize([x for x in range(25)], 3)\n",
    "print(a.getNumPartitions(), end='\\n\\n')\n",
    "print(a.glom().collect(), end='\\n\\n')\n",
    "a = a.filter(lambda x: x % 2 == 0)\n",
    "print(a.collect(), end='\\n\\n')\n",
    "\n",
    "b = sc.parallelize([r.randint(1, 5) for _ in range(35)], 3).map(lambda x: (x, 1)).reduceByKey(lambda x, y: x + y)\n",
    "print(b.glom().collect(), end='\\n\\n')\n",
    "b = b.filter(lambda x: x[0] % 2 == 0 and x[1] % 2 == 0)\n",
    "print(b.collect(), end='\\n\\n')"
   ]
  },
  {
   "cell_type": "markdown",
   "id": "8062a9fc-42f8-414e-b607-26899274815d",
   "metadata": {},
   "source": [
    "## cache & persist"
   ]
  },
  {
   "cell_type": "code",
   "execution_count": 22,
   "id": "a89eced9-c314-4c57-bdc0-fd25a2608a2c",
   "metadata": {
    "vscode": {
     "languageId": "python"
    }
   },
   "outputs": [
    {
     "data": {
      "application/vnd.jupyter.widget-view+json": {
       "model_id": "",
       "version_major": 2,
       "version_minor": 0
      },
      "text/plain": [
       "FloatProgress(value=0.0, bar_style='info', description='Progress:', layout=Layout(height='25px', width='50%'),…"
      ]
     },
     "metadata": {},
     "output_type": "display_data"
    }
   ],
   "source": [
    "a = sc.parallelize([x for x in range(100)], 3)"
   ]
  },
  {
   "cell_type": "code",
   "execution_count": 23,
   "id": "7a56c123-c2ad-4aac-aca1-870107d5cb7f",
   "metadata": {
    "vscode": {
     "languageId": "python"
    }
   },
   "outputs": [
    {
     "data": {
      "application/vnd.jupyter.widget-view+json": {
       "model_id": "",
       "version_major": 2,
       "version_minor": 0
      },
      "text/plain": [
       "FloatProgress(value=0.0, bar_style='info', description='Progress:', layout=Layout(height='25px', width='50%'),…"
      ]
     },
     "metadata": {},
     "output_type": "display_data"
    },
    {
     "name": "stdout",
     "output_type": "stream",
     "text": [
      "[[0, 1, 2, 3, 4, 5, 6, 7, 8, 9, 10, 11, 12, 13, 14, 15, 16, 17, 18, 19, 20, 21, 22, 23, 24, 25, 26, 27, 28, 29, 30, 31, 32], [33, 34, 35, 36, 37, 38, 39, 40, 41, 42, 43, 44, 45, 46, 47, 48, 49, 50, 51, 52, 53, 54, 55, 56, 57, 58, 59, 60, 61, 62, 63, 64, 65], [66, 67, 68, 69, 70, 71, 72, 73, 74, 75, 76, 77, 78, 79, 80, 81, 82, 83, 84, 85, 86, 87, 88, 89, 90, 91, 92, 93, 94, 95, 96, 97, 98, 99]]"
     ]
    }
   ],
   "source": [
    "a.glom().collect()"
   ]
  },
  {
   "cell_type": "code",
   "execution_count": 24,
   "id": "fedac329-27fa-4c37-8693-483b48aa2348",
   "metadata": {
    "vscode": {
     "languageId": "python"
    }
   },
   "outputs": [
    {
     "data": {
      "application/vnd.jupyter.widget-view+json": {
       "model_id": "",
       "version_major": 2,
       "version_minor": 0
      },
      "text/plain": [
       "FloatProgress(value=0.0, bar_style='info', description='Progress:', layout=Layout(height='25px', width='50%'),…"
      ]
     },
     "metadata": {},
     "output_type": "display_data"
    },
    {
     "name": "stdout",
     "output_type": "stream",
     "text": [
      "ParallelCollectionRDD[150] at readRDDFromFile at PythonRDD.scala:274"
     ]
    }
   ],
   "source": [
    "a.cache()"
   ]
  },
  {
   "cell_type": "code",
   "execution_count": 25,
   "id": "872e4c45-1087-4714-8548-b5445f89c1c8",
   "metadata": {
    "vscode": {
     "languageId": "python"
    }
   },
   "outputs": [
    {
     "data": {
      "application/vnd.jupyter.widget-view+json": {
       "model_id": "",
       "version_major": 2,
       "version_minor": 0
      },
      "text/plain": [
       "FloatProgress(value=0.0, bar_style='info', description='Progress:', layout=Layout(height='25px', width='50%'),…"
      ]
     },
     "metadata": {},
     "output_type": "display_data"
    },
    {
     "name": "stdout",
     "output_type": "stream",
     "text": [
      "[[0, 1, 2, 3, 4, 5, 6, 7, 8, 9, 10, 11, 12, 13, 14, 15, 16, 17, 18, 19, 20, 21, 22, 23, 24, 25, 26, 27, 28, 29, 30, 31, 32], [33, 34, 35, 36, 37, 38, 39, 40, 41, 42, 43, 44, 45, 46, 47, 48, 49, 50, 51, 52, 53, 54, 55, 56, 57, 58, 59, 60, 61, 62, 63, 64, 65], [66, 67, 68, 69, 70, 71, 72, 73, 74, 75, 76, 77, 78, 79, 80, 81, 82, 83, 84, 85, 86, 87, 88, 89, 90, 91, 92, 93, 94, 95, 96, 97, 98, 99]]"
     ]
    }
   ],
   "source": [
    "a.glom().collect()"
   ]
  },
  {
   "cell_type": "code",
   "execution_count": 26,
   "id": "ba54d571-6f42-42a1-8afa-44cb948686ba",
   "metadata": {
    "vscode": {
     "languageId": "python"
    }
   },
   "outputs": [
    {
     "data": {
      "application/vnd.jupyter.widget-view+json": {
       "model_id": "",
       "version_major": 2,
       "version_minor": 0
      },
      "text/plain": [
       "FloatProgress(value=0.0, bar_style='info', description='Progress:', layout=Layout(height='25px', width='50%'),…"
      ]
     },
     "metadata": {},
     "output_type": "display_data"
    },
    {
     "name": "stdout",
     "output_type": "stream",
     "text": [
      "StorageLevel(False, True, False, False, 1)"
     ]
    }
   ],
   "source": [
    "a.getStorageLevel()"
   ]
  },
  {
   "cell_type": "code",
   "execution_count": 27,
   "id": "d2f96cc5-5dd6-4f5c-a37d-9a68ac9df325",
   "metadata": {
    "vscode": {
     "languageId": "python"
    }
   },
   "outputs": [
    {
     "data": {
      "application/vnd.jupyter.widget-view+json": {
       "model_id": "",
       "version_major": 2,
       "version_minor": 0
      },
      "text/plain": [
       "FloatProgress(value=0.0, bar_style='info', description='Progress:', layout=Layout(height='25px', width='50%'),…"
      ]
     },
     "metadata": {},
     "output_type": "display_data"
    },
    {
     "name": "stdout",
     "output_type": "stream",
     "text": [
      "ParallelCollectionRDD[150] at readRDDFromFile at PythonRDD.scala:274"
     ]
    }
   ],
   "source": [
    "a.unpersist()"
   ]
  },
  {
   "cell_type": "code",
   "execution_count": 28,
   "id": "24ab54e6-f1b1-4675-a765-e8ed984d5d35",
   "metadata": {
    "vscode": {
     "languageId": "python"
    }
   },
   "outputs": [
    {
     "data": {
      "application/vnd.jupyter.widget-view+json": {
       "model_id": "",
       "version_major": 2,
       "version_minor": 0
      },
      "text/plain": [
       "FloatProgress(value=0.0, bar_style='info', description='Progress:', layout=Layout(height='25px', width='50%'),…"
      ]
     },
     "metadata": {},
     "output_type": "display_data"
    },
    {
     "name": "stdout",
     "output_type": "stream",
     "text": [
      "StorageLevel(False, False, False, False, 1)"
     ]
    }
   ],
   "source": [
    "a.getStorageLevel()"
   ]
  },
  {
   "cell_type": "code",
   "execution_count": 29,
   "id": "42435250-c3b3-4734-b3c0-de8753e22e72",
   "metadata": {
    "vscode": {
     "languageId": "python"
    }
   },
   "outputs": [
    {
     "data": {
      "application/vnd.jupyter.widget-view+json": {
       "model_id": "",
       "version_major": 2,
       "version_minor": 0
      },
      "text/plain": [
       "FloatProgress(value=0.0, bar_style='info', description='Progress:', layout=Layout(height='25px', width='50%'),…"
      ]
     },
     "metadata": {},
     "output_type": "display_data"
    },
    {
     "name": "stdout",
     "output_type": "stream",
     "text": [
      "ParallelCollectionRDD[150] at readRDDFromFile at PythonRDD.scala:274"
     ]
    }
   ],
   "source": [
    "a.persist(StorageLevel.MEMORY_AND_DISK)"
   ]
  },
  {
   "cell_type": "code",
   "execution_count": 30,
   "id": "fd8385c6-bbc0-406b-9d15-fa22c63d8eca",
   "metadata": {
    "vscode": {
     "languageId": "python"
    }
   },
   "outputs": [
    {
     "data": {
      "application/vnd.jupyter.widget-view+json": {
       "model_id": "",
       "version_major": 2,
       "version_minor": 0
      },
      "text/plain": [
       "FloatProgress(value=0.0, bar_style='info', description='Progress:', layout=Layout(height='25px', width='50%'),…"
      ]
     },
     "metadata": {},
     "output_type": "display_data"
    },
    {
     "name": "stdout",
     "output_type": "stream",
     "text": [
      "100"
     ]
    }
   ],
   "source": [
    "a.count()"
   ]
  },
  {
   "cell_type": "code",
   "execution_count": 31,
   "id": "174aebc8-f614-46c1-ac66-01f1e764f2b8",
   "metadata": {
    "vscode": {
     "languageId": "python"
    }
   },
   "outputs": [
    {
     "data": {
      "application/vnd.jupyter.widget-view+json": {
       "model_id": "",
       "version_major": 2,
       "version_minor": 0
      },
      "text/plain": [
       "FloatProgress(value=0.0, bar_style='info', description='Progress:', layout=Layout(height='25px', width='50%'),…"
      ]
     },
     "metadata": {},
     "output_type": "display_data"
    },
    {
     "name": "stdout",
     "output_type": "stream",
     "text": [
      "ParallelCollectionRDD[150] at readRDDFromFile at PythonRDD.scala:274"
     ]
    }
   ],
   "source": [
    "a.unpersist()"
   ]
  },
  {
   "cell_type": "code",
   "execution_count": null,
   "id": "0a5f7bb5-c1a7-493d-8ff6-383c2988d561",
   "metadata": {
    "vscode": {
     "languageId": "python"
    }
   },
   "outputs": [],
   "source": []
  }
 ],
 "metadata": {
  "kernelspec": {
   "display_name": "PySpark",
   "language": "python",
   "name": "pysparkkernel"
  },
  "language_info": {
   "codemirror_mode": {
    "name": "python",
    "version": 3
   },
   "file_extension": ".py",
   "mimetype": "text/x-python",
   "name": "pyspark",
   "pygments_lexer": "python3"
  }
 },
 "nbformat": 4,
 "nbformat_minor": 5
}
