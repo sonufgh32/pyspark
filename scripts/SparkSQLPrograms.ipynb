{
 "cells": [
  {
   "cell_type": "code",
   "execution_count": 1,
   "id": "b09d091f-fe3e-4c3c-b768-614cf2580c89",
   "metadata": {},
   "outputs": [
    {
     "name": "stdout",
     "output_type": "stream",
     "text": [
      "Starting Spark application\n"
     ]
    },
    {
     "data": {
      "text/html": [
       "<table>\n",
       "<tr><th>ID</th><th>YARN Application ID</th><th>Kind</th><th>State</th><th>Spark UI</th><th>Driver log</th><th>User</th><th>Current session?</th></tr><tr><td>3</td><td>None</td><td>pyspark</td><td>idle</td><td></td><td></td><td>None</td><td>✔</td></tr></table>"
      ],
      "text/plain": [
       "<IPython.core.display.HTML object>"
      ]
     },
     "metadata": {},
     "output_type": "display_data"
    },
    {
     "data": {
      "application/vnd.jupyter.widget-view+json": {
       "model_id": "",
       "version_major": 2,
       "version_minor": 0
      },
      "text/plain": [
       "FloatProgress(value=0.0, bar_style='info', description='Progress:', layout=Layout(height='25px', width='50%'),…"
      ]
     },
     "metadata": {},
     "output_type": "display_data"
    },
    {
     "name": "stdout",
     "output_type": "stream",
     "text": [
      "SparkSession available as 'spark'.\n"
     ]
    },
    {
     "data": {
      "application/vnd.jupyter.widget-view+json": {
       "model_id": "",
       "version_major": 2,
       "version_minor": 0
      },
      "text/plain": [
       "FloatProgress(value=0.0, bar_style='info', description='Progress:', layout=Layout(height='25px', width='50%'),…"
      ]
     },
     "metadata": {},
     "output_type": "display_data"
    }
   ],
   "source": [
    "from pyspark import SparkConf, SparkContext\n",
    "from pyspark import StorageLevel\n",
    "from pyspark.sql import SparkSession, Row\n",
    "from pyspark.sql import types\n",
    "from pyspark.sql.types import *\n",
    "from pyspark.sql.window import Window\n",
    "from pyspark.sql.functions import *\n",
    "import os"
   ]
  },
  {
   "cell_type": "code",
   "execution_count": 2,
   "id": "b8d2781b-023a-44d9-903a-a87e0f50a8e6",
   "metadata": {},
   "outputs": [
    {
     "data": {
      "application/vnd.jupyter.widget-view+json": {
       "model_id": "",
       "version_major": 2,
       "version_minor": 0
      },
      "text/plain": [
       "FloatProgress(value=0.0, bar_style='info', description='Progress:', layout=Layout(height='25px', width='50%'),…"
      ]
     },
     "metadata": {},
     "output_type": "display_data"
    },
    {
     "name": "stdout",
     "output_type": "stream",
     "text": [
      "<pyspark.sql.session.SparkSession object at 0x7fc606ecc4c0>"
     ]
    }
   ],
   "source": [
    "spark"
   ]
  },
  {
   "cell_type": "code",
   "execution_count": 3,
   "id": "4e1b986f-1b01-4f3d-aa14-5b5c8c02ba3a",
   "metadata": {},
   "outputs": [
    {
     "data": {
      "application/vnd.jupyter.widget-view+json": {
       "model_id": "",
       "version_major": 2,
       "version_minor": 0
      },
      "text/plain": [
       "FloatProgress(value=0.0, bar_style='info', description='Progress:', layout=Layout(height='25px', width='50%'),…"
      ]
     },
     "metadata": {},
     "output_type": "display_data"
    },
    {
     "name": "stdout",
     "output_type": "stream",
     "text": [
      "<pyspark.sql.session.SparkSession object at 0x7fc606ecc4c0>"
     ]
    }
   ],
   "source": [
    "spark"
   ]
  },
  {
   "cell_type": "code",
   "execution_count": 4,
   "id": "6000e30a-c191-4854-b30e-94085a068c29",
   "metadata": {},
   "outputs": [
    {
     "data": {
      "application/vnd.jupyter.widget-view+json": {
       "model_id": "",
       "version_major": 2,
       "version_minor": 0
      },
      "text/plain": [
       "FloatProgress(value=0.0, bar_style='info', description='Progress:', layout=Layout(height='25px', width='50%'),…"
      ]
     },
     "metadata": {},
     "output_type": "display_data"
    },
    {
     "name": "stdout",
     "output_type": "stream",
     "text": [
      "[Row(Name='Alice', Age=12), Row(Name='Shiv', Age=23), Row(Name='Ram', Age=24), Row(Name='Sonu', Age=20)]"
     ]
    }
   ],
   "source": [
    "l = [('Alice', 12), ('Shiv', 23), ('Ram', 24), ('Sonu', 20)]\n",
    "df1 = spark.createDataFrame(l, [\"Name\", \"Age\"])\n",
    "df1.collect()"
   ]
  },
  {
   "cell_type": "code",
   "execution_count": 5,
   "id": "68be172a-63be-4a55-957c-e9b48f1bba13",
   "metadata": {},
   "outputs": [
    {
     "data": {
      "application/vnd.jupyter.widget-view+json": {
       "model_id": "",
       "version_major": 2,
       "version_minor": 0
      },
      "text/plain": [
       "FloatProgress(value=0.0, bar_style='info', description='Progress:', layout=Layout(height='25px', width='50%'),…"
      ]
     },
     "metadata": {},
     "output_type": "display_data"
    }
   ],
   "source": [
    "path = \"s3://shivchoudhury-datasets/CSV/College Data.csv\""
   ]
  },
  {
   "cell_type": "code",
   "execution_count": 6,
   "id": "79f2e37d-90b4-417e-a3cc-3fc956523819",
   "metadata": {},
   "outputs": [
    {
     "data": {
      "application/vnd.jupyter.widget-view+json": {
       "model_id": "",
       "version_major": 2,
       "version_minor": 0
      },
      "text/plain": [
       "FloatProgress(value=0.0, bar_style='info', description='Progress:', layout=Layout(height='25px', width='50%'),…"
      ]
     },
     "metadata": {},
     "output_type": "display_data"
    },
    {
     "name": "stdout",
     "output_type": "stream",
     "text": [
      "-RECORD 0-----\n",
      " Name | Alice \n",
      " Age  | 12    \n",
      "-RECORD 1-----\n",
      " Name | Shiv  \n",
      " Age  | 23    \n",
      "only showing top 2 rows"
     ]
    }
   ],
   "source": [
    "df1.show(2,vertical=True)"
   ]
  },
  {
   "cell_type": "code",
   "execution_count": 7,
   "id": "e15c53fd-e6bb-47a6-926a-b7528d00dbaa",
   "metadata": {},
   "outputs": [
    {
     "data": {
      "application/vnd.jupyter.widget-view+json": {
       "model_id": "",
       "version_major": 2,
       "version_minor": 0
      },
      "text/plain": [
       "FloatProgress(value=0.0, bar_style='info', description='Progress:', layout=Layout(height='25px', width='50%'),…"
      ]
     },
     "metadata": {},
     "output_type": "display_data"
    },
    {
     "name": "stdout",
     "output_type": "stream",
     "text": [
      "+---+--------+\n",
      "|Age|    Name|\n",
      "+---+--------+\n",
      "| 24|Shiv Ram|\n",
      "+---+--------+"
     ]
    }
   ],
   "source": [
    "data1 = [{\"Name\": \"Shiv Ram\", \"Age\": 24}]\n",
    "df2 = spark.createDataFrame(data1)\n",
    "df2.show()"
   ]
  },
  {
   "cell_type": "code",
   "execution_count": 8,
   "id": "7f2b6e4d-4513-44e0-88ae-23bae29172b4",
   "metadata": {},
   "outputs": [
    {
     "data": {
      "application/vnd.jupyter.widget-view+json": {
       "model_id": "",
       "version_major": 2,
       "version_minor": 0
      },
      "text/plain": [
       "FloatProgress(value=0.0, bar_style='info', description='Progress:', layout=Layout(height='25px', width='50%'),…"
      ]
     },
     "metadata": {},
     "output_type": "display_data"
    },
    {
     "name": "stdout",
     "output_type": "stream",
     "text": [
      "[('Alice', 12), ('Shiv', 23), ('Ram', 24), ('Sonu', 20)]"
     ]
    }
   ],
   "source": [
    "rdd = sc.parallelize(l)\n",
    "rdd.collect()"
   ]
  },
  {
   "cell_type": "code",
   "execution_count": 9,
   "id": "417af808-54a0-4dc1-9e14-c442b43bdfe6",
   "metadata": {},
   "outputs": [
    {
     "data": {
      "application/vnd.jupyter.widget-view+json": {
       "model_id": "",
       "version_major": 2,
       "version_minor": 0
      },
      "text/plain": [
       "FloatProgress(value=0.0, bar_style='info', description='Progress:', layout=Layout(height='25px', width='50%'),…"
      ]
     },
     "metadata": {},
     "output_type": "display_data"
    },
    {
     "name": "stdout",
     "output_type": "stream",
     "text": [
      "+-----+---+\n",
      "|   _1| _2|\n",
      "+-----+---+\n",
      "|Alice| 12|\n",
      "| Shiv| 23|\n",
      "|  Ram| 24|\n",
      "| Sonu| 20|\n",
      "+-----+---+"
     ]
    }
   ],
   "source": [
    "df3 = spark.createDataFrame(rdd)\n",
    "df3.show()"
   ]
  },
  {
   "cell_type": "code",
   "execution_count": 10,
   "id": "c378f658-de89-4fa6-9022-98d736da8ca7",
   "metadata": {},
   "outputs": [
    {
     "data": {
      "application/vnd.jupyter.widget-view+json": {
       "model_id": "",
       "version_major": 2,
       "version_minor": 0
      },
      "text/plain": [
       "FloatProgress(value=0.0, bar_style='info', description='Progress:', layout=Layout(height='25px', width='50%'),…"
      ]
     },
     "metadata": {},
     "output_type": "display_data"
    },
    {
     "name": "stdout",
     "output_type": "stream",
     "text": [
      "+-----+---+\n",
      "| Name|Age|\n",
      "+-----+---+\n",
      "|Alice| 12|\n",
      "| Shiv| 23|\n",
      "|  Ram| 24|\n",
      "| Sonu| 20|\n",
      "+-----+---+"
     ]
    }
   ],
   "source": [
    "df4 = spark.createDataFrame(rdd, [\"Name\", \"Age\"])\n",
    "df4.show()"
   ]
  },
  {
   "cell_type": "code",
   "execution_count": 11,
   "id": "3625ab04-5ece-4fa4-b8f1-4e0a54a9f902",
   "metadata": {},
   "outputs": [
    {
     "data": {
      "application/vnd.jupyter.widget-view+json": {
       "model_id": "",
       "version_major": 2,
       "version_minor": 0
      },
      "text/plain": [
       "FloatProgress(value=0.0, bar_style='info', description='Progress:', layout=Layout(height='25px', width='50%'),…"
      ]
     },
     "metadata": {},
     "output_type": "display_data"
    }
   ],
   "source": [
    "Person = Row(\"Name\", \"Age\")"
   ]
  },
  {
   "cell_type": "code",
   "execution_count": 12,
   "id": "df2ef9e0-8338-4c74-8870-d33bc5d2d129",
   "metadata": {},
   "outputs": [
    {
     "data": {
      "application/vnd.jupyter.widget-view+json": {
       "model_id": "",
       "version_major": 2,
       "version_minor": 0
      },
      "text/plain": [
       "FloatProgress(value=0.0, bar_style='info', description='Progress:', layout=Layout(height='25px', width='50%'),…"
      ]
     },
     "metadata": {},
     "output_type": "display_data"
    }
   ],
   "source": [
    "persons = rdd.map(lambda x: Person(*x))"
   ]
  },
  {
   "cell_type": "code",
   "execution_count": 13,
   "id": "87f0bb3b-4bea-4860-a852-bd91966d2c83",
   "metadata": {},
   "outputs": [
    {
     "data": {
      "application/vnd.jupyter.widget-view+json": {
       "model_id": "",
       "version_major": 2,
       "version_minor": 0
      },
      "text/plain": [
       "FloatProgress(value=0.0, bar_style='info', description='Progress:', layout=Layout(height='25px', width='50%'),…"
      ]
     },
     "metadata": {},
     "output_type": "display_data"
    },
    {
     "name": "stdout",
     "output_type": "stream",
     "text": [
      "[Row(Name='Alice', Age=12), Row(Name='Shiv', Age=23), Row(Name='Ram', Age=24), Row(Name='Sonu', Age=20)]"
     ]
    }
   ],
   "source": [
    "persons.collect()"
   ]
  },
  {
   "cell_type": "markdown",
   "id": "dcec0992-4f6a-4565-a158-6948e1d80ea0",
   "metadata": {},
   "source": [
    "## read csv files"
   ]
  },
  {
   "cell_type": "code",
   "execution_count": 14,
   "id": "ae1ab03e-e9c0-4bde-90b9-9e1a6581604a",
   "metadata": {},
   "outputs": [
    {
     "data": {
      "application/vnd.jupyter.widget-view+json": {
       "model_id": "",
       "version_major": 2,
       "version_minor": 0
      },
      "text/plain": [
       "FloatProgress(value=0.0, bar_style='info', description='Progress:', layout=Layout(height='25px', width='50%'),…"
      ]
     },
     "metadata": {},
     "output_type": "display_data"
    },
    {
     "name": "stdout",
     "output_type": "stream",
     "text": [
      "<bound method DataFrame.printSchema of DataFrame[College ID: string, Country: string, Total Students: string, Male: string, Female: string, CGPA: string, Annual Family Income: string, Branch: string, Sports: string, Research Papers Published: string, Placement Rate: string, Faculty Count: string]>"
     ]
    }
   ],
   "source": [
    "df = spark.read.csv(path, sep=',', header=True)\n",
    "df.printSchema"
   ]
  },
  {
   "cell_type": "code",
   "execution_count": 15,
   "id": "f605d768-66c9-4083-b86e-c15839804dcd",
   "metadata": {},
   "outputs": [
    {
     "data": {
      "application/vnd.jupyter.widget-view+json": {
       "model_id": "",
       "version_major": 2,
       "version_minor": 0
      },
      "text/plain": [
       "FloatProgress(value=0.0, bar_style='info', description='Progress:', layout=Layout(height='25px', width='50%'),…"
      ]
     },
     "metadata": {},
     "output_type": "display_data"
    },
    {
     "name": "stdout",
     "output_type": "stream",
     "text": [
      "+----------+-----------+--------------+-----+------+---------+--------------------+--------------------+----------+-------------------------+-----------------+-------------+\n",
      "|College ID|    Country|Total Students| Male|Female|     CGPA|Annual Family Income|              Branch|    Sports|Research Papers Published|   Placement Rate|Faculty Count|\n",
      "+----------+-----------+--------------+-----+------+---------+--------------------+--------------------+----------+-------------------------+-----------------+-------------+\n",
      "|College 52|         UK|         27002| 2593| 11644|     10.0|             3574250|             Physics|  Swimming|                       39|            100.0|          655|\n",
      "|College 93|Switzerland|         11913| 9392|  2521| 6.951278|              762556|Chemical Engineering| Athletics|                       31|68.83999999999999|          256|\n",
      "|College 15|      Japan|         15644| 5475|  4388|9.3279225|             1795845|Business Administ...|Volleyball|                       37|91.99000000000001|          555|\n",
      "|College 72|  Singapore|         13239| 7363|  5876|8.6811115|             1222223|             Physics|    Tennis|                       48|            97.98|          455|\n",
      "|College 61|     Canada|         10236|13339| -3103|8.5605665|             1921133|       Biotechnology| Athletics|                       34|            83.56|          310|\n",
      "+----------+-----------+--------------+-----+------+---------+--------------------+--------------------+----------+-------------------------+-----------------+-------------+\n",
      "only showing top 5 rows"
     ]
    }
   ],
   "source": [
    "df.show(5)"
   ]
  },
  {
   "cell_type": "code",
   "execution_count": 16,
   "id": "b495e6d0-2cd6-42b7-935c-ca2b6c4fa510",
   "metadata": {},
   "outputs": [
    {
     "data": {
      "application/vnd.jupyter.widget-view+json": {
       "model_id": "",
       "version_major": 2,
       "version_minor": 0
      },
      "text/plain": [
       "FloatProgress(value=0.0, bar_style='info', description='Progress:', layout=Layout(height='25px', width='50%'),…"
      ]
     },
     "metadata": {},
     "output_type": "display_data"
    },
    {
     "name": "stdout",
     "output_type": "stream",
     "text": [
      "root\n",
      " |-- College ID: string (nullable = true)\n",
      " |-- Country: string (nullable = true)\n",
      " |-- Total Students: string (nullable = true)\n",
      " |-- Male: string (nullable = true)\n",
      " |-- Female: string (nullable = true)\n",
      " |-- CGPA: string (nullable = true)\n",
      " |-- Annual Family Income: string (nullable = true)\n",
      " |-- Branch: string (nullable = true)\n",
      " |-- Sports: string (nullable = true)\n",
      " |-- Research Papers Published: string (nullable = true)\n",
      " |-- Placement Rate: string (nullable = true)\n",
      " |-- Faculty Count: string (nullable = true)\n",
      "\n",
      "None\n",
      "\n",
      "+----------+-----------+--------------+-----+------+---------+--------------------+--------------------+----------+-------------------------+-----------------+-------------+\n",
      "|College ID|    Country|Total Students| Male|Female|     CGPA|Annual Family Income|              Branch|    Sports|Research Papers Published|   Placement Rate|Faculty Count|\n",
      "+----------+-----------+--------------+-----+------+---------+--------------------+--------------------+----------+-------------------------+-----------------+-------------+\n",
      "|College 52|         UK|         27002| 2593| 11644|     10.0|             3574250|             Physics|  Swimming|                       39|            100.0|          655|\n",
      "|College 93|Switzerland|         11913| 9392|  2521| 6.951278|              762556|Chemical Engineering| Athletics|                       31|68.83999999999999|          256|\n",
      "|College 15|      Japan|         15644| 5475|  4388|9.3279225|             1795845|Business Administ...|Volleyball|                       37|91.99000000000001|          555|\n",
      "|College 72|  Singapore|         13239| 7363|  5876|8.6811115|             1222223|             Physics|    Tennis|                       48|            97.98|          455|\n",
      "|College 61|     Canada|         10236|13339| -3103|8.5605665|             1921133|       Biotechnology| Athletics|                       34|            83.56|          310|\n",
      "+----------+-----------+--------------+-----+------+---------+--------------------+--------------------+----------+-------------------------+-----------------+-------------+\n",
      "only showing top 5 rows"
     ]
    }
   ],
   "source": [
    "df = spark.read.format(\"csv\").option(\"header\", True).option(\"sep\", \",\").load(path)\n",
    "print(df.printSchema(), end='\\n\\n')\n",
    "df.show(5)"
   ]
  },
  {
   "cell_type": "code",
   "execution_count": 17,
   "id": "5354877a-42b5-4632-89a1-c1223cadfd6b",
   "metadata": {},
   "outputs": [
    {
     "data": {
      "application/vnd.jupyter.widget-view+json": {
       "model_id": "",
       "version_major": 2,
       "version_minor": 0
      },
      "text/plain": [
       "FloatProgress(value=0.0, bar_style='info', description='Progress:', layout=Layout(height='25px', width='50%'),…"
      ]
     },
     "metadata": {},
     "output_type": "display_data"
    },
    {
     "name": "stdout",
     "output_type": "stream",
     "text": [
      "root\n",
      " |-- College ID: string (nullable = true)\n",
      " |-- Country: string (nullable = true)\n",
      " |-- Total Students: string (nullable = true)\n",
      " |-- Male: string (nullable = true)\n",
      " |-- Female: string (nullable = true)\n",
      " |-- CGPA: string (nullable = true)\n",
      " |-- Annual Family Income: string (nullable = true)\n",
      " |-- Branch: string (nullable = true)\n",
      " |-- Sports: string (nullable = true)\n",
      " |-- Research Papers Published: string (nullable = true)\n",
      " |-- Placement Rate: string (nullable = true)\n",
      " |-- Faculty Count: string (nullable = true)\n",
      "\n",
      "None\n",
      "\n",
      "+----------+-----------+--------------+-----+------+---------+--------------------+--------------------+----------+-------------------------+-----------------+-------------+\n",
      "|College ID|    Country|Total Students| Male|Female|     CGPA|Annual Family Income|              Branch|    Sports|Research Papers Published|   Placement Rate|Faculty Count|\n",
      "+----------+-----------+--------------+-----+------+---------+--------------------+--------------------+----------+-------------------------+-----------------+-------------+\n",
      "|College 52|         UK|         27002| 2593| 11644|     10.0|             3574250|             Physics|  Swimming|                       39|            100.0|          655|\n",
      "|College 93|Switzerland|         11913| 9392|  2521| 6.951278|              762556|Chemical Engineering| Athletics|                       31|68.83999999999999|          256|\n",
      "|College 15|      Japan|         15644| 5475|  4388|9.3279225|             1795845|Business Administ...|Volleyball|                       37|91.99000000000001|          555|\n",
      "|College 72|  Singapore|         13239| 7363|  5876|8.6811115|             1222223|             Physics|    Tennis|                       48|            97.98|          455|\n",
      "|College 61|     Canada|         10236|13339| -3103|8.5605665|             1921133|       Biotechnology| Athletics|                       34|            83.56|          310|\n",
      "+----------+-----------+--------------+-----+------+---------+--------------------+--------------------+----------+-------------------------+-----------------+-------------+\n",
      "only showing top 5 rows"
     ]
    }
   ],
   "source": [
    "df = spark.read.option(\"header\", True).option(\"sep\", \",\").csv(path)\n",
    "print(df.printSchema(), end='\\n\\n')\n",
    "df.show(5)"
   ]
  },
  {
   "cell_type": "code",
   "execution_count": 18,
   "id": "dd915ebb-7671-4ef5-a683-80bf653d9009",
   "metadata": {},
   "outputs": [
    {
     "data": {
      "application/vnd.jupyter.widget-view+json": {
       "model_id": "",
       "version_major": 2,
       "version_minor": 0
      },
      "text/plain": [
       "FloatProgress(value=0.0, bar_style='info', description='Progress:', layout=Layout(height='25px', width='50%'),…"
      ]
     },
     "metadata": {},
     "output_type": "display_data"
    },
    {
     "name": "stdout",
     "output_type": "stream",
     "text": [
      "root\n",
      " |-- College ID: string (nullable = true)\n",
      " |-- Country: string (nullable = true)\n",
      " |-- Total Students: string (nullable = true)\n",
      " |-- Male: string (nullable = true)\n",
      " |-- Female: string (nullable = true)\n",
      " |-- CGPA: string (nullable = true)\n",
      " |-- Annual Family Income: string (nullable = true)\n",
      " |-- Branch: string (nullable = true)\n",
      " |-- Sports: string (nullable = true)\n",
      " |-- Research Papers Published: string (nullable = true)\n",
      " |-- Placement Rate: string (nullable = true)\n",
      " |-- Faculty Count: string (nullable = true)\n",
      "\n",
      "None\n",
      "\n",
      "+----------+-----------+--------------+-----+------+---------+--------------------+--------------------+----------+-------------------------+-----------------+-------------+\n",
      "|College ID|    Country|Total Students| Male|Female|     CGPA|Annual Family Income|              Branch|    Sports|Research Papers Published|   Placement Rate|Faculty Count|\n",
      "+----------+-----------+--------------+-----+------+---------+--------------------+--------------------+----------+-------------------------+-----------------+-------------+\n",
      "|College 52|         UK|         27002| 2593| 11644|     10.0|             3574250|             Physics|  Swimming|                       39|            100.0|          655|\n",
      "|College 93|Switzerland|         11913| 9392|  2521| 6.951278|              762556|Chemical Engineering| Athletics|                       31|68.83999999999999|          256|\n",
      "|College 15|      Japan|         15644| 5475|  4388|9.3279225|             1795845|Business Administ...|Volleyball|                       37|91.99000000000001|          555|\n",
      "|College 72|  Singapore|         13239| 7363|  5876|8.6811115|             1222223|             Physics|    Tennis|                       48|            97.98|          455|\n",
      "|College 61|     Canada|         10236|13339| -3103|8.5605665|             1921133|       Biotechnology| Athletics|                       34|            83.56|          310|\n",
      "+----------+-----------+--------------+-----+------+---------+--------------------+--------------------+----------+-------------------------+-----------------+-------------+\n",
      "only showing top 5 rows"
     ]
    }
   ],
   "source": [
    "df = spark.read.options(header=True, sep=\",\").csv(path)\n",
    "print(df.printSchema(), end='\\n\\n')\n",
    "df.show(5)"
   ]
  },
  {
   "cell_type": "markdown",
   "id": "cdd13a5b-5ee7-4f95-99f5-4bb9bdd8dfa2",
   "metadata": {},
   "source": [
    "## read json files"
   ]
  },
  {
   "cell_type": "code",
   "execution_count": 19,
   "id": "ba323e73-1886-4702-8146-39b32f7fa170",
   "metadata": {},
   "outputs": [
    {
     "data": {
      "application/vnd.jupyter.widget-view+json": {
       "model_id": "",
       "version_major": 2,
       "version_minor": 0
      },
      "text/plain": [
       "FloatProgress(value=0.0, bar_style='info', description='Progress:', layout=Layout(height='25px', width='50%'),…"
      ]
     },
     "metadata": {},
     "output_type": "display_data"
    }
   ],
   "source": [
    "schema = StructType([\n",
    "    StructField(\"sepalLength\", StringType(), True),\n",
    "    StructField(\"sepalWidth\", StringType(), True),\n",
    "    StructField(\"petalLength\", StringType(), True),\n",
    "    StructField(\"petalWidth\", StringType(), True),\n",
    "    StructField(\"species\", StringType(), True)\n",
    "])"
   ]
  },
  {
   "cell_type": "code",
   "execution_count": 20,
   "id": "3b220c33-0e1b-4eb8-917c-814b9f473b20",
   "metadata": {},
   "outputs": [
    {
     "data": {
      "application/vnd.jupyter.widget-view+json": {
       "model_id": "",
       "version_major": 2,
       "version_minor": 0
      },
      "text/plain": [
       "FloatProgress(value=0.0, bar_style='info', description='Progress:', layout=Layout(height='25px', width='50%'),…"
      ]
     },
     "metadata": {},
     "output_type": "display_data"
    },
    {
     "name": "stdout",
     "output_type": "stream",
     "text": [
      "+-----------+----------+-----------+----------+-------+\n",
      "|sepalLength|sepalWidth|petalLength|petalWidth|species|\n",
      "+-----------+----------+-----------+----------+-------+\n",
      "|       null|      null|       null|      null|   null|\n",
      "|        5.1|       3.5|        1.4|       0.2| setosa|\n",
      "|        4.9|       3.0|        1.4|       0.2| setosa|\n",
      "+-----------+----------+-----------+----------+-------+\n",
      "only showing top 3 rows"
     ]
    }
   ],
   "source": [
    "df1 = spark.read.json(\"s3://shivchoudhury-datasets/JSON/iris.json\", schema = schema)\n",
    "df1.show(3)"
   ]
  },
  {
   "cell_type": "code",
   "execution_count": 21,
   "id": "8a7ba69f-dc20-4f36-be1e-ee6548812ab3",
   "metadata": {},
   "outputs": [
    {
     "data": {
      "application/vnd.jupyter.widget-view+json": {
       "model_id": "",
       "version_major": 2,
       "version_minor": 0
      },
      "text/plain": [
       "FloatProgress(value=0.0, bar_style='info', description='Progress:', layout=Layout(height='25px', width='50%'),…"
      ]
     },
     "metadata": {},
     "output_type": "display_data"
    },
    {
     "name": "stdout",
     "output_type": "stream",
     "text": [
      "+---------------+-----------+----------+-----------+----------+-------+\n",
      "|_corrupt_record|petalLength|petalWidth|sepalLength|sepalWidth|species|\n",
      "+---------------+-----------+----------+-----------+----------+-------+\n",
      "|              [|       null|      null|       null|      null|   null|\n",
      "|           null|        1.4|       0.2|        5.1|       3.5| setosa|\n",
      "|           null|        1.4|       0.2|        4.9|       3.0| setosa|\n",
      "|           null|        1.3|       0.2|        4.7|       3.2| setosa|\n",
      "|           null|        1.5|       0.2|        4.6|       3.1| setosa|\n",
      "+---------------+-----------+----------+-----------+----------+-------+\n",
      "only showing top 5 rows"
     ]
    }
   ],
   "source": [
    "df2 = spark.read.format(\"json\").option(\"header\", True).option(\"schema\", schema).load(\"s3://shivchoudhury-datasets/JSON/iris.json\")\n",
    "df2.show(5)"
   ]
  },
  {
   "cell_type": "code",
   "execution_count": 22,
   "id": "661fa8e9-540b-453f-81c2-7a3798889957",
   "metadata": {},
   "outputs": [
    {
     "data": {
      "application/vnd.jupyter.widget-view+json": {
       "model_id": "",
       "version_major": 2,
       "version_minor": 0
      },
      "text/plain": [
       "FloatProgress(value=0.0, bar_style='info', description='Progress:', layout=Layout(height='25px', width='50%'),…"
      ]
     },
     "metadata": {},
     "output_type": "display_data"
    },
    {
     "name": "stdout",
     "output_type": "stream",
     "text": [
      "root\n",
      " |-- _corrupt_record: string (nullable = true)\n",
      " |-- petalLength: double (nullable = true)\n",
      " |-- petalWidth: double (nullable = true)\n",
      " |-- sepalLength: double (nullable = true)\n",
      " |-- sepalWidth: double (nullable = true)\n",
      " |-- species: string (nullable = true)"
     ]
    }
   ],
   "source": [
    "df2.printSchema()"
   ]
  },
  {
   "cell_type": "code",
   "execution_count": 23,
   "id": "5a1f5505-132f-4180-968c-940277e498fc",
   "metadata": {},
   "outputs": [
    {
     "data": {
      "application/vnd.jupyter.widget-view+json": {
       "model_id": "",
       "version_major": 2,
       "version_minor": 0
      },
      "text/plain": [
       "FloatProgress(value=0.0, bar_style='info', description='Progress:', layout=Layout(height='25px', width='50%'),…"
      ]
     },
     "metadata": {},
     "output_type": "display_data"
    },
    {
     "name": "stdout",
     "output_type": "stream",
     "text": [
      "['_corrupt_record', 'petalLength', 'petalWidth', 'sepalLength', 'sepalWidth', 'species']"
     ]
    }
   ],
   "source": [
    "df2.columns"
   ]
  },
  {
   "cell_type": "markdown",
   "id": "0c024b7d-468f-43b1-8718-d002ce5ef39f",
   "metadata": {},
   "source": [
    "## createTempView"
   ]
  },
  {
   "cell_type": "code",
   "execution_count": 24,
   "id": "a65d4717-f2b6-40db-8d0a-dbf1ed08f8a4",
   "metadata": {},
   "outputs": [
    {
     "data": {
      "application/vnd.jupyter.widget-view+json": {
       "model_id": "",
       "version_major": 2,
       "version_minor": 0
      },
      "text/plain": [
       "FloatProgress(value=0.0, bar_style='info', description='Progress:', layout=Layout(height='25px', width='50%'),…"
      ]
     },
     "metadata": {},
     "output_type": "display_data"
    },
    {
     "name": "stdout",
     "output_type": "stream",
     "text": [
      "[Row(College ID='College 52', Country='UK', Total Students=27002, Male=2593, Female=11644, CGPA=10.0, Annual Family Income=3574250, Branch='Physics', Sports='Swimming', Research Papers Published=39, Placement Rate=100.0, Faculty Count=655), Row(College ID='College 93', Country='Switzerland', Total Students=11913, Male=9392, Female=2521, CGPA=6.951278, Annual Family Income=762556, Branch='Chemical Engineering', Sports='Athletics', Research Papers Published=31, Placement Rate=68.83999999999999, Faculty Count=256), Row(College ID='College 15', Country='Japan', Total Students=15644, Male=5475, Female=4388, CGPA=9.3279225, Annual Family Income=1795845, Branch='Business Administration', Sports='Volleyball', Research Papers Published=37, Placement Rate=91.99000000000001, Faculty Count=555), Row(College ID='College 72', Country='Singapore', Total Students=13239, Male=7363, Female=5876, CGPA=8.6811115, Annual Family Income=1222223, Branch='Physics', Sports='Tennis', Research Papers Published=48, Placement Rate=97.98, Faculty Count=455), Row(College ID='College 61', Country='Canada', Total Students=10236, Male=13339, Female=-3103, CGPA=8.5605665, Annual Family Income=1921133, Branch='Biotechnology', Sports='Athletics', Research Papers Published=34, Placement Rate=83.56, Faculty Count=310)]"
     ]
    }
   ],
   "source": [
    "df1 = spark.read.format(\"csv\").option(\"inferSchema\", True).option(\"header\", True).option(\"sep\", \",\").load(path)\n",
    "df1.take(5)"
   ]
  },
  {
   "cell_type": "code",
   "execution_count": 25,
   "id": "f1bee1a3-3a9a-4a69-a84a-b514b8858e46",
   "metadata": {},
   "outputs": [
    {
     "data": {
      "application/vnd.jupyter.widget-view+json": {
       "model_id": "",
       "version_major": 2,
       "version_minor": 0
      },
      "text/plain": [
       "FloatProgress(value=0.0, bar_style='info', description='Progress:', layout=Layout(height='25px', width='50%'),…"
      ]
     },
     "metadata": {},
     "output_type": "display_data"
    },
    {
     "name": "stdout",
     "output_type": "stream",
     "text": [
      "root\n",
      " |-- College ID: string (nullable = true)\n",
      " |-- Country: string (nullable = true)\n",
      " |-- Total Students: integer (nullable = true)\n",
      " |-- Male: integer (nullable = true)\n",
      " |-- Female: integer (nullable = true)\n",
      " |-- CGPA: double (nullable = true)\n",
      " |-- Annual Family Income: integer (nullable = true)\n",
      " |-- Branch: string (nullable = true)\n",
      " |-- Sports: string (nullable = true)\n",
      " |-- Research Papers Published: integer (nullable = true)\n",
      " |-- Placement Rate: double (nullable = true)\n",
      " |-- Faculty Count: integer (nullable = true)"
     ]
    }
   ],
   "source": [
    "df1.printSchema()"
   ]
  },
  {
   "cell_type": "code",
   "execution_count": 26,
   "id": "77f7aa6d-715f-4702-a890-5fdf31c0dcca",
   "metadata": {},
   "outputs": [
    {
     "data": {
      "application/vnd.jupyter.widget-view+json": {
       "model_id": "",
       "version_major": 2,
       "version_minor": 0
      },
      "text/plain": [
       "FloatProgress(value=0.0, bar_style='info', description='Progress:', layout=Layout(height='25px', width='50%'),…"
      ]
     },
     "metadata": {},
     "output_type": "display_data"
    },
    {
     "name": "stdout",
     "output_type": "stream",
     "text": [
      "+----------+-----------+--------------+-----+------+---------+--------------------+--------------------+----------+-------------------------+-----------------+-------------+\n",
      "|College ID|    Country|Total Students| Male|Female|     CGPA|Annual Family Income|              Branch|    Sports|Research Papers Published|   Placement Rate|Faculty Count|\n",
      "+----------+-----------+--------------+-----+------+---------+--------------------+--------------------+----------+-------------------------+-----------------+-------------+\n",
      "|College 52|         UK|         27002| 2593| 11644|     10.0|             3574250|             Physics|  Swimming|                       39|            100.0|          655|\n",
      "|College 93|Switzerland|         11913| 9392|  2521| 6.951278|              762556|Chemical Engineering| Athletics|                       31|68.83999999999999|          256|\n",
      "|College 15|      Japan|         15644| 5475|  4388|9.3279225|             1795845|Business Administ...|Volleyball|                       37|91.99000000000001|          555|\n",
      "|College 72|  Singapore|         13239| 7363|  5876|8.6811115|             1222223|             Physics|    Tennis|                       48|            97.98|          455|\n",
      "|College 61|     Canada|         10236|13339| -3103|8.5605665|             1921133|       Biotechnology| Athletics|                       34|            83.56|          310|\n",
      "+----------+-----------+--------------+-----+------+---------+--------------------+--------------------+----------+-------------------------+-----------------+-------------+\n",
      "only showing top 5 rows"
     ]
    }
   ],
   "source": [
    "df1.show(5)"
   ]
  },
  {
   "cell_type": "code",
   "execution_count": 27,
   "id": "d2a2e843-8e6f-457d-a31c-0f1107cec8bc",
   "metadata": {},
   "outputs": [
    {
     "data": {
      "application/vnd.jupyter.widget-view+json": {
       "model_id": "",
       "version_major": 2,
       "version_minor": 0
      },
      "text/plain": [
       "FloatProgress(value=0.0, bar_style='info', description='Progress:', layout=Layout(height='25px', width='50%'),…"
      ]
     },
     "metadata": {},
     "output_type": "display_data"
    }
   ],
   "source": [
    "df1.createOrReplaceTempView(\"college\")"
   ]
  },
  {
   "cell_type": "code",
   "execution_count": 28,
   "id": "2fe27d0b-458f-463a-a773-917d6cdc0251",
   "metadata": {},
   "outputs": [
    {
     "data": {
      "application/vnd.jupyter.widget-view+json": {
       "model_id": "",
       "version_major": 2,
       "version_minor": 0
      },
      "text/plain": [
       "FloatProgress(value=0.0, bar_style='info', description='Progress:', layout=Layout(height='25px', width='50%'),…"
      ]
     },
     "metadata": {},
     "output_type": "display_data"
    },
    {
     "name": "stdout",
     "output_type": "stream",
     "text": [
      "[Row(count(1)=50000)]"
     ]
    }
   ],
   "source": [
    "spark.sql(\"select count(*) from college\").collect()"
   ]
  },
  {
   "cell_type": "code",
   "execution_count": 29,
   "id": "2e4798da-c4a1-4626-96ca-546ff977220f",
   "metadata": {},
   "outputs": [
    {
     "data": {
      "application/vnd.jupyter.widget-view+json": {
       "model_id": "",
       "version_major": 2,
       "version_minor": 0
      },
      "text/plain": [
       "FloatProgress(value=0.0, bar_style='info', description='Progress:', layout=Layout(height='25px', width='50%'),…"
      ]
     },
     "metadata": {},
     "output_type": "display_data"
    },
    {
     "name": "stdout",
     "output_type": "stream",
     "text": [
      "+----------+-----------+--------------+----+------+---------+--------------------+--------------------+----------+-------------------------+-----------------+-------------+\n",
      "|College ID|    Country|Total Students|Male|Female|     CGPA|Annual Family Income|              Branch|    Sports|Research Papers Published|   Placement Rate|Faculty Count|\n",
      "+----------+-----------+--------------+----+------+---------+--------------------+--------------------+----------+-------------------------+-----------------+-------------+\n",
      "|College 52|         UK|         27002|2593| 11644|     10.0|             3574250|             Physics|  Swimming|                       39|            100.0|          655|\n",
      "|College 93|Switzerland|         11913|9392|  2521| 6.951278|              762556|Chemical Engineering| Athletics|                       31|68.83999999999999|          256|\n",
      "|College 15|      Japan|         15644|5475|  4388|9.3279225|             1795845|Business Administ...|Volleyball|                       37|91.99000000000001|          555|\n",
      "+----------+-----------+--------------+----+------+---------+--------------------+--------------------+----------+-------------------------+-----------------+-------------+"
     ]
    }
   ],
   "source": [
    "spark.sql(\"select * from college limit 3\").show()"
   ]
  },
  {
   "cell_type": "code",
   "execution_count": 30,
   "id": "6140f930-5fd9-4400-9a60-779eed9561ad",
   "metadata": {},
   "outputs": [
    {
     "data": {
      "application/vnd.jupyter.widget-view+json": {
       "model_id": "",
       "version_major": 2,
       "version_minor": 0
      },
      "text/plain": [
       "FloatProgress(value=0.0, bar_style='info', description='Progress:', layout=Layout(height='25px', width='50%'),…"
      ]
     },
     "metadata": {},
     "output_type": "display_data"
    },
    {
     "name": "stdout",
     "output_type": "stream",
     "text": [
      "+----------+--------------+\n",
      "|College ID|Total Students|\n",
      "+----------+--------------+\n",
      "|College 52|         27002|\n",
      "|College 93|         11913|\n",
      "|College 15|         15644|\n",
      "|College 72|         13239|\n",
      "|College 61|         10236|\n",
      "+----------+--------------+\n",
      "only showing top 5 rows"
     ]
    }
   ],
   "source": [
    "df1.selectExpr(\"`College ID`\", \"cast(`Total Students` as int)\").show(5)"
   ]
  },
  {
   "cell_type": "code",
   "execution_count": 31,
   "id": "78c8002f-db0f-4e2b-b230-9ae032b85ba7",
   "metadata": {},
   "outputs": [
    {
     "data": {
      "application/vnd.jupyter.widget-view+json": {
       "model_id": "",
       "version_major": 2,
       "version_minor": 0
      },
      "text/plain": [
       "FloatProgress(value=0.0, bar_style='info', description='Progress:', layout=Layout(height='25px', width='50%'),…"
      ]
     },
     "metadata": {},
     "output_type": "display_data"
    },
    {
     "name": "stdout",
     "output_type": "stream",
     "text": [
      "DataFrame[summary: string, College ID: string, Country: string, Total Students: string, Male: string, Female: string, CGPA: string, Annual Family Income: string, Branch: string, Sports: string, Research Papers Published: string, Placement Rate: string, Faculty Count: string]"
     ]
    }
   ],
   "source": [
    "print(df1.describe())"
   ]
  },
  {
   "cell_type": "code",
   "execution_count": 32,
   "id": "f2561f83-823f-4dd6-bfd5-b81b47adbdc4",
   "metadata": {},
   "outputs": [
    {
     "data": {
      "application/vnd.jupyter.widget-view+json": {
       "model_id": "",
       "version_major": 2,
       "version_minor": 0
      },
      "text/plain": [
       "FloatProgress(value=0.0, bar_style='info', description='Progress:', layout=Layout(height='25px', width='50%'),…"
      ]
     },
     "metadata": {},
     "output_type": "display_data"
    }
   ],
   "source": [
    "sch = StructType([\n",
    "    StructField(\"College ID\", StringType(), True),\n",
    "    StructField(\"Country\", StringType(), True),\n",
    "    StructField(\"Total Students\", IntegerType(), True),\n",
    "    StructField(\"Male\", IntegerType(), True),\n",
    "    StructField(\"Female\", IntegerType(), True),\n",
    "    StructField(\"CGPA\", DoubleType(), True),\n",
    "    StructField(\"Annual Family Income\", IntegerType(), True),\n",
    "    StructField(\"Branch\", StringType(), True),\n",
    "    StructField(\"Sports\", StringType(), True),\n",
    "    StructField(\"Research Papers Published\", IntegerType(), True),\n",
    "    StructField(\"Placement Rate\", DoubleType(), True),\n",
    "    StructField(\"Faculty Count\", IntegerType(), True)\n",
    "])"
   ]
  },
  {
   "cell_type": "code",
   "execution_count": 33,
   "id": "6de5f66e-b7dd-4729-99e4-4c9c9650c669",
   "metadata": {},
   "outputs": [
    {
     "data": {
      "application/vnd.jupyter.widget-view+json": {
       "model_id": "",
       "version_major": 2,
       "version_minor": 0
      },
      "text/plain": [
       "FloatProgress(value=0.0, bar_style='info', description='Progress:', layout=Layout(height='25px', width='50%'),…"
      ]
     },
     "metadata": {},
     "output_type": "display_data"
    },
    {
     "name": "stdout",
     "output_type": "stream",
     "text": [
      "[Row(College ID='College 52', Country='UK', Total Students=27002, Male=2593, Female=11644, CGPA=10.0, Annual Family Income=3574250, Branch='Physics', Sports='Swimming', Research Papers Published=39, Placement Rate=100.0, Faculty Count=655), Row(College ID='College 93', Country='Switzerland', Total Students=11913, Male=9392, Female=2521, CGPA=6.951278, Annual Family Income=762556, Branch='Chemical Engineering', Sports='Athletics', Research Papers Published=31, Placement Rate=68.83999999999999, Faculty Count=256), Row(College ID='College 15', Country='Japan', Total Students=15644, Male=5475, Female=4388, CGPA=9.3279225, Annual Family Income=1795845, Branch='Business Administration', Sports='Volleyball', Research Papers Published=37, Placement Rate=91.99000000000001, Faculty Count=555), Row(College ID='College 72', Country='Singapore', Total Students=13239, Male=7363, Female=5876, CGPA=8.6811115, Annual Family Income=1222223, Branch='Physics', Sports='Tennis', Research Papers Published=48, Placement Rate=97.98, Faculty Count=455), Row(College ID='College 61', Country='Canada', Total Students=10236, Male=13339, Female=-3103, CGPA=8.5605665, Annual Family Income=1921133, Branch='Biotechnology', Sports='Athletics', Research Papers Published=34, Placement Rate=83.56, Faculty Count=310)]"
     ]
    }
   ],
   "source": [
    "df2 = spark.read.format(\"csv\").option(\"inferSchema\", True).option(\"header\", True).option(\"sep\", \",\").option(\"schema\", sch).load(path)\n",
    "df2.take(5)"
   ]
  },
  {
   "cell_type": "code",
   "execution_count": 34,
   "id": "05ec7a74-1f00-4e36-9b1c-43c38f46f109",
   "metadata": {},
   "outputs": [
    {
     "data": {
      "application/vnd.jupyter.widget-view+json": {
       "model_id": "",
       "version_major": 2,
       "version_minor": 0
      },
      "text/plain": [
       "FloatProgress(value=0.0, bar_style='info', description='Progress:', layout=Layout(height='25px', width='50%'),…"
      ]
     },
     "metadata": {},
     "output_type": "display_data"
    },
    {
     "name": "stdout",
     "output_type": "stream",
     "text": [
      "+----------+-----------+--------------+----+------+---------+--------------------+--------------------+----------+-------------------------+-----------------+-------------+\n",
      "|College ID|    Country|Total Students|Male|Female|     CGPA|Annual Family Income|              Branch|    Sports|Research Papers Published|   Placement Rate|Faculty Count|\n",
      "+----------+-----------+--------------+----+------+---------+--------------------+--------------------+----------+-------------------------+-----------------+-------------+\n",
      "|College 52|         UK|         27002|2593| 11644|     10.0|             3574250|             Physics|  Swimming|                       39|            100.0|          655|\n",
      "|College 93|Switzerland|         11913|9392|  2521| 6.951278|              762556|Chemical Engineering| Athletics|                       31|68.83999999999999|          256|\n",
      "|College 15|      Japan|         15644|5475|  4388|9.3279225|             1795845|Business Administ...|Volleyball|                       37|91.99000000000001|          555|\n",
      "|College 72|  Singapore|         13239|7363|  5876|8.6811115|             1222223|             Physics|    Tennis|                       48|            97.98|          455|\n",
      "+----------+-----------+--------------+----+------+---------+--------------------+--------------------+----------+-------------------------+-----------------+-------------+\n",
      "only showing top 4 rows"
     ]
    }
   ],
   "source": [
    "df2.show(4)"
   ]
  },
  {
   "cell_type": "code",
   "execution_count": 35,
   "id": "18574d2e-736b-436b-8f26-09df2c313adc",
   "metadata": {},
   "outputs": [
    {
     "data": {
      "application/vnd.jupyter.widget-view+json": {
       "model_id": "",
       "version_major": 2,
       "version_minor": 0
      },
      "text/plain": [
       "FloatProgress(value=0.0, bar_style='info', description='Progress:', layout=Layout(height='25px', width='50%'),…"
      ]
     },
     "metadata": {},
     "output_type": "display_data"
    }
   ],
   "source": [
    "df3 = df2.orderBy(col('College ID').asc_nulls_last())"
   ]
  },
  {
   "cell_type": "code",
   "execution_count": 36,
   "id": "0a45e730-89be-4421-adf8-c76dee202f09",
   "metadata": {},
   "outputs": [
    {
     "data": {
      "application/vnd.jupyter.widget-view+json": {
       "model_id": "",
       "version_major": 2,
       "version_minor": 0
      },
      "text/plain": [
       "FloatProgress(value=0.0, bar_style='info', description='Progress:', layout=Layout(height='25px', width='50%'),…"
      ]
     },
     "metadata": {},
     "output_type": "display_data"
    },
    {
     "name": "stdout",
     "output_type": "stream",
     "text": [
      "+----------+-----------+--------------+----+------+-----------------+--------------------+--------------------+----------+-------------------------+------------------+-------------+\n",
      "|College ID|    Country|Total Students|Male|Female|             CGPA|Annual Family Income|              Branch|    Sports|Research Papers Published|    Placement Rate|Faculty Count|\n",
      "+----------+-----------+--------------+----+------+-----------------+--------------------+--------------------+----------+-------------------------+------------------+-------------+\n",
      "| College 1|      China|         24564|9056|  4980|9.802976000000001|             2685952|           Economics|Basketball|                       18|             93.82|          468|\n",
      "| College 1|  Singapore|         29549|2941|  9519|7.230817500000001|              661635|             Physics|  Swimming|                        4|63.449999999999996|          439|\n",
      "| College 1|      India|         27869|2345| 11541|         6.603773|              447546|Chemical Engineering|  Swimming|                       33|             84.99|          645|\n",
      "| College 1|      India|          2280|2066|   214|8.737012499999999|             4614025|Chemical Engineering|Volleyball|                       13|             78.96|          506|\n",
      "| College 1|Switzerland|         19764| 791|  1249|        8.0058765|              811753|    Computer Science| Badminton|                       20|             100.0|          572|\n",
      "+----------+-----------+--------------+----+------+-----------------+--------------------+--------------------+----------+-------------------------+------------------+-------------+\n",
      "only showing top 5 rows"
     ]
    }
   ],
   "source": [
    "df3.show(5)"
   ]
  },
  {
   "cell_type": "code",
   "execution_count": 37,
   "id": "bd0b99d3-e673-4580-96de-4e30ca98937b",
   "metadata": {},
   "outputs": [
    {
     "data": {
      "application/vnd.jupyter.widget-view+json": {
       "model_id": "",
       "version_major": 2,
       "version_minor": 0
      },
      "text/plain": [
       "FloatProgress(value=0.0, bar_style='info', description='Progress:', layout=Layout(height='25px', width='50%'),…"
      ]
     },
     "metadata": {},
     "output_type": "display_data"
    },
    {
     "name": "stdout",
     "output_type": "stream",
     "text": [
      "+----------+---------+--------------+----+------+-----------------+--------------------+--------------------+----------+-------------------------+--------------+-------------+------------------+\n",
      "|College ID|  Country|Total Students|Male|Female|             CGPA|Annual Family Income|              Branch|    Sports|Research Papers Published|Placement Rate|Faculty Count|     Montly Income|\n",
      "+----------+---------+--------------+----+------+-----------------+--------------------+--------------------+----------+-------------------------+--------------+-------------+------------------+\n",
      "| College 1|    China|         24564|9056|  4980|9.802976000000001|             2685952|           Economics|Basketball|                       18|         93.82|          468|223829.33333333334|\n",
      "| College 1|    India|         27869|2345| 11541|         6.603773|              447546|Chemical Engineering|  Swimming|                       33|         84.99|          645|           37295.5|\n",
      "| College 1|Singapore|          9542|4890|  4652|        9.3798705|             2339741|Electrical Engine...|     Chess|                       32|         64.29|          493|194978.41666666666|\n",
      "| College 1|    India|          2280|2066|   214|8.737012499999999|             4614025|Chemical Engineering|Volleyball|                       13|         78.96|          506| 384502.0833333333|\n",
      "+----------+---------+--------------+----+------+-----------------+--------------------+--------------------+----------+-------------------------+--------------+-------------+------------------+\n",
      "only showing top 4 rows"
     ]
    }
   ],
   "source": [
    "df3.withColumn(\"Montly Income\", expr('`Annual Family Income` / 12')).show(4)"
   ]
  },
  {
   "cell_type": "code",
   "execution_count": 38,
   "id": "ace7811f-5750-496e-9d81-8da6fbb62b06",
   "metadata": {},
   "outputs": [
    {
     "data": {
      "application/vnd.jupyter.widget-view+json": {
       "model_id": "",
       "version_major": 2,
       "version_minor": 0
      },
      "text/plain": [
       "FloatProgress(value=0.0, bar_style='info', description='Progress:', layout=Layout(height='25px', width='50%'),…"
      ]
     },
     "metadata": {},
     "output_type": "display_data"
    },
    {
     "name": "stdout",
     "output_type": "stream",
     "text": [
      "+----------+-----------+--------------+-----+------+---------+--------------------+--------------------+----------+-------------------------+-----------------+-------------+\n",
      "|College ID|    Country|Total Students| Male|Female|     CGPA|Annual Family Income|              Branch|    Sports|Research Papers Published|   Placement Rate|Faculty Count|\n",
      "+----------+-----------+--------------+-----+------+---------+--------------------+--------------------+----------+-------------------------+-----------------+-------------+\n",
      "|College 52|         UK|         27002| 2593| 11644|     10.0|             3574250|             Physics|  Swimming|                       39|            100.0|          655|\n",
      "|College 93|Switzerland|         11913| 9392|  2521| 6.951278|              762556|Chemical Engineering| Athletics|                       31|68.83999999999999|          256|\n",
      "|College 15|      Japan|         15644| 5475|  4388|9.3279225|             1795845|Business Administ...|Volleyball|                       37|91.99000000000001|          555|\n",
      "|College 72|  Singapore|         13239| 7363|  5876|8.6811115|             1222223|             Physics|    Tennis|                       48|            97.98|          455|\n",
      "|College 61|     Canada|         10236|13339| -3103|8.5605665|             1921133|       Biotechnology| Athletics|                       34|            83.56|          310|\n",
      "+----------+-----------+--------------+-----+------+---------+--------------------+--------------------+----------+-------------------------+-----------------+-------------+\n",
      "only showing top 5 rows"
     ]
    }
   ],
   "source": [
    "df2.show(5)"
   ]
  },
  {
   "cell_type": "code",
   "execution_count": 39,
   "id": "7bc3cb58-34a9-4703-b85c-21884aa4b330",
   "metadata": {},
   "outputs": [
    {
     "data": {
      "application/vnd.jupyter.widget-view+json": {
       "model_id": "",
       "version_major": 2,
       "version_minor": 0
      },
      "text/plain": [
       "FloatProgress(value=0.0, bar_style='info', description='Progress:', layout=Layout(height='25px', width='50%'),…"
      ]
     },
     "metadata": {},
     "output_type": "display_data"
    },
    {
     "name": "stdout",
     "output_type": "stream",
     "text": [
      "+----------+-----------+--------------+----+------+---------+--------------------+--------------------+----------+-------------------------+-----------------+-------------+\n",
      "|College_ID|    Country|Total Students|Male|Female|     CGPA|Annual Family Income|              Branch|    Sports|Research Papers Published|   Placement Rate|Faculty Count|\n",
      "+----------+-----------+--------------+----+------+---------+--------------------+--------------------+----------+-------------------------+-----------------+-------------+\n",
      "|College 52|         UK|         27002|2593| 11644|     10.0|             3574250|             Physics|  Swimming|                       39|            100.0|          655|\n",
      "|College 93|Switzerland|         11913|9392|  2521| 6.951278|              762556|Chemical Engineering| Athletics|                       31|68.83999999999999|          256|\n",
      "|College 15|      Japan|         15644|5475|  4388|9.3279225|             1795845|Business Administ...|Volleyball|                       37|91.99000000000001|          555|\n",
      "|College 72|  Singapore|         13239|7363|  5876|8.6811115|             1222223|             Physics|    Tennis|                       48|            97.98|          455|\n",
      "+----------+-----------+--------------+----+------+---------+--------------------+--------------------+----------+-------------------------+-----------------+-------------+\n",
      "only showing top 4 rows"
     ]
    }
   ],
   "source": [
    "df2.withColumnRenamed(\"College ID\", \"College_ID\").show(4)"
   ]
  },
  {
   "cell_type": "code",
   "execution_count": 40,
   "id": "0888034c-d9e0-4404-953c-e36593717b00",
   "metadata": {},
   "outputs": [
    {
     "data": {
      "application/vnd.jupyter.widget-view+json": {
       "model_id": "",
       "version_major": 2,
       "version_minor": 0
      },
      "text/plain": [
       "FloatProgress(value=0.0, bar_style='info', description='Progress:', layout=Layout(height='25px', width='50%'),…"
      ]
     },
     "metadata": {},
     "output_type": "display_data"
    },
    {
     "name": "stdout",
     "output_type": "stream",
     "text": [
      "+----------+-----------+--------------+----+------+---------+--------------------+--------------------+----------+-------------------------+-----------------+-------------+\n",
      "|College ID|    Country|Total Students|Male|Female|     CGPA|Annual Family Income|              Branch|    Sports|Research Papers Published|   Placement Rate|Faculty Count|\n",
      "+----------+-----------+--------------+----+------+---------+--------------------+--------------------+----------+-------------------------+-----------------+-------------+\n",
      "|College 52|         UK|         27002|2593| 11644|     10.0|             3574250|             Physics|  Swimming|                       39|            100.0|          655|\n",
      "|College 93|Switzerland|         11913|9392|  2521| 6.951278|              762556|Chemical Engineering| Athletics|                       31|68.83999999999999|          256|\n",
      "|College 15|      Japan|         15644|5475|  4388|9.3279225|             1795845|Business Administ...|Volleyball|                       37|91.99000000000001|          555|\n",
      "+----------+-----------+--------------+----+------+---------+--------------------+--------------------+----------+-------------------------+-----------------+-------------+\n",
      "only showing top 3 rows"
     ]
    }
   ],
   "source": [
    "df.show(3)"
   ]
  },
  {
   "cell_type": "markdown",
   "id": "d6440412-e9cc-4db8-b79a-f9d5df6082dc",
   "metadata": {},
   "source": [
    "## col, column, lit, broadcast"
   ]
  },
  {
   "cell_type": "code",
   "execution_count": 41,
   "id": "efbe07db-f14d-477a-8893-0c7b6b959053",
   "metadata": {},
   "outputs": [
    {
     "data": {
      "application/vnd.jupyter.widget-view+json": {
       "model_id": "",
       "version_major": 2,
       "version_minor": 0
      },
      "text/plain": [
       "FloatProgress(value=0.0, bar_style='info', description='Progress:', layout=Layout(height='25px', width='50%'),…"
      ]
     },
     "metadata": {},
     "output_type": "display_data"
    },
    {
     "name": "stdout",
     "output_type": "stream",
     "text": [
      "+-----------+-----------+--------------+-------+\n",
      "| College_ID|    Country|Total Students|Literal|\n",
      "+-----------+-----------+--------------+-------+\n",
      "| College 52|         UK|         27002|literal|\n",
      "| College 93|Switzerland|         11913|literal|\n",
      "| College 15|      Japan|         15644|literal|\n",
      "| College 72|  Singapore|         13239|literal|\n",
      "| College 61|     Canada|         10236|literal|\n",
      "| College 21|        USA|         22804|literal|\n",
      "| College 83|         UK|          8135|literal|\n",
      "| College 87|      China|         27548|literal|\n",
      "| College 75|  Singapore|         12794|literal|\n",
      "| College 75|      China|         23999|literal|\n",
      "| College 88|  Australia|          3850|literal|\n",
      "|College 100|      Japan|          2873|literal|\n",
      "| College 24|      Japan|          7904|literal|\n",
      "|  College 3|Switzerland|         25589|literal|\n",
      "| College 22|     Canada|          6717|literal|\n",
      "| College 53|  Australia|          9806|literal|\n",
      "|  College 2|         UK|          3269|literal|\n",
      "| College 88|  Singapore|         22168|literal|\n",
      "| College 30|      India|         23219|literal|\n",
      "| College 38|      Japan|          4549|literal|\n",
      "+-----------+-----------+--------------+-------+\n",
      "only showing top 20 rows"
     ]
    }
   ],
   "source": [
    "df2.select(col('College ID').alias('College_ID'), column('Country'), col('Total Students'), lit('literal').alias('Literal')).show()"
   ]
  },
  {
   "cell_type": "code",
   "execution_count": 42,
   "id": "6b0d4302-66c9-42e6-808f-a9af16905d13",
   "metadata": {},
   "outputs": [
    {
     "data": {
      "application/vnd.jupyter.widget-view+json": {
       "model_id": "",
       "version_major": 2,
       "version_minor": 0
      },
      "text/plain": [
       "FloatProgress(value=0.0, bar_style='info', description='Progress:', layout=Layout(height='25px', width='50%'),…"
      ]
     },
     "metadata": {},
     "output_type": "display_data"
    },
    {
     "name": "stdout",
     "output_type": "stream",
     "text": [
      "+-----+---+\n",
      "|value| id|\n",
      "+-----+---+\n",
      "|    1|  1|\n",
      "|    2|  2|\n",
      "+-----+---+"
     ]
    }
   ],
   "source": [
    "df = spark.createDataFrame([1, 2, 3, 3, 4], types.IntegerType())\n",
    "df_small = spark.range(3)\n",
    "df_b = broadcast(df_small)\n",
    "df.join(df_b, df.value == df_small.id).show()"
   ]
  },
  {
   "cell_type": "markdown",
   "id": "49e230ce-534f-45d5-856b-a1b0e5cd8d04",
   "metadata": {},
   "source": [
    "## coalesce"
   ]
  },
  {
   "cell_type": "code",
   "execution_count": 43,
   "id": "f75f51e9-70ed-4024-b968-c7efacdc1c7d",
   "metadata": {},
   "outputs": [
    {
     "data": {
      "application/vnd.jupyter.widget-view+json": {
       "model_id": "",
       "version_major": 2,
       "version_minor": 0
      },
      "text/plain": [
       "FloatProgress(value=0.0, bar_style='info', description='Progress:', layout=Layout(height='25px', width='50%'),…"
      ]
     },
     "metadata": {},
     "output_type": "display_data"
    },
    {
     "name": "stdout",
     "output_type": "stream",
     "text": [
      "+--------+\n",
      "|coalesce|\n",
      "+--------+\n",
      "|    null|\n",
      "|       1|\n",
      "|       2|\n",
      "|       3|\n",
      "|       5|\n",
      "|       4|\n",
      "+--------+\n",
      "\n",
      "+--------+\n",
      "|coalesce|\n",
      "+--------+\n",
      "|     N/A|\n",
      "|       1|\n",
      "|       2|\n",
      "|       3|\n",
      "|       5|\n",
      "|       4|\n",
      "+--------+"
     ]
    }
   ],
   "source": [
    "cDf = spark.createDataFrame([(None, None), (1, None), (None, 2), (3, 4), (5, None), (None, 4)], (\"a\", \"b\"))\n",
    "# print(cDf.show(), end='\\n\\n')\n",
    "cDf.select(coalesce(cDf[\"a\"], cDf[\"b\"]).alias('coalesce')).show()\n",
    "cDf.select(coalesce(cDf[\"a\"], cDf[\"b\"], lit('N/A')).alias('coalesce')).show()"
   ]
  },
  {
   "cell_type": "markdown",
   "id": "a954e534-795e-4166-8dad-999109b526f6",
   "metadata": {},
   "source": [
    "## Glue DataCatalog Hive"
   ]
  },
  {
   "cell_type": "code",
   "execution_count": 44,
   "id": "25a96f2b-9769-4a54-b8cc-d7461977cf5f",
   "metadata": {},
   "outputs": [
    {
     "data": {
      "application/vnd.jupyter.widget-view+json": {
       "model_id": "",
       "version_major": 2,
       "version_minor": 0
      },
      "text/plain": [
       "FloatProgress(value=0.0, bar_style='info', description='Progress:', layout=Layout(height='25px', width='50%'),…"
      ]
     },
     "metadata": {},
     "output_type": "display_data"
    },
    {
     "name": "stdout",
     "output_type": "stream",
     "text": [
      "DataFrame[]"
     ]
    }
   ],
   "source": [
    "spark.sql(\"CREATE DATABASE IF NOT EXISTS hive\")"
   ]
  },
  {
   "cell_type": "code",
   "execution_count": 45,
   "id": "1919a359-08f5-4e07-a9b2-797c2602e60d",
   "metadata": {},
   "outputs": [
    {
     "data": {
      "application/vnd.jupyter.widget-view+json": {
       "model_id": "",
       "version_major": 2,
       "version_minor": 0
      },
      "text/plain": [
       "FloatProgress(value=0.0, bar_style='info', description='Progress:', layout=Layout(height='25px', width='50%'),…"
      ]
     },
     "metadata": {},
     "output_type": "display_data"
    }
   ],
   "source": [
    "df1.write.mode(\"overwrite\").saveAsTable(\"hive.my_hive_table\")"
   ]
  },
  {
   "cell_type": "markdown",
   "id": "4b6f7c12-c379-4331-8b5c-b6e6b18867ca",
   "metadata": {},
   "source": [
    "## ArrayType"
   ]
  },
  {
   "cell_type": "code",
   "execution_count": 46,
   "id": "26800366-b2bb-4cfd-99a6-a6c3a73c1aa3",
   "metadata": {},
   "outputs": [
    {
     "data": {
      "application/vnd.jupyter.widget-view+json": {
       "model_id": "",
       "version_major": 2,
       "version_minor": 0
      },
      "text/plain": [
       "FloatProgress(value=0.0, bar_style='info', description='Progress:', layout=Layout(height='25px', width='50%'),…"
      ]
     },
     "metadata": {},
     "output_type": "display_data"
    }
   ],
   "source": [
    "from pyspark.sql.types import StructType, StructField, IntegerType, StringType, ArrayType\n",
    "from pyspark.sql.functions import col, array, explode, split"
   ]
  },
  {
   "cell_type": "code",
   "execution_count": 47,
   "id": "33fcc396-c581-41dc-b411-4359b02d8507",
   "metadata": {},
   "outputs": [
    {
     "data": {
      "application/vnd.jupyter.widget-view+json": {
       "model_id": "",
       "version_major": 2,
       "version_minor": 0
      },
      "text/plain": [
       "FloatProgress(value=0.0, bar_style='info', description='Progress:', layout=Layout(height='25px', width='50%'),…"
      ]
     },
     "metadata": {},
     "output_type": "display_data"
    },
    {
     "name": "stdout",
     "output_type": "stream",
     "text": [
      "+---+-------+\n",
      "| id|numbers|\n",
      "+---+-------+\n",
      "|abc| [1, 2]|\n",
      "|mno| [4, 5]|\n",
      "|xyz| [7, 8]|\n",
      "+---+-------+\n",
      "\n",
      "root\n",
      " |-- id: string (nullable = true)\n",
      " |-- numbers: array (nullable = true)\n",
      " |    |-- element: long (containsNull = true)"
     ]
    }
   ],
   "source": [
    "data = [('abc', [1, 2]), ('mno', [4, 5]), ('xyz', [7, 8])]\n",
    "df = spark.createDataFrame(data, ['id', 'numbers'])\n",
    "df.show(5)\n",
    "df.printSchema()"
   ]
  },
  {
   "cell_type": "code",
   "execution_count": 48,
   "id": "2bc505bd-3b4a-472d-a44a-2057b3abe89a",
   "metadata": {},
   "outputs": [
    {
     "data": {
      "application/vnd.jupyter.widget-view+json": {
       "model_id": "",
       "version_major": 2,
       "version_minor": 0
      },
      "text/plain": [
       "FloatProgress(value=0.0, bar_style='info', description='Progress:', layout=Layout(height='25px', width='50%'),…"
      ]
     },
     "metadata": {},
     "output_type": "display_data"
    },
    {
     "name": "stdout",
     "output_type": "stream",
     "text": [
      "+---+-------+\n",
      "| id|numbers|\n",
      "+---+-------+\n",
      "|abc| [1, 2]|\n",
      "|mno| [4, 5]|\n",
      "|xyz| [7, 8]|\n",
      "+---+-------+\n",
      "\n",
      "root\n",
      " |-- id: string (nullable = true)\n",
      " |-- numbers: array (nullable = true)\n",
      " |    |-- element: integer (containsNull = true)"
     ]
    }
   ],
   "source": [
    "sch = StructType([StructField('id', StringType()), StructField('numbers', ArrayType(IntegerType()))])\n",
    "df = spark.createDataFrame(data, schema=sch)\n",
    "df.show(5)\n",
    "df.printSchema()"
   ]
  },
  {
   "cell_type": "code",
   "execution_count": null,
   "id": "c13c83e4-999e-4592-a2ce-7fb215172a6c",
   "metadata": {},
   "outputs": [
    {
     "data": {
      "application/vnd.jupyter.widget-view+json": {
       "model_id": "319f85842695427babbadea12ad76897",
       "version_major": 2,
       "version_minor": 0
      },
      "text/plain": [
       "FloatProgress(value=0.0, bar_style='info', description='Progress:', layout=Layout(height='25px', width='50%'),…"
      ]
     },
     "metadata": {},
     "output_type": "display_data"
    }
   ],
   "source": [
    "df = spark.createDataFrame([(1, 2), (3, 4)], ['n1', 'n2'])\n",
    "df.show()\n",
    "df.withColumn('n3', array(col('n1'), col('n2'))).show()"
   ]
  },
  {
   "cell_type": "code",
   "execution_count": null,
   "id": "b466eb2e-20cf-4a87-b81a-0b3bd0ce942e",
   "metadata": {},
   "outputs": [],
   "source": [
    "data = [('abc', [1, 2, 9]), ('mno', [4, 5, 9]), ('xyz', [7, 8, 9])]\n",
    "sch = StructType([StructField('id', StringType()), StructField('numbers', ArrayType(IntegerType()))])\n",
    "df = spark.createDataFrame(data, schema=sch)\n",
    "df.show(5)\n",
    "df.printSchema()"
   ]
  },
  {
   "cell_type": "code",
   "execution_count": null,
   "id": "3f7029ba-ee63-496a-816e-142ace1f41f5",
   "metadata": {},
   "outputs": [],
   "source": [
    "data = [(1, 'Shiv Ram', ['C#', 'C++']), (2, 'Sonu', ['Python', 'AWS']), (3, 'Surbhi', ['Azure', 'Databricks'])]\n",
    "sch = ['id', 'name', 'skills']\n",
    "df = spark.createDataFrame(data, schema=sch)\n",
    "df.show()\n",
    "df.printSchema()\n",
    "df.withColumn('skill', explode(col('skills'))).show()"
   ]
  },
  {
   "cell_type": "code",
   "execution_count": null,
   "id": "fcece5a9-31a5-46ff-9e2c-576fd867eabd",
   "metadata": {},
   "outputs": [],
   "source": [
    "data = [(1, 'Shiv Ram', 'C#,C++'), (2, 'Sonu', 'Python,AWS'), (3, 'Surbhi', 'Azure,Databricks')]\n",
    "sch = ['id', 'name', 'skills']\n",
    "df = spark.createDataFrame(data, schema=sch)\n",
    "df.show()\n",
    "df.printSchema()\n",
    "df = df.withColumn('skill', split(col('skills'), ','))\n",
    "df.show()\n",
    "df.printSchema()"
   ]
  },
  {
   "cell_type": "code",
   "execution_count": null,
   "id": "90aa03de-be27-4cee-b4fe-06e6078f4a62",
   "metadata": {},
   "outputs": [],
   "source": [
    "df = df.withColumn('HasPythonSkill', array_contains(col('skill'), 'Python'))\n",
    "df.show()\n",
    "df.printSchema()"
   ]
  },
  {
   "cell_type": "markdown",
   "id": "fee8e835-6d26-482a-8b8d-e1de96fb1a0c",
   "metadata": {},
   "source": [
    "## MapType"
   ]
  },
  {
   "cell_type": "code",
   "execution_count": null,
   "id": "5886083d-50bc-4ddd-aa00-4d49e96a37c3",
   "metadata": {},
   "outputs": [],
   "source": [
    "data = [('maheer', {'hair': 'black', 'eye': 'brown'}), ('wafa', {'hair': 'black', 'eye': 'bue'})]\n",
    "schema = ['name', 'properties']\n",
    "df = spark.createDataFrame(data, schema)\n",
    "df.show(truncate=False, vertical=False)\n",
    "df.printSchema()"
   ]
  },
  {
   "cell_type": "code",
   "execution_count": null,
   "id": "cc3c7d24-6da0-427b-b17d-13b85857eaad",
   "metadata": {},
   "outputs": [],
   "source": [
    "data = [('maheer', {'hair': 'black', 'eye': 'brown'}), ('wafa', {'hair': 'black', 'eye': 'bue'})]\n",
    "schema = StructType([StructField('name', StringType()), StructField('properties', MapType(StringType(), StringType()))])\n",
    "df = spark.createDataFrame(data, schema)\n",
    "df.show(truncate=False, vertical=False)\n",
    "df.printSchema()"
   ]
  },
  {
   "cell_type": "code",
   "execution_count": null,
   "id": "d73ff0a8-0f7f-42d5-a2ed-aee727ad6c71",
   "metadata": {},
   "outputs": [],
   "source": [
    "df = df.withColumn('hair', df.properties['hair']).withColumn('eye', df.properties.getItem('eye'))\n",
    "df.show(truncate=False)"
   ]
  },
  {
   "cell_type": "code",
   "execution_count": null,
   "id": "5d2ec1d4-32ab-4bab-aa27-b7409aff7e1e",
   "metadata": {},
   "outputs": [],
   "source": [
    "df = df.select('name', 'properties', explode(df.properties))\n",
    "df.show(truncate=False)"
   ]
  },
  {
   "cell_type": "code",
   "execution_count": null,
   "id": "f3cff90d-ba96-46d2-8f95-84ee3cdbfaa4",
   "metadata": {},
   "outputs": [],
   "source": [
    "df.withColumn('keys', map_keys(df.properties)).withColumn('values', map_values(df.properties)).withColumn('val', explode(col('values'))).show()"
   ]
  },
  {
   "cell_type": "markdown",
   "id": "22f0d656-cda8-404d-8631-9b672b7856f1",
   "metadata": {},
   "source": [
    "## Row"
   ]
  },
  {
   "cell_type": "code",
   "execution_count": null,
   "id": "72a359c9-69b7-4917-b850-ad0085e673b0",
   "metadata": {},
   "outputs": [],
   "source": [
    "r1 = Row(name='Shiv', salary=2000)\n",
    "r2 = Row(name='Sonu', salary=3000)\n",
    "spark.createDataFrame([r1, r2]).show()"
   ]
  },
  {
   "cell_type": "code",
   "execution_count": null,
   "id": "601e3798-590a-4f82-a619-31743fffe1d9",
   "metadata": {},
   "outputs": [],
   "source": [
    "Person = Row('name', 'salry')\n",
    "p1 = Person('Shiv', 2000)\n",
    "p2 = Person('Sonu', 3000)\n",
    "spark.createDataFrame([p1, p2]).show()"
   ]
  },
  {
   "cell_type": "code",
   "execution_count": null,
   "id": "da718145-f242-4ab4-aade-4959cbb2a263",
   "metadata": {},
   "outputs": [],
   "source": [
    "data = [Row(name='Shiv Ram', prop = Row(age = 23, gender = 'male')), Row(name = 'Sonu', prop = Row(age = 24, gender = 'female'))]\n",
    "spark.createDataFrame(data).show()"
   ]
  },
  {
   "cell_type": "markdown",
   "id": "4ea187f2-eabe-4725-a732-f296121678bb",
   "metadata": {},
   "source": [
    "## when & otherwise"
   ]
  },
  {
   "cell_type": "code",
   "execution_count": null,
   "id": "f3e24784-d634-4686-915c-3f4fdbabf118",
   "metadata": {},
   "outputs": [],
   "source": [
    "data = [(1, 'Shiv', 'M', 2000), (2, 'Ram', 'M', 2000), (3, 'Sonu', '', 3000), (4, 'Rashi', 'F', 9000)]\n",
    "schema = ['id', 'name', 'gender', 'salary']\n",
    "df = spark.createDataFrame(data, schema = schema)\n",
    "df.show()"
   ]
  },
  {
   "cell_type": "code",
   "execution_count": null,
   "id": "ef13c7d6-bfc1-4d3b-89cf-8dab901ff0b6",
   "metadata": {},
   "outputs": [],
   "source": [
    "df1 = df.select(df.id, df.name, when(condition=df.gender=='M', value='Male').when(condition=df.gender=='F', value='Female').otherwise('Unknown').alias('Gender'), df.salary)\n",
    "df1.show()"
   ]
  },
  {
   "cell_type": "markdown",
   "id": "e3bb3bc6-e24d-4a99-8e23-449a26e94aa4",
   "metadata": {},
   "source": [
    "## alias, asc, desc, cast, like"
   ]
  },
  {
   "cell_type": "code",
   "execution_count": null,
   "id": "0b9a1999-3e58-4126-9d5f-47dd085e060f",
   "metadata": {},
   "outputs": [],
   "source": [
    "data = [(1, 'Shiv', 'M', 2000), (2, 'Ram', 'M', 2000), (3, 'Sonu', '', 3000), (4, 'Rashi', 'F', 9000)]\n",
    "schema = ['id', 'name', 'gender', 'salary']\n",
    "df = spark.createDataFrame(data, schema = schema)\n",
    "df.show()"
   ]
  },
  {
   "cell_type": "code",
   "execution_count": null,
   "id": "4e5ae16d-d818-4514-8b6f-c90ca4672859",
   "metadata": {},
   "outputs": [],
   "source": [
    "df.select(df.id.alias('ID'), df.name.alias('NAME'), df.gender.alias('GENDER'), df.salary.alias('SALARY')).show()"
   ]
  },
  {
   "cell_type": "code",
   "execution_count": null,
   "id": "4dd4de23-be23-4847-bb96-5a8691607cab",
   "metadata": {},
   "outputs": [],
   "source": [
    "df.sort(df.name.asc()).show()"
   ]
  },
  {
   "cell_type": "code",
   "execution_count": null,
   "id": "a8ab339d-b0ea-4c76-8013-5a09e5ec5e23",
   "metadata": {},
   "outputs": [],
   "source": [
    "df.sort(df.name.desc()).show()"
   ]
  },
  {
   "cell_type": "code",
   "execution_count": null,
   "id": "a56dee78-08e1-4809-a075-005df64f7be4",
   "metadata": {},
   "outputs": [],
   "source": [
    "df.select(df.id, df.name, df.gender, df.salary.cast('int')).printSchema()"
   ]
  },
  {
   "cell_type": "code",
   "execution_count": null,
   "id": "83972fe6-87f3-4986-8ef2-ee1b1b1d4da8",
   "metadata": {},
   "outputs": [],
   "source": [
    "df.filter(df.name.like('R%')).show()"
   ]
  },
  {
   "cell_type": "markdown",
   "id": "bbadbba7-b993-4bed-a1f5-92c821618480",
   "metadata": {},
   "source": [
    "## filter & where"
   ]
  },
  {
   "cell_type": "code",
   "execution_count": null,
   "id": "199bd4ed-aea1-4248-84b5-800958a276b1",
   "metadata": {},
   "outputs": [],
   "source": [
    "data = [(1, 'Shiv', 'M', 2000), (2, 'Ram', 'M', 2500), (3, 'Sonu', '', 3000), (4, 'Rashi', 'F', 9000)]\n",
    "schema = ['id', 'name', 'gender', 'salary']\n",
    "df = spark.createDataFrame(data, schema = schema)\n",
    "df.show()"
   ]
  },
  {
   "cell_type": "code",
   "execution_count": null,
   "id": "1078f310-8c22-493c-ae0e-05ab57dbddbf",
   "metadata": {},
   "outputs": [],
   "source": [
    "df.where(df.salary >= 2500).show()"
   ]
  },
  {
   "cell_type": "code",
   "execution_count": null,
   "id": "427c79cd-fb6b-4e2d-871c-0fd3bfa3af16",
   "metadata": {},
   "outputs": [],
   "source": [
    "df.filter(df.salary <= 2500).show()"
   ]
  },
  {
   "cell_type": "code",
   "execution_count": null,
   "id": "5515ce10-a1f9-4cab-b3de-c16143d64a20",
   "metadata": {},
   "outputs": [],
   "source": [
    "df.filter((df.salary >= 2500) & (df.gender == 'F')).show()"
   ]
  },
  {
   "cell_type": "markdown",
   "id": "05338bc7-312a-4825-898d-c67aa9a9752c",
   "metadata": {},
   "source": [
    "## distinct & dropDuplicates"
   ]
  },
  {
   "cell_type": "code",
   "execution_count": null,
   "id": "d618b3d2-e577-4acd-8c7e-734e3bfd9e59",
   "metadata": {},
   "outputs": [],
   "source": [
    "df.distinct().show()"
   ]
  },
  {
   "cell_type": "code",
   "execution_count": null,
   "id": "51b1f783-0fe4-4d50-bbf1-a9cac5f1291a",
   "metadata": {},
   "outputs": [],
   "source": [
    "df.dropDuplicates(['gender']).show()"
   ]
  },
  {
   "cell_type": "code",
   "execution_count": null,
   "id": "bdb0bd53-5efb-4131-b28b-334e78282dbf",
   "metadata": {},
   "outputs": [],
   "source": [
    "df.show()"
   ]
  },
  {
   "cell_type": "markdown",
   "id": "67bdb35c-ecd4-4b1c-a1fc-70470fcbe906",
   "metadata": {},
   "source": [
    "## sort & orderBy"
   ]
  },
  {
   "cell_type": "code",
   "execution_count": null,
   "id": "8d8124d5-0cf4-438a-b06e-ff3a65545f46",
   "metadata": {},
   "outputs": [],
   "source": [
    "data = [(1, 'Shiv', 'M', 2000, 'HR'), (2, 'Ram', 'M', 2500, 'CBO'), (3, 'Sonu', 'M', 3000, 'CNM'), (4, 'Rashi', 'F', 9000, 'EP'), (5, 'Ritika', 'F', 4000, 'AMC')]\n",
    "schema = ['id', 'name', 'gender', 'salary', 'department']\n",
    "df = spark.createDataFrame(data, schema = schema)\n",
    "df.show()"
   ]
  },
  {
   "cell_type": "code",
   "execution_count": null,
   "id": "1f1e1cf4-444a-4b83-8080-9423a8590434",
   "metadata": {},
   "outputs": [],
   "source": [
    "df.sort('name', df.department).show()"
   ]
  },
  {
   "cell_type": "code",
   "execution_count": null,
   "id": "39472a37-76b0-452c-be57-0463d4174765",
   "metadata": {},
   "outputs": [],
   "source": [
    "df.orderBy(df.name.desc(), df.department).show()"
   ]
  },
  {
   "cell_type": "code",
   "execution_count": null,
   "id": "457f25d9-e351-4420-93e7-d5f0cf2e0a23",
   "metadata": {},
   "outputs": [],
   "source": [
    "df1 = df"
   ]
  },
  {
   "cell_type": "code",
   "execution_count": null,
   "id": "9992656a-516e-45fa-b906-dd4d02a35077",
   "metadata": {},
   "outputs": [],
   "source": [
    "df1.show()\n",
    "df.show()"
   ]
  },
  {
   "cell_type": "code",
   "execution_count": null,
   "id": "b5fde7da-813e-4a08-ba47-3484e581cc13",
   "metadata": {},
   "outputs": [],
   "source": [
    "df1.unionAll(df).show()"
   ]
  },
  {
   "cell_type": "code",
   "execution_count": null,
   "id": "ea7f16a0-c7f6-4b0e-a72f-86ec7d9951d2",
   "metadata": {},
   "outputs": [],
   "source": [
    "df1.union(df).show()"
   ]
  },
  {
   "cell_type": "markdown",
   "id": "e193d604-ccf8-4d46-82ea-3b22e878b0f2",
   "metadata": {},
   "source": [
    "## groupBy"
   ]
  },
  {
   "cell_type": "code",
   "execution_count": null,
   "id": "83c5daf2-32de-49f0-ae75-12c499ac4d28",
   "metadata": {},
   "outputs": [],
   "source": [
    "df = spark.read.csv(path, sep=',', header=True, inferSchema=True)\n",
    "df.printSchema()"
   ]
  },
  {
   "cell_type": "code",
   "execution_count": null,
   "id": "9faeea7c-d350-40f3-a04d-c87c8b30d3fc",
   "metadata": {},
   "outputs": [],
   "source": [
    "df.describe()"
   ]
  },
  {
   "cell_type": "code",
   "execution_count": null,
   "id": "f713ef33-0076-43eb-976d-f37747709e18",
   "metadata": {},
   "outputs": [],
   "source": [
    "df.show(4)"
   ]
  },
  {
   "cell_type": "code",
   "execution_count": null,
   "id": "dce27bf2-0ee9-4737-b315-a6cc41af04f2",
   "metadata": {},
   "outputs": [],
   "source": [
    "# df.dropDuplicates(df.Branch)\n",
    "df.dropDuplicates(['Branch']).select('Branch').show(50,truncate=False)"
   ]
  },
  {
   "cell_type": "code",
   "execution_count": null,
   "id": "4963d269-b5e8-48d8-878d-03ee621d3438",
   "metadata": {},
   "outputs": [],
   "source": [
    "df.groupBy(df.Branch).count().show(truncate=False)\n",
    "df.groupBy(df.Branch).min('Annual Family Income').show(truncate=False)\n",
    "df.groupBy(df.Branch).max('Annual Family Income').show(truncate=False)"
   ]
  },
  {
   "cell_type": "markdown",
   "id": "9afb81b6-fa86-4831-b6cb-9bb551fce119",
   "metadata": {},
   "source": [
    "## agg"
   ]
  },
  {
   "cell_type": "code",
   "execution_count": null,
   "id": "628139d3-788e-4eea-8280-583f21b0fd7d",
   "metadata": {},
   "outputs": [],
   "source": [
    "df.groupBy(df.Branch).agg(count('*').alias('COUNT'), min('Annual Family Income').alias('Min Annual Family Income'), max('Annual Family Income').alias('Max Annual Family Income')).show(truncate=False)"
   ]
  },
  {
   "cell_type": "markdown",
   "id": "db3480ce-3978-48b2-9217-fa8334beba4c",
   "metadata": {},
   "source": [
    "## unionByName"
   ]
  },
  {
   "cell_type": "code",
   "execution_count": null,
   "id": "9b743af3-fed6-46f0-8e8b-37235e88c1f2",
   "metadata": {},
   "outputs": [],
   "source": [
    "data1 = [(1, 'Shiv', 'M', 2000, 'HR'), (2, 'Ram', 'M', 2500, 'CBO'), (3, 'Sonu', 'M', 3000, 'CNM'), (4, 'Rashi', 'F', 9000, 'EP'), (5, 'Ritika', 'F', 4000, 'AMC')]\n",
    "schema1 = ['id', 'name', 'gender', 'salary', 'department']\n",
    "df1 = spark.createDataFrame(data1, schema = schema1)\n",
    "df1.show()\n",
    "\n",
    "data2 = [(1, 'Shiv', 'M', 2000), (2, 'Ram', 'M', 2500), (3, 'Sonu', 'M', 3000), (4, 'Rashi', 'F', 9000), (5, 'Ritika', 'F', 4000)]\n",
    "schema2 = ['id', 'name', 'gender', 'salary']\n",
    "df2 = spark.createDataFrame(data2, schema = schema2)\n",
    "df2.show()"
   ]
  },
  {
   "cell_type": "code",
   "execution_count": null,
   "id": "c4b4fe6b-28fa-4db3-b511-83675dc22e64",
   "metadata": {},
   "outputs": [],
   "source": [
    "df1.unionByName(df2, allowMissingColumns=True).show()"
   ]
  },
  {
   "cell_type": "markdown",
   "id": "e8b350b7-6b8d-4edf-918e-2d9233928583",
   "metadata": {},
   "source": [
    "## Joins"
   ]
  },
  {
   "cell_type": "code",
   "execution_count": null,
   "id": "a980271a-5c04-4f88-a761-73c9f7b22e6c",
   "metadata": {},
   "outputs": [],
   "source": [
    "data1 = [(1, 'Maheer', 2000, 2), (2, 'Wafa', 3000, 1), (3, 'Sonu', 1000, 4)]\n",
    "sch1 = ['id', 'name', 'salary', 'dep']\n",
    "\n",
    "data2 = [(1, 'IT'), (2, 'HR'), (3, 'Payroll')]\n",
    "sch2 = ['id', 'name']\n",
    "\n",
    "empDF = spark.createDataFrame(data1, sch1)\n",
    "depDF = spark.createDataFrame(data2, sch2)\n",
    "empDF.show()\n",
    "depDF.show()\n",
    "\n",
    "empDF.join(depDF, empDF.dep == depDF.id, 'inner').show()\n",
    "empDF.join(depDF, empDF.dep == depDF.id, 'left').show()\n",
    "empDF.join(depDF, empDF.dep == depDF.id, 'right').show()\n",
    "empDF.join(depDF, empDF.dep == depDF.id, 'full').show()"
   ]
  },
  {
   "cell_type": "code",
   "execution_count": null,
   "id": "79aa1885-8a15-4be2-8e40-a3da5ec5cfe3",
   "metadata": {},
   "outputs": [],
   "source": [
    "empDF.join(depDF, empDF.dep == depDF.id, 'left').show()\n",
    "empDF.join(depDF, empDF.dep == depDF.id, 'leftsemi').show()\n",
    "empDF.join(depDF, empDF.dep == depDF.id, 'leftanti').show()"
   ]
  },
  {
   "cell_type": "code",
   "execution_count": null,
   "id": "c5495e38-389f-4723-b2c5-a4653f28a521",
   "metadata": {},
   "outputs": [],
   "source": [
    "data = [(1, 'Maheer', 0), (2, 'Wafa', 1), (3, 'Shiv', 2)]\n",
    "sch = ['id', 'name', 'managerId']\n",
    "\n",
    "df1 = spark.createDataFrame(data, sch)\n",
    "\n",
    "df1.alias('emp').join(df1.alias('manager'), col('emp.managerId') == col('manager.id'), 'left').select(col('emp.name').alias('empName'), col('manager.name').alias('managerName')).show()"
   ]
  },
  {
   "cell_type": "markdown",
   "id": "54415ab6-2e20-4f6d-9e9a-b2fc3e3b20c9",
   "metadata": {},
   "source": [
    "## pivot & unpivot"
   ]
  },
  {
   "cell_type": "code",
   "execution_count": null,
   "id": "8ef15130-f58f-46fe-9d33-800fedbb820a",
   "metadata": {},
   "outputs": [],
   "source": [
    "data = [(1, 'Maheer', 'Male', 'IT'), (2, 'Wafa', 'Male', 'IT'), (3, 'Ritika', 'Female', 'HR'), (4, 'Rashi', 'Female', 'IT'), (5, 'Shweta', 'Female', 'IT'), (6, 'Sonu', 'Male', 'HR'), (7, 'Shiv', 'Male', 'HR'), (8, 'Ram', 'Female', 'IT')]\n",
    "schema = ['id', 'name', 'gender', 'dep']\n",
    "\n",
    "df = spark.createDataFrame(data, schema)\n",
    "# df.show()\n",
    "\n",
    "df.groupBy('dep').pivot('gender').count().show()\n",
    "df.groupBy('dep').pivot('gender', ['Male', 'Female']).agg(count('*')).show()"
   ]
  },
  {
   "cell_type": "code",
   "execution_count": null,
   "id": "e553f2bc-a1b5-4098-854c-04d704b72492",
   "metadata": {},
   "outputs": [],
   "source": [
    "data = [('IT', 8, 5), ('Payroll', 3, 2), ('HR', 2, 4)]\n",
    "schema = ['dep', 'male', 'female']\n",
    "df = spark.createDataFrame(data, schema)\n",
    "df.show()\n",
    "\n",
    "# df.select('dep', expr(\"stack(2, 'Male', 'male', 'Female', 'female') as (gender, count)\")).show()\n",
    "\n",
    "df.select('dep', expr(\"stack(2, 'Male', male, 'Female', female) as (gender, count)\")).show() # unpivot"
   ]
  },
  {
   "cell_type": "markdown",
   "id": "06ca8675-03ed-400f-8abd-43f9195b95ad",
   "metadata": {},
   "source": [
    "## fill & fillna"
   ]
  },
  {
   "cell_type": "code",
   "execution_count": null,
   "id": "69bdb48c-a4cd-4208-83b6-8e86df254116",
   "metadata": {},
   "outputs": [],
   "source": [
    "data = [(1, 'Maheer', 'male', 1000, None), (2, 'Asi', 'Female', 2000, 'IT'), (3, 'Shiv', None, 1000, 'HR')]\n",
    "schema = ['id', 'name', 'gender', 'salary', 'dep']\n",
    "\n",
    "df = spark.createDataFrame(data, schema)\n",
    "df.show()\n",
    "df.na.fill('unknown', ['gender']).show()\n",
    "df.fillna('unknown', ['dep']).show()\n",
    "df.fillna('unknown').show()"
   ]
  },
  {
   "cell_type": "markdown",
   "id": "82ece826-3ba4-4d2e-9464-e8ef2b091788",
   "metadata": {},
   "source": [
    "## sample"
   ]
  },
  {
   "cell_type": "code",
   "execution_count": null,
   "id": "3b27e9e4-a35e-415f-914e-bfaf70bd08db",
   "metadata": {},
   "outputs": [],
   "source": [
    "df = spark.range(start = 1, end = 101)\n",
    "df1 = df.sample(fraction = 0.1, seed = 123)\n",
    "df2 = df.sample(fraction = 0.1, seed = 123)\n",
    "\n",
    "df.show()\n",
    "df1.show()\n",
    "df2.show()"
   ]
  },
  {
   "cell_type": "markdown",
   "id": "6007121c-d617-4e7d-9a63-1c9499b58313",
   "metadata": {},
   "source": [
    "## transform"
   ]
  },
  {
   "cell_type": "code",
   "execution_count": null,
   "id": "2e38d718-fa3d-4fee-ad0b-91dec5611025",
   "metadata": {},
   "outputs": [],
   "source": [
    "data = [(1, 'Maheer', 2000), (2, 'Wafa', 3000)]\n",
    "schema = ['id', 'name', 'salary']\n",
    "\n",
    "df = spark.createDataFrame(data, schema)\n",
    "df.show()\n",
    "\n",
    "def convertToUpper(df):\n",
    "    return df.withColumn('name', upper(df.name))\n",
    "\n",
    "def doubleTheSalary(df):\n",
    "    return df.withColumn('salary', df.salary * 2)\n",
    "\n",
    "df1 = df.transform(convertToUpper).transform(doubleTheSalary)\n",
    "df1.show()"
   ]
  },
  {
   "cell_type": "code",
   "execution_count": null,
   "id": "81fb2f79-ba32-4b66-8739-d3d87510b3b7",
   "metadata": {},
   "outputs": [],
   "source": [
    "data = [(1, 'Maheer', ['azure', 'dotnet']), (2, 'Wafa', ['aws', 'java'])]\n",
    "schema = ['id', 'name', 'skills']\n",
    "df = spark.createDataFrame(data, schema)\n",
    "df.show()\n",
    "df.printSchema()\n",
    "\n",
    "df.select('id', 'name', transform('skills', lambda x: upper(x)).alias('skills')).show()\n",
    "\n",
    "def convertToUpper1(x): return upper(x)\n",
    "\n",
    "df.select(transform('skills', convertToUpper1).alias('skills')).show()"
   ]
  },
  {
   "cell_type": "markdown",
   "id": "5f47b64c-9e96-48ea-85ce-0671173039d5",
   "metadata": {},
   "source": [
    "## createOrReplaceTempView & createOrReplaceGlobalTempView"
   ]
  },
  {
   "cell_type": "code",
   "execution_count": null,
   "id": "5c35f03b-20eb-4eb1-87bd-3d481b1f277d",
   "metadata": {},
   "outputs": [],
   "source": [
    "df = spark.read.csv(path, sep=',', header=True)\n",
    "df.printSchema()"
   ]
  },
  {
   "cell_type": "code",
   "execution_count": null,
   "id": "16c4b250-42f2-4000-9568-992066e5055c",
   "metadata": {},
   "outputs": [],
   "source": [
    "df.show(5)"
   ]
  },
  {
   "cell_type": "code",
   "execution_count": null,
   "id": "939b4f87-6279-4e4a-a4ce-a839b0bb4369",
   "metadata": {},
   "outputs": [],
   "source": [
    "df.createOrReplaceTempView('college')"
   ]
  },
  {
   "cell_type": "code",
   "execution_count": null,
   "id": "159b68ff-fc33-4951-ac6c-dab3bfe36490",
   "metadata": {},
   "outputs": [],
   "source": [
    "spark.sql('select * from college limit 1').show(truncate=False, vertical=True);"
   ]
  },
  {
   "cell_type": "code",
   "execution_count": null,
   "id": "885f6307-912d-41f6-aa7e-5adac9aa8441",
   "metadata": {},
   "outputs": [],
   "source": [
    "df.createOrReplaceGlobalTempView('college')"
   ]
  },
  {
   "cell_type": "code",
   "execution_count": null,
   "id": "6da7c7ce-2146-4a17-bac0-f96ab417aa3f",
   "metadata": {},
   "outputs": [],
   "source": [
    "spark.catalog.currentDatabase()"
   ]
  },
  {
   "cell_type": "code",
   "execution_count": null,
   "id": "d469c08a-883b-40cb-9e43-93c267af9aa4",
   "metadata": {},
   "outputs": [],
   "source": [
    "spark.catalog.listTables()"
   ]
  },
  {
   "cell_type": "code",
   "execution_count": null,
   "id": "32cb6a7b-22b2-48bb-a2ea-1886f0c3a553",
   "metadata": {},
   "outputs": [],
   "source": [
    "spark.catalog.listTables(spark.catalog.currentDatabase())"
   ]
  },
  {
   "cell_type": "code",
   "execution_count": null,
   "id": "fd9db53f-f6ba-4170-96f6-f54e29b68e79",
   "metadata": {},
   "outputs": [],
   "source": [
    "spark.catalog.listTables('global_temp')"
   ]
  },
  {
   "cell_type": "code",
   "execution_count": null,
   "id": "7cb716cc-b914-4f11-8fcc-bcb6e5eecf44",
   "metadata": {},
   "outputs": [],
   "source": [
    "spark.catalog.dropTempView('college')"
   ]
  },
  {
   "cell_type": "markdown",
   "id": "1eea37e4-239a-4cb5-a178-8eb57b13f6e8",
   "metadata": {},
   "source": [
    "## UDF -> User Defined Functions"
   ]
  },
  {
   "cell_type": "code",
   "execution_count": null,
   "id": "784a3ce5-7a16-4539-81bb-6dc817429e26",
   "metadata": {},
   "outputs": [],
   "source": [
    "data = [(1, 'Maheer', 2000, 500), (2, 'Wafa', 4000, 1000)]\n",
    "schema = ['id', 'name', 'salary', 'bonus']\n",
    "\n",
    "df = spark.createDataFrame(data, schema)\n",
    "df.show()\n",
    "\n",
    "def totalPay(s, b): return s + b\n",
    "\n",
    "TotalPay = udf(lambda x, y: totalPay(x, y), IntegerType())\n",
    "\n",
    "df.select('*', TotalPay(col('salary'), col('bonus')).alias('totalPay')).show()\n",
    "df.withColumn('totalPay', TotalPay(df.salary, df.bonus)).show()"
   ]
  },
  {
   "cell_type": "code",
   "execution_count": null,
   "id": "e60c3b5a-713e-464a-845a-cd181397eb83",
   "metadata": {},
   "outputs": [],
   "source": [
    "spark.udf.register(name='TotalPay', f=totalPay, returnType=IntegerType())"
   ]
  },
  {
   "cell_type": "code",
   "execution_count": null,
   "id": "8149ce33-f2be-46c4-8fc0-6599e870ddde",
   "metadata": {},
   "outputs": [],
   "source": [
    "df.createOrReplaceTempView('df')"
   ]
  },
  {
   "cell_type": "code",
   "execution_count": null,
   "id": "246807bc-a9b9-4c85-b2cd-6e284f63913e",
   "metadata": {},
   "outputs": [],
   "source": [
    "spark.sql('select *, TotalPay(`salary`, `bonus`) as totalPay from df').show(2)"
   ]
  },
  {
   "cell_type": "code",
   "execution_count": null,
   "id": "0db6bcc6-18cc-44f6-a4da-e04a815601f1",
   "metadata": {},
   "outputs": [],
   "source": [
    "data = [(1, 'Maheer', 2000, 500), (2, 'Wafa', 4000, 1000)]\n",
    "schema = ['id', 'name', 'salary', 'bonus']\n",
    "\n",
    "df = spark.createDataFrame(data, schema)\n",
    "df.show()\n",
    "@udf(returnType=IntegerType())\n",
    "def totalPay(s, b):\n",
    "    return s + b\n",
    "df.select('*', TotalPay(col('salary'), col('bonus')).alias('totalPay')).show()\n",
    "df.withColumn('totalPay', TotalPay(df.salary, df.bonus)).show()"
   ]
  },
  {
   "cell_type": "markdown",
   "id": "4b83392d-c767-47e2-bc26-06cd9a896e98",
   "metadata": {},
   "source": [
    "## map & toDF"
   ]
  },
  {
   "cell_type": "code",
   "execution_count": null,
   "id": "4540b7fa-7894-415f-bc31-9cb9f07663e9",
   "metadata": {},
   "outputs": [],
   "source": [
    "data = [('Shiv Ram', 'Choudhury'), ('Sonu', 'Choudhury')]\n",
    "r1 = spark.sparkContext.parallelize(data)\n",
    "r2 = r1.map(lambda x: x + (x[0] + ' ' + x[1],))\n",
    "r2.collect()"
   ]
  },
  {
   "cell_type": "code",
   "execution_count": null,
   "id": "f0a38fc4-6450-4ad1-8a6b-22daa05678be",
   "metadata": {},
   "outputs": [],
   "source": [
    "def fullname(x): return x + (x[0] + ' ' + x[1],)"
   ]
  },
  {
   "cell_type": "code",
   "execution_count": null,
   "id": "21c1b065-ed98-4db4-b767-b3bf08fe62cf",
   "metadata": {},
   "outputs": [],
   "source": [
    "df = spark.createDataFrame(data, ['fn', 'ln'])\n",
    "r3 = df.rdd.map(lambda x: fullname(x))\n",
    "r3.collect()\n",
    "df1 = r3.toDF(['fn', 'ln', 'fullname'])\n",
    "df1.collect()"
   ]
  },
  {
   "cell_type": "code",
   "execution_count": null,
   "id": "6541a715-3512-408d-bb80-995a9975e7b7",
   "metadata": {},
   "outputs": [],
   "source": [
    "df = spark.createDataFrame(data, ['fn', 'ln'])\n",
    "r3 = df.rdd.map(lambda x: x + (x[0] + ' ' + x[1],))\n",
    "df1 = r3.toDF(['fn', 'ln', 'fullname'])\n",
    "df1.collect()"
   ]
  },
  {
   "cell_type": "markdown",
   "id": "ae728f52-e602-40cf-84c0-654b9d4ee121",
   "metadata": {},
   "source": [
    "## flatMap()"
   ]
  },
  {
   "cell_type": "code",
   "execution_count": null,
   "id": "6bfc6bb8-4bc6-47e0-8f34-7b08916fe013",
   "metadata": {},
   "outputs": [],
   "source": [
    "data = ['Shiv Ram', 'Sonu Chodhury']\n",
    "r1 = spark.sparkContext.parallelize(data)\n",
    "for item in r1.collect():\n",
    "    print(item)\n",
    "\n",
    "print()\n",
    "r2 = r1.map(lambda x: x.split(' '))\n",
    "for item in r2.collect():\n",
    "    print(item)\n",
    "\n",
    "print()\n",
    "r3 = r1.flatMap(lambda x: x.split(' '))\n",
    "for item in r3.collect():\n",
    "    print(item)"
   ]
  },
  {
   "cell_type": "markdown",
   "id": "2f94aaf7-e02f-4d00-a4e6-44b1276be218",
   "metadata": {},
   "source": [
    "## partitionBy"
   ]
  },
  {
   "cell_type": "code",
   "execution_count": null,
   "id": "0b86f865-d27d-41ab-8d33-d923e63692ae",
   "metadata": {},
   "outputs": [],
   "source": [
    "df = spark.read.csv(path, sep=',', header=True)\n",
    "df.printSchema()"
   ]
  },
  {
   "cell_type": "code",
   "execution_count": null,
   "id": "90f77719-d559-46e4-9e3a-cbcd8fe78bb3",
   "metadata": {},
   "outputs": [],
   "source": [
    "df.write.parquet(\"s3://shivchoudhury-datasets/csv_output/college\", mode='overwrite', partitionBy='Country')"
   ]
  },
  {
   "cell_type": "code",
   "execution_count": null,
   "id": "41617d95-771f-4d2d-b3ef-da2a91eab2a8",
   "metadata": {},
   "outputs": [],
   "source": [
    "df.write.option(\"header\", True).partitionBy(\"Country\").mode(\"overwrite\").csv(\"s3://shivchoudhury-datasets/csv_output/college1\")"
   ]
  },
  {
   "cell_type": "code",
   "execution_count": null,
   "id": "8664f290-5976-409c-b2b1-1e86805d2b14",
   "metadata": {},
   "outputs": [],
   "source": [
    "spark.read.parquet('s3://shivchoudhury-datasets/csv_output/college/Country=Australia').printSchema()"
   ]
  },
  {
   "cell_type": "markdown",
   "id": "89a235e9-d0ca-4219-85f9-ae1454eb6c3d",
   "metadata": {},
   "source": [
    "## from_json"
   ]
  },
  {
   "cell_type": "code",
   "execution_count": null,
   "id": "5cf3271f-3bfd-46c9-b240-1fe59af74aed",
   "metadata": {},
   "outputs": [],
   "source": [
    "data = [('Shiv', '{\"hair\": \"black\", \"eye\": \"brown\"}')]\n",
    "schema = ['name', 'props']\n",
    "df = spark.createDataFrame(data, schema)\n",
    "df.show(truncate = False)\n",
    "df.printSchema()"
   ]
  },
  {
   "cell_type": "code",
   "execution_count": null,
   "id": "4bf4df2f-3c5a-4872-87fa-423fdf0134c2",
   "metadata": {},
   "outputs": [],
   "source": [
    "df1 = df.withColumn('propsMap', from_json(df.props, MapType(StringType(), StringType())))\n",
    "df1.show(truncate = False)\n",
    "df1.printSchema()\n",
    "df1.show()"
   ]
  },
  {
   "cell_type": "code",
   "execution_count": null,
   "id": "9345e048-446e-4094-ac9a-f093145fb7b8",
   "metadata": {},
   "outputs": [],
   "source": [
    "df2 = df1.withColumn('eye', df1.propsMap.eye)\n",
    "df2.show(truncate=False)"
   ]
  },
  {
   "cell_type": "code",
   "execution_count": null,
   "id": "f2b1a972-c4ff-4936-82ab-a22c7b705091",
   "metadata": {},
   "outputs": [],
   "source": [
    "data = [('Shiv Ram', {'hair': 'black', 'eye': 'brown'})]\n",
    "schema = ['name', 'properties']\n",
    "\n",
    "df = spark.createDataFrame(data, schema)\n",
    "df.show()\n",
    "df.printSchema()\n",
    "\n",
    "df1 = df.withColumn('prop', to_json(df.properties))\n",
    "df1.show(truncate=False)\n",
    "df1.printSchema()"
   ]
  },
  {
   "cell_type": "markdown",
   "id": "b4cc07b0-aecf-411f-8b4a-d59ee3ceb8a8",
   "metadata": {},
   "source": [
    "## json_tuple()"
   ]
  },
  {
   "cell_type": "code",
   "execution_count": null,
   "id": "88c7a727-59c0-4cfa-94ad-de0c7081e2f2",
   "metadata": {},
   "outputs": [],
   "source": [
    "data = [('Shiv Ram', '{\"hair\": \"black\", \"eye\": \"brown\", \"skin\": \"brown\"}'), (\"Anurag\", '{\"hair\": \"black\", \"eye\": \"blue\", \"skin\": \"white\"}')]\n",
    "schema = [\"name\", \"props\"]\n",
    "\n",
    "df = spark.createDataFrame(data, schema)\n",
    "df.show(truncate=False)\n",
    "df.printSchema()\n",
    "df2 = df.select(df.name, json_tuple(df.props, 'hair', 'skin').alias('hair', 'skin'))\n",
    "df2.show()"
   ]
  },
  {
   "cell_type": "markdown",
   "id": "21a0666e-a9e4-4dcd-b6bd-bfc92b245c35",
   "metadata": {},
   "source": [
    "## get_json_object()"
   ]
  },
  {
   "cell_type": "code",
   "execution_count": null,
   "id": "c7415196-b70a-4dc9-89b6-7db8aeb5afb7",
   "metadata": {},
   "outputs": [],
   "source": [
    "data = [('Shiv Ram', '{\"address\": {\"city\": \"hyd\", \"state\": \"telangana\"}, \"gender\": \"male\"}'), ('Ram', '{\"address\": {\"city\": \"bangalore\", \"state\": \"karnataka\"}, \"eye\": \"blue\"}')]\n",
    "schema = ['name', 'props']\n",
    "df = spark.createDataFrame(data, schema)\n",
    "df.show(truncate=False)\n",
    "df.printSchema()\n",
    "\n",
    "df1 = df.select('name', get_json_object('props', '$.address.city').alias('city')).show(truncate=False)"
   ]
  },
  {
   "cell_type": "markdown",
   "id": "f77afdc2-d130-4eae-889f-4f86ebb46d9a",
   "metadata": {},
   "source": [
    "## Date Functions"
   ]
  },
  {
   "cell_type": "code",
   "execution_count": null,
   "id": "bbc4fcde-2045-4817-a544-7b8eeb06c93e",
   "metadata": {},
   "outputs": [],
   "source": [
    "df = spark.range(2)\n",
    "df.show()"
   ]
  },
  {
   "cell_type": "code",
   "execution_count": null,
   "id": "f8912917-3528-4ccf-b844-3425ab90bb4a",
   "metadata": {},
   "outputs": [],
   "source": [
    "df1 = df.withColumn('currentDate', current_date())\n",
    "df1.show()\n",
    "df1.printSchema()"
   ]
  },
  {
   "cell_type": "code",
   "execution_count": null,
   "id": "0751a971-25a4-43eb-ae4a-823727d4f0e0",
   "metadata": {},
   "outputs": [],
   "source": [
    "df1.withColumn('currentDate', date_format(current_date(), 'MM.dd.yyyy')).show()"
   ]
  },
  {
   "cell_type": "code",
   "execution_count": null,
   "id": "5aa18ccb-b92d-4a48-83db-a74d38d3d564",
   "metadata": {},
   "outputs": [],
   "source": [
    "df1.withColumn('currentDate', date_format(current_date(), 'MM.dd.yyyy')).withColumn('newDateCol', to_date(lit('05-02-2025'), 'dd-MM-yyyy')).show()"
   ]
  },
  {
   "cell_type": "code",
   "execution_count": null,
   "id": "3fab3c4a-9fd2-4e4f-b4b3-df3c9e7c78e0",
   "metadata": {},
   "outputs": [],
   "source": [
    "df = spark.createDataFrame([('2025-02-05', '2025-01-15')], ['d1', 'd2'])\n",
    "\n",
    "df.withColumn('diff', datediff(df.d2, df.d1)) \\\n",
    "    .withColumn('monthBetween', months_between(df.d2, df.d1)) \\\n",
    "    .withColumn('addMonths', add_months(df.d2, 4)) \\\n",
    "    .withColumn('subMonths', add_months(df.d2, -4)) \\\n",
    "    .withColumn('addDate', date_add(df.d2, 4)) \\\n",
    "    .withColumn('subDate', date_add(df.d2, -4)) \\\n",
    "    .withColumn('year', year(df.d2)) \\\n",
    "    .withColumn('month', month(df.d2)).show()"
   ]
  },
  {
   "cell_type": "markdown",
   "id": "8a3d568b-bd67-4bdb-abab-5a1afcc8d105",
   "metadata": {},
   "source": [
    "## Timestamp Functions"
   ]
  },
  {
   "cell_type": "code",
   "execution_count": null,
   "id": "bb6ac5af-9494-464e-9787-8a4d8be3e59a",
   "metadata": {},
   "outputs": [],
   "source": [
    "df = spark.range(1)\n",
    "df.show()\n",
    "\n",
    "df1 = df.withColumn('timestamp', current_timestamp())\n",
    "df1.show(truncate = False)\n",
    "df1.printSchema()"
   ]
  },
  {
   "cell_type": "code",
   "execution_count": null,
   "id": "3e18e7fd-4b10-4682-95ac-3ecbd772fcdc",
   "metadata": {},
   "outputs": [],
   "source": [
    "df2 = df1.withColumn('toTimestamp', to_timestamp(lit('25.12.2022 06.10.13'), 'dd.MM.yyyy HH.mm.ss'))\n",
    "df2.show(truncate = False)\n",
    "df2.printSchema()"
   ]
  },
  {
   "cell_type": "code",
   "execution_count": null,
   "id": "9cca3329-6b6b-4113-b142-725a78984b3c",
   "metadata": {},
   "outputs": [],
   "source": [
    "df2.select('id', 'timestamp', \\\n",
    "           hour(current_timestamp()).alias('hour'), \\\n",
    "           minute(current_timestamp()).alias('minute'), \\\n",
    "           second(current_timestamp()).alias('second')).show(truncate=False)"
   ]
  },
  {
   "cell_type": "markdown",
   "id": "8197ae1a-89d3-4e10-9e6f-34a6be51f5e3",
   "metadata": {},
   "source": [
    "## Aggregation"
   ]
  },
  {
   "cell_type": "code",
   "execution_count": null,
   "id": "74eb9dfd-d670-47cc-99ee-b7d69c6a3463",
   "metadata": {},
   "outputs": [],
   "source": [
    "data = [('Shiv', 'HR', 1500), ('Ram', 'IT', 3000), ('Asi', 'HR', 1500)]\n",
    "schema = ['employee_name', 'department', 'salary']\n",
    "\n",
    "df = spark.createDataFrame(data, schema)\n",
    "df.show()"
   ]
  },
  {
   "cell_type": "code",
   "execution_count": null,
   "id": "bc0edae8-be5d-43d9-8b86-08674b9083a1",
   "metadata": {},
   "outputs": [],
   "source": [
    "df.select(approx_count_distinct('salary').alias('approx_count_distinct'), \\\n",
    "         avg('salary').alias('avg_salary'), \\\n",
    "         collect_list('salary').alias('collect_list'), \\\n",
    "         collect_set('salary').alias('collect_set'), \\\n",
    "         countDistinct('salary').alias('distinct_count_salary'), \\\n",
    "         count('salary').alias('count_salary')).show()"
   ]
  },
  {
   "cell_type": "markdown",
   "id": "cfac62a0-63a9-4939-b6e5-1bedfc024feb",
   "metadata": {},
   "source": [
    "## Ranking Functions"
   ]
  },
  {
   "cell_type": "code",
   "execution_count": null,
   "id": "e4ae5bfa-6e04-49da-8910-fcdcf8bfa954",
   "metadata": {},
   "outputs": [],
   "source": [
    "data = [\n",
    "    ('Shiv Ram', 'IT', 25000),\n",
    "    ('Ram', 'HR', 23000),\n",
    "    ('Shiv', 'HR', 20000),\n",
    "    ('Sonu', 'RESEARCH', 25000),\n",
    "    ('Anurag', 'IT', 30000),\n",
    "    ('Keerti', 'RESEARCH', 17000),\n",
    "    ('Surbhi', 'RESEARCH', 27000)]\n",
    "schema = ['name', 'dep', 'salary']\n",
    "\n",
    "df = spark.createDataFrame(data, schema)\n",
    "df.show()"
   ]
  },
  {
   "cell_type": "code",
   "execution_count": null,
   "id": "8dc8c6c4-95c7-4739-8c7e-33b4cd4109c9",
   "metadata": {},
   "outputs": [],
   "source": [
    "df.sort('dep').show()"
   ]
  },
  {
   "cell_type": "code",
   "execution_count": null,
   "id": "c70729e6-0ec1-4578-832d-6897760bc80f",
   "metadata": {},
   "outputs": [],
   "source": [
    "window = Window.partitionBy('dep').orderBy('salary')"
   ]
  },
  {
   "cell_type": "code",
   "execution_count": null,
   "id": "a240b05f-0f3f-4c4c-8f8b-24a97b419396",
   "metadata": {},
   "outputs": [],
   "source": [
    "df.withColumn('rowNumber', row_number().over(window)).withColumn('rank', rank().over(window)).withColumn('dense_rank', dense_rank().over(window)).show()"
   ]
  },
  {
   "cell_type": "code",
   "execution_count": null,
   "id": "01f96840-e984-4e3d-b4df-304b8c0af552",
   "metadata": {},
   "outputs": [],
   "source": []
  }
 ],
 "metadata": {
  "kernelspec": {
   "display_name": "PySpark",
   "language": "python",
   "name": "pysparkkernel"
  },
  "language_info": {
   "codemirror_mode": {
    "name": "python",
    "version": 3
   },
   "file_extension": ".py",
   "mimetype": "text/x-python",
   "name": "pyspark",
   "pygments_lexer": "python3"
  }
 },
 "nbformat": 4,
 "nbformat_minor": 5
}
